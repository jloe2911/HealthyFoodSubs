{
 "cells": [
  {
   "cell_type": "markdown",
   "id": "d7941bf8-b911-4dea-9861-048c288b94c0",
   "metadata": {},
   "source": [
    "**------------------------------------------------------------------------------------------------------------------------------------------------------**\n",
    "\n",
    "**Input: Annotated Dataset**\n",
    "\n",
    "**Computes the Kappa-Score + T-test/Wilcoxon**\n",
    "\n",
    "**Output: Kappa-Score + T-test/Wilcoxon**\n",
    "\n",
    "**------------------------------------------------------------------------------------------------------------------------------------------------------**"
   ]
  },
  {
   "cell_type": "markdown",
   "id": "1425b399-c3d5-4b57-8f1e-e33961d6ece4",
   "metadata": {},
   "source": [
    "# Libraries"
   ]
  },
  {
   "cell_type": "code",
   "execution_count": null,
   "id": "3d195f36-0eca-4590-b7d4-04d0eb05cb63",
   "metadata": {},
   "outputs": [],
   "source": [
    "import pandas as pd\n",
    "import numpy as np\n",
    "import matplotlib.pyplot as plt\n",
    "from collections import Counter\n",
    "from sklearn.metrics import cohen_kappa_score\n",
    "import statistics\n",
    "from scipy import stats\n",
    "from scipy.stats import norm\n",
    "import seaborn as sns\n",
    "import warnings\n",
    "warnings.filterwarnings(\"ignore\")"
   ]
  },
  {
   "cell_type": "markdown",
   "id": "363729ab-9f9a-4c98-a051-78a7d1daccff",
   "metadata": {},
   "source": [
    "**Get Annotated Datasets**"
   ]
  },
  {
   "cell_type": "markdown",
   "id": "8037e1cc-24de-4568-bc00-b9ea43bcb1e4",
   "metadata": {},
   "source": [
    "Get Alie's annotations."
   ]
  },
  {
   "cell_type": "code",
   "execution_count": null,
   "id": "fd61a4c9-6fdd-454d-a492-0a6bdc954323",
   "metadata": {},
   "outputs": [],
   "source": [
    "df_alie = pd.read_excel('../Input Data/Dataset_2_annotate_Alie.xlsx', sheet_name='Dataset_2_annotate')\n",
    "df_alie.head()"
   ]
  },
  {
   "cell_type": "markdown",
   "id": "34677d13-50ba-4d36-a70e-c374ff6bb0d0",
   "metadata": {},
   "source": [
    "Get Ilse's annotations."
   ]
  },
  {
   "cell_type": "code",
   "execution_count": null,
   "id": "04e38454-ee82-490d-83c3-1a45c3fe09ae",
   "metadata": {},
   "outputs": [],
   "source": [
    "df_ilse = pd.read_excel('../Input Data/Dataset_2_annotate_Ilse.xlsx', sheet_name='Dataset_2_annotate')\n",
    "df_ilse.head()"
   ]
  },
  {
   "cell_type": "markdown",
   "id": "2ab8a905-2e34-4a99-8cc0-ee54e6a8f73c",
   "metadata": {},
   "source": [
    "**Merge all datasets into one**"
   ]
  },
  {
   "cell_type": "code",
   "execution_count": null,
   "id": "351da3cc-155f-4cde-9c8d-cb1ef9904727",
   "metadata": {},
   "outputs": [],
   "source": [
    "df = pd.DataFrame()\n",
    "df['Food label'] = df_alie['Food label']\n",
    "df['Subs A'] = df_alie['Subs A']\n",
    "df['Subs B'] = df_alie['Subs B']\n",
    "df['Healthiness_Alie'] = df_alie['Healthiness']\n",
    "df['Healthiness_Ilse'] = df_ilse['Healthiness']\n",
    "df.head()"
   ]
  },
  {
   "cell_type": "markdown",
   "id": "fee6a9b0-f140-4ba4-9c35-43d45f52adba",
   "metadata": {},
   "source": [
    "**Preprocess the dataframe**"
   ]
  },
  {
   "cell_type": "code",
   "execution_count": null,
   "id": "5768dd04-1ccf-4965-b6f3-d3254ec85f3a",
   "metadata": {},
   "outputs": [],
   "source": [
    "print(Counter(df['Healthiness_Alie']))\n",
    "print(Counter(df['Healthiness_Ilse']))"
   ]
  },
  {
   "cell_type": "markdown",
   "id": "b0400630-a0e2-4449-b975-5a72029321f6",
   "metadata": {},
   "source": [
    "If any NA values are present, then drop that row."
   ]
  },
  {
   "cell_type": "code",
   "execution_count": null,
   "id": "f03460b8-48a0-4589-ac5a-bae0dc354d2a",
   "metadata": {},
   "outputs": [],
   "source": [
    "df_filtered = df.dropna(subset=['Healthiness_Alie', 'Healthiness_Ilse'], how='any')"
   ]
  },
  {
   "cell_type": "code",
   "execution_count": null,
   "id": "de0e43c4-58ab-46df-94ca-1bab52c28e22",
   "metadata": {},
   "outputs": [],
   "source": [
    "print(Counter(df_filtered['Healthiness_Alie']))\n",
    "print(Counter(df_filtered['Healthiness_Ilse']))"
   ]
  },
  {
   "cell_type": "markdown",
   "id": "34fdae8a-e97e-49e7-ad40-de5ad6cf5e55",
   "metadata": {},
   "source": [
    "**Compute Kappa-Score**"
   ]
  },
  {
   "cell_type": "code",
   "execution_count": null,
   "id": "5aef5542-3bfa-4706-8a23-3f39ae69a4e9",
   "metadata": {},
   "outputs": [],
   "source": [
    "cohen_kappa_score(df_filtered['Healthiness_Alie'], df_filtered['Healthiness_Ilse'])"
   ]
  },
  {
   "cell_type": "code",
   "execution_count": null,
   "id": "016e241c-f2bd-4d25-af38-36daa652770f",
   "metadata": {},
   "outputs": [],
   "source": [
    "match = df_filtered[df_filtered['Healthiness_Alie'] == df_filtered['Healthiness_Ilse']]\n",
    "num_match = len(match)\n",
    "print(f'# Matches between Nutri-Scholars: {num_match}')"
   ]
  },
  {
   "cell_type": "code",
   "execution_count": null,
   "id": "9b1c1502-119d-49b1-a518-a7bc1a778478",
   "metadata": {},
   "outputs": [],
   "source": [
    "print(f'# Dataset (after removing NA): {len(df_filtered)}')"
   ]
  },
  {
   "cell_type": "code",
   "execution_count": null,
   "id": "0c0297ee-26c0-4e9d-ac02-a3354d672aba",
   "metadata": {},
   "outputs": [],
   "source": [
    "num_match/len(df_filtered)"
   ]
  },
  {
   "cell_type": "markdown",
   "id": "20769890-944e-4d34-a271-31abbebd7c72",
   "metadata": {},
   "source": [
    "This cell purely computes the 3x3 contingency matrix as shown in the paper (see Table 7.3)."
   ]
  },
  {
   "cell_type": "code",
   "execution_count": null,
   "id": "79c11595-dd44-4123-ab54-0950800d3beb",
   "metadata": {},
   "outputs": [],
   "source": [
    "cell_a = 0\n",
    "cell_b = 0\n",
    "cell_c = 0\n",
    "cell_d = 0\n",
    "cell_e = 0\n",
    "cell_f = 0\n",
    "cell_g = 0\n",
    "cell_h = 0\n",
    "cell_i = 0\n",
    "\n",
    "for i, row in df_filtered.iterrows():\n",
    "    if row['Healthiness_Alie'] == 'Sub A' and row['Healthiness_Ilse'] == 'Sub A':\n",
    "        cell_a += 1 \n",
    "    elif row['Healthiness_Alie'] == 'Sub B' and row['Healthiness_Ilse'] == 'Sub A':\n",
    "        cell_b += 1 \n",
    "    elif row['Healthiness_Alie'] == 'NC' and row['Healthiness_Ilse'] == 'Sub A':\n",
    "        cell_c += 1 \n",
    "    elif row['Healthiness_Alie'] == 'Sub A' and row['Healthiness_Ilse'] == 'Sub B':\n",
    "        cell_d += 1 \n",
    "    elif row['Healthiness_Alie'] == 'Sub B' and row['Healthiness_Ilse'] == 'Sub B':\n",
    "        cell_e += 1 \n",
    "    elif row['Healthiness_Alie'] == 'NC' and row['Healthiness_Ilse'] == 'Sub B':\n",
    "        cell_f += 1 \n",
    "    elif row['Healthiness_Alie'] == 'Sub A' and row['Healthiness_Ilse'] == 'NC':\n",
    "        cell_g += 1 \n",
    "    elif row['Healthiness_Alie'] == 'Sub B' and row['Healthiness_Ilse'] == 'NC':\n",
    "        cell_h += 1 \n",
    "    elif row['Healthiness_Alie'] == 'NC' and row['Healthiness_Ilse'] == 'NC':\n",
    "        cell_i += 1 "
   ]
  },
  {
   "cell_type": "markdown",
   "id": "95aa6e95-a201-4622-bcc2-0662a29a6ce7",
   "metadata": {},
   "source": [
    "**T-Test**"
   ]
  },
  {
   "cell_type": "markdown",
   "id": "e7ff0b72-05bd-4b5d-8cf1-829220f54622",
   "metadata": {},
   "source": [
    "Sample 1 or X: nutri-score values that are obtained by looking at the annotations for which both experts agreed (e.g., what is healthiest from a nutritional point of view).\n",
    "\n",
    "Sample 2 or Y: nutri-score values that are attained by looking at the oppositie of what the experts chose (e.g., what is not healthiest from a nutrtitional point of view).\n",
    "\n",
    "Goal: test whether the mean of sample 1 is significantly different from the mean of sample 2"
   ]
  },
  {
   "cell_type": "code",
   "execution_count": null,
   "id": "fa45be2c-4f6c-4f45-8f14-c0aaaf4268c6",
   "metadata": {},
   "outputs": [],
   "source": [
    "nutri_scores = pd.read_csv('../Output/nutri_scores.csv')\n",
    "nutri_scores = nutri_scores[['Shrt_Desc', 'nutri_values']]"
   ]
  },
  {
   "cell_type": "code",
   "execution_count": null,
   "id": "bab0eafb-2cc7-46ed-bd3b-78b1a62c0e28",
   "metadata": {},
   "outputs": [],
   "source": [
    "match = match.merge(nutri_scores, left_on='Subs A', right_on='Shrt_Desc')\n",
    "match = match[['Food label', 'Subs A', 'Subs B', 'Healthiness_Alie', 'nutri_values']]\n",
    "match.rename(columns = {'nutri_values':'Nutri-Values Sub A'}, inplace = True)\n",
    "match = match.merge(nutri_scores, left_on='Subs B', right_on='Shrt_Desc')\n",
    "match = match[['Food label', 'Subs A', 'Subs B', 'Healthiness_Alie', 'Nutri-Values Sub A', 'nutri_values']]\n",
    "match.rename(columns = {'nutri_values':'Nutri-Values Sub B'}, inplace = True)\n",
    "match.head()"
   ]
  },
  {
   "cell_type": "markdown",
   "id": "46a1c4ef-6272-4d14-b197-633c0f4c4da0",
   "metadata": {},
   "source": [
    "Here, we create sample 1 (called X) and sample 2 (called Y).\n",
    "\n",
    "Sample 1: Nutri value scores of the substitutes for which both experts agreed. \n",
    "\n",
    "Sample 2: Nutri value scores of the opposite substitutes for which both experts agreed."
   ]
  },
  {
   "cell_type": "code",
   "execution_count": null,
   "id": "5dccb590-6db4-4f85-acea-df0061bf20aa",
   "metadata": {},
   "outputs": [],
   "source": [
    "X = [] \n",
    "Y = []\n",
    "\n",
    "for i, row in match.iterrows():\n",
    "    if row['Healthiness_Alie'] == 'Sub A':\n",
    "        X.append(row['Nutri-Values Sub A'])\n",
    "        Y.append(row['Nutri-Values Sub B'])\n",
    "    elif row['Healthiness_Alie'] == 'Sub B':\n",
    "        X.append(row['Nutri-Values Sub B'])\n",
    "        Y.append(row['Nutri-Values Sub A'])\n",
    "    else: \n",
    "        X.append(np.nan)\n",
    "        Y.append(np.nan)\n",
    "        \n",
    "match['X'] = X\n",
    "match['Y'] = Y\n",
    "match = match.dropna()\n",
    "match.head()"
   ]
  },
  {
   "cell_type": "markdown",
   "id": "8b2a3120-398d-478c-beee-8d6b1b18e78c",
   "metadata": {},
   "source": [
    "Plot sample 1."
   ]
  },
  {
   "cell_type": "code",
   "execution_count": null,
   "id": "e2a018c9-2154-49c4-b88c-70e993526ddf",
   "metadata": {},
   "outputs": [],
   "source": [
    "mu, std = norm.fit(match['X']) \n",
    "plt.hist(match['X'], bins=25, density=True, color = 'y', alpha=0.5, label='Sample 1')\n",
    "xmin, xmax = plt.xlim()\n",
    "x_1 = np.linspace(xmin, xmax, 100)\n",
    "p_1 = norm.pdf(x_1, mu, std)\n",
    "plt.plot(x_1, p_1, 'k', linewidth = 2)\n",
    "plt.legend(loc='upper right')\n",
    "plt.show()"
   ]
  },
  {
   "cell_type": "markdown",
   "id": "5a44c294-a518-45fb-bf03-32b9ee3fa36b",
   "metadata": {},
   "source": [
    "Plot sample 2."
   ]
  },
  {
   "cell_type": "code",
   "execution_count": null,
   "id": "6350a96c-bf65-4cd0-92e9-d44877eaecf7",
   "metadata": {},
   "outputs": [],
   "source": [
    "mu, std = norm.fit(match['Y']) \n",
    "plt.hist(match['Y'], bins=25, density=True, color = 'g', alpha=0.5, label='Sample 2')\n",
    "xmin, xmax = plt.xlim()\n",
    "x_2 = np.linspace(xmin, xmax, 100)\n",
    "p_2 = norm.pdf(x_2, mu, std)\n",
    "plt.plot(x_2, p_2, 'k', linewidth = 2)\n",
    "plt.legend(loc='upper right')\n",
    "plt.show()"
   ]
  },
  {
   "cell_type": "markdown",
   "id": "e42707c3-2701-41d2-a37b-56a81accc10a",
   "metadata": {},
   "source": [
    "Plot both samples against each other."
   ]
  },
  {
   "cell_type": "code",
   "execution_count": null,
   "id": "a3c3713b-03f7-4247-ac2b-732bc5f7f439",
   "metadata": {},
   "outputs": [],
   "source": [
    "sns.distplot(a=match.X, hist=False, color = 'y', label='Sample 1')\n",
    "sns.distplot(a=match.Y, hist=False, color = 'g', label='Sample 2')\n",
    "plt.legend(loc='upper right')\n",
    "plt.show()"
   ]
  },
  {
   "cell_type": "markdown",
   "id": "0aed265c-5106-4067-b27b-3e0838c9b50b",
   "metadata": {},
   "source": [
    "Paired Sample T-test."
   ]
  },
  {
   "cell_type": "code",
   "execution_count": null,
   "id": "1ba77c0c-19fc-46d3-a67e-58fbc93a1511",
   "metadata": {},
   "outputs": [],
   "source": [
    "print(\"%.20f\" % stats.ttest_rel(match['X'], match['Y']).pvalue)"
   ]
  },
  {
   "cell_type": "code",
   "execution_count": null,
   "id": "ea9a5973-f0a2-4414-9773-11cc40c4c683",
   "metadata": {},
   "outputs": [],
   "source": [
    "print(\"%.20f\" % stats.ttest_rel(match['X'], match['Y'], alternative='less').pvalue)"
   ]
  },
  {
   "cell_type": "markdown",
   "id": "d335e7be-8622-4e9e-b8f4-dae8d04255d5",
   "metadata": {},
   "source": [
    "**Plot Food Groups for NC options**"
   ]
  },
  {
   "cell_type": "code",
   "execution_count": null,
   "id": "867fdce3-f1d3-425f-bef4-039ea2b3c86c",
   "metadata": {},
   "outputs": [],
   "source": [
    "match = df_filtered[df_filtered['Healthiness_Alie'] == df_filtered['Healthiness_Ilse']]\n",
    "nc = match[match['Healthiness_Alie'] == 'NC']\n",
    "nc.head()"
   ]
  },
  {
   "cell_type": "code",
   "execution_count": null,
   "id": "21486140-ecf9-4996-9ad0-e967a3bb8e22",
   "metadata": {},
   "outputs": [],
   "source": [
    "food_groups = pd.read_csv('../Input Data/food_category.csv')\n",
    "food_groups['NDB_No'] = 'http://idea.rpi.edu/heals/kb/usda#' + food_groups.NDB_No.astype(str).str.rjust(5,'0')\n",
    "food_groups = food_groups[['NDB_No', 'FdGrp_Desc']]\n",
    "food_groups.head()"
   ]
  },
  {
   "cell_type": "code",
   "execution_count": null,
   "id": "81b428e3-2c6a-4374-b0fa-1ee647402112",
   "metadata": {},
   "outputs": [],
   "source": [
    "food_labels = pd.read_excel('../Input Data/ABBREV.xlsx', sheet_name='ABBREV')\n",
    "food_labels.NDB_No = 'http://idea.rpi.edu/heals/kb/usda#' + food_labels.NDB_No.astype(str).str.rjust(5,'0')\n",
    "food_labels = food_labels[['NDB_No', 'Shrt_Desc']]\n",
    "food_labels.head()"
   ]
  },
  {
   "cell_type": "code",
   "execution_count": null,
   "id": "9d6eb38a-2afe-4e29-8372-45cff111473c",
   "metadata": {},
   "outputs": [],
   "source": [
    "df1 = pd.merge(food_groups, food_labels, how='left', on='NDB_No')\n",
    "df1 = df1.rename(columns = {'Shrt_Desc':'Food label'})\n",
    "df1.head()"
   ]
  },
  {
   "cell_type": "code",
   "execution_count": null,
   "id": "65a1c092-8961-4f9d-9910-9396790f051c",
   "metadata": {},
   "outputs": [],
   "source": [
    "df2 = pd.merge(nc, df1, how='left', on='Food label')\n",
    "df2 = df2[['Food label', 'FdGrp_Desc']]\n",
    "df2 = df2.drop_duplicates()\n",
    "df2.head()"
   ]
  },
  {
   "cell_type": "code",
   "execution_count": null,
   "id": "43976f35-f41b-49bd-ba7e-5bc7efea21a4",
   "metadata": {},
   "outputs": [],
   "source": [
    "df_ = pd.DataFrame()\n",
    "df_['food_groups'] = list(Counter(df2['FdGrp_Desc']).keys())\n",
    "df_['count'] = Counter(df2['FdGrp_Desc']).values()\n",
    "df_ = df_.sort_values('food_groups', ascending=False)"
   ]
  },
  {
   "cell_type": "code",
   "execution_count": null,
   "id": "3c5750f5-9909-48b0-a1ca-fd0a2c6ccaca",
   "metadata": {},
   "outputs": [],
   "source": [
    "fig, ax = plt.subplots()\n",
    "bars = ax.barh(df_['food_groups'], df_['count'], color='purple', alpha=0.5)\n",
    "\n",
    "fig.set_size_inches(12, 8)\n",
    "\n",
    "for i, v in enumerate(df_['count']):\n",
    "    ax.text(v+1, i, str(v), fontweight='bold')\n",
    "    \n",
    "plt.ylabel('Food Categorization')\n",
    "plt.xlabel('Count')\n",
    "plt.show()"
   ]
  }
 ],
 "metadata": {
  "kernelspec": {
   "display_name": "Python 3 (ipykernel)",
   "language": "python",
   "name": "python3"
  },
  "language_info": {
   "codemirror_mode": {
    "name": "ipython",
    "version": 3
   },
   "file_extension": ".py",
   "mimetype": "text/x-python",
   "name": "python",
   "nbconvert_exporter": "python",
   "pygments_lexer": "ipython3",
   "version": "3.8.16"
  }
 },
 "nbformat": 4,
 "nbformat_minor": 5
}
