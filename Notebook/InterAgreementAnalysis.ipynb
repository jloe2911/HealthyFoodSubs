{
 "cells": [
  {
   "cell_type": "markdown",
   "id": "d7941bf8-b911-4dea-9861-048c288b94c0",
   "metadata": {},
   "source": [
    "**------------------------------------------------------------------------------------------------------------------------------------------------------**\n",
    "\n",
    "**Input: Annotated Dataset**\n",
    "\n",
    "**Computes the Kappa-Score + T-test/Wilcoxon**\n",
    "\n",
    "**Output: Kappa-Score + T-test/Wilcoxon**\n",
    "\n",
    "**------------------------------------------------------------------------------------------------------------------------------------------------------**"
   ]
  },
  {
   "cell_type": "markdown",
   "id": "1425b399-c3d5-4b57-8f1e-e33961d6ece4",
   "metadata": {},
   "source": [
    "# Libraries"
   ]
  },
  {
   "cell_type": "code",
   "execution_count": 1,
   "id": "3d195f36-0eca-4590-b7d4-04d0eb05cb63",
   "metadata": {},
   "outputs": [],
   "source": [
    "import pandas as pd\n",
    "import numpy as np\n",
    "import matplotlib.pyplot as plt\n",
    "from collections import Counter\n",
    "from sklearn.metrics import cohen_kappa_score\n",
    "import statistics\n",
    "from scipy import stats\n",
    "from scipy.stats import norm\n",
    "import warnings\n",
    "warnings.filterwarnings(\"ignore\")"
   ]
  },
  {
   "cell_type": "markdown",
   "id": "363729ab-9f9a-4c98-a051-78a7d1daccff",
   "metadata": {},
   "source": [
    "**Get Annotated Datasets**"
   ]
  },
  {
   "cell_type": "markdown",
   "id": "8037e1cc-24de-4568-bc00-b9ea43bcb1e4",
   "metadata": {},
   "source": [
    "Get Alie's annotations."
   ]
  },
  {
   "cell_type": "code",
   "execution_count": 2,
   "id": "fd61a4c9-6fdd-454d-a492-0a6bdc954323",
   "metadata": {},
   "outputs": [
    {
     "data": {
      "text/html": [
       "<div>\n",
       "<style scoped>\n",
       "    .dataframe tbody tr th:only-of-type {\n",
       "        vertical-align: middle;\n",
       "    }\n",
       "\n",
       "    .dataframe tbody tr th {\n",
       "        vertical-align: top;\n",
       "    }\n",
       "\n",
       "    .dataframe thead th {\n",
       "        text-align: right;\n",
       "    }\n",
       "</style>\n",
       "<table border=\"1\" class=\"dataframe\">\n",
       "  <thead>\n",
       "    <tr style=\"text-align: right;\">\n",
       "      <th></th>\n",
       "      <th>Food label</th>\n",
       "      <th>Subs A</th>\n",
       "      <th>Subs B</th>\n",
       "      <th>Relevance</th>\n",
       "      <th>Healthiness</th>\n",
       "      <th>Explanation E</th>\n",
       "      <th>Questions</th>\n",
       "    </tr>\n",
       "  </thead>\n",
       "  <tbody>\n",
       "    <tr>\n",
       "      <th>0</th>\n",
       "      <td>BUTTER OIL,ANHYDROUS</td>\n",
       "      <td>CHEESE,MEXICAN,QUESO CHIHUAHUA</td>\n",
       "      <td>CHEESE,LOW-SODIUM,CHEDDAR OR COLBY</td>\n",
       "      <td>No</td>\n",
       "      <td>Sub B</td>\n",
       "      <td>NaN</td>\n",
       "      <td>NaN</td>\n",
       "    </tr>\n",
       "    <tr>\n",
       "      <th>1</th>\n",
       "      <td>CHEESE,BRICK</td>\n",
       "      <td>CHEESE,LOW-SODIUM,CHEDDAR OR COLBY</td>\n",
       "      <td>CHEESE,MOZZARELLA,WHL MILK</td>\n",
       "      <td>NaN</td>\n",
       "      <td>Sub A</td>\n",
       "      <td>NaN</td>\n",
       "      <td>NaN</td>\n",
       "    </tr>\n",
       "    <tr>\n",
       "      <th>2</th>\n",
       "      <td>CHEESE,CHEDDAR</td>\n",
       "      <td>CHEESE,COLBY</td>\n",
       "      <td>EGG,WHL,RAW,FRSH</td>\n",
       "      <td>Sub A</td>\n",
       "      <td>Sub B</td>\n",
       "      <td>NaN</td>\n",
       "      <td>NaN</td>\n",
       "    </tr>\n",
       "    <tr>\n",
       "      <th>3</th>\n",
       "      <td>CHEESE,FETA</td>\n",
       "      <td>CHEESE,FONTINA</td>\n",
       "      <td>CHEESE,SWISS</td>\n",
       "      <td>NaN</td>\n",
       "      <td>Sub B</td>\n",
       "      <td>Swiss: similar energy, higher protein, lower s...</td>\n",
       "      <td>NaN</td>\n",
       "    </tr>\n",
       "    <tr>\n",
       "      <th>4</th>\n",
       "      <td>CHEESE,FONTINA</td>\n",
       "      <td>CHEESE,BRIE</td>\n",
       "      <td>CHEESE,SWISS</td>\n",
       "      <td>NaN</td>\n",
       "      <td>Sub B</td>\n",
       "      <td>Swiss: higher energy, more protein, less sodiu...</td>\n",
       "      <td>NaN</td>\n",
       "    </tr>\n",
       "  </tbody>\n",
       "</table>\n",
       "</div>"
      ],
      "text/plain": [
       "             Food label                              Subs A  \\\n",
       "0  BUTTER OIL,ANHYDROUS      CHEESE,MEXICAN,QUESO CHIHUAHUA   \n",
       "1          CHEESE,BRICK  CHEESE,LOW-SODIUM,CHEDDAR OR COLBY   \n",
       "2        CHEESE,CHEDDAR                        CHEESE,COLBY   \n",
       "3           CHEESE,FETA                      CHEESE,FONTINA   \n",
       "4        CHEESE,FONTINA                         CHEESE,BRIE   \n",
       "\n",
       "                               Subs B Relevance Healthiness  \\\n",
       "0  CHEESE,LOW-SODIUM,CHEDDAR OR COLBY        No       Sub B   \n",
       "1          CHEESE,MOZZARELLA,WHL MILK       NaN       Sub A   \n",
       "2                    EGG,WHL,RAW,FRSH     Sub A       Sub B   \n",
       "3                        CHEESE,SWISS       NaN       Sub B   \n",
       "4                        CHEESE,SWISS       NaN       Sub B   \n",
       "\n",
       "                                       Explanation E  Questions  \n",
       "0                                                NaN        NaN  \n",
       "1                                                NaN        NaN  \n",
       "2                                                NaN        NaN  \n",
       "3  Swiss: similar energy, higher protein, lower s...        NaN  \n",
       "4  Swiss: higher energy, more protein, less sodiu...        NaN  "
      ]
     },
     "execution_count": 2,
     "metadata": {},
     "output_type": "execute_result"
    }
   ],
   "source": [
    "df_alie = pd.read_excel('../Input Data/Dataset_2_annotate_Alie.xlsx', sheet_name='Dataset_2_annotate')\n",
    "df_alie.head()"
   ]
  },
  {
   "cell_type": "markdown",
   "id": "34677d13-50ba-4d36-a70e-c374ff6bb0d0",
   "metadata": {},
   "source": [
    "Get Ilse's annotations."
   ]
  },
  {
   "cell_type": "code",
   "execution_count": 3,
   "id": "04e38454-ee82-490d-83c3-1a45c3fe09ae",
   "metadata": {},
   "outputs": [
    {
     "data": {
      "text/html": [
       "<div>\n",
       "<style scoped>\n",
       "    .dataframe tbody tr th:only-of-type {\n",
       "        vertical-align: middle;\n",
       "    }\n",
       "\n",
       "    .dataframe tbody tr th {\n",
       "        vertical-align: top;\n",
       "    }\n",
       "\n",
       "    .dataframe thead th {\n",
       "        text-align: right;\n",
       "    }\n",
       "</style>\n",
       "<table border=\"1\" class=\"dataframe\">\n",
       "  <thead>\n",
       "    <tr style=\"text-align: right;\">\n",
       "      <th></th>\n",
       "      <th>Food label</th>\n",
       "      <th>Subs A</th>\n",
       "      <th>Subs B</th>\n",
       "      <th>Relevance</th>\n",
       "      <th>Healthiness</th>\n",
       "      <th>Explanation E</th>\n",
       "    </tr>\n",
       "  </thead>\n",
       "  <tbody>\n",
       "    <tr>\n",
       "      <th>0</th>\n",
       "      <td>BUTTER OIL,ANHYDROUS</td>\n",
       "      <td>CHEESE,MEXICAN,QUESO CHIHUAHUA</td>\n",
       "      <td>CHEESE,LOW-SODIUM,CHEDDAR OR COLBY</td>\n",
       "      <td>No</td>\n",
       "      <td>Sub B</td>\n",
       "      <td>NaN</td>\n",
       "    </tr>\n",
       "    <tr>\n",
       "      <th>1</th>\n",
       "      <td>CHEESE,BRICK</td>\n",
       "      <td>CHEESE,LOW-SODIUM,CHEDDAR OR COLBY</td>\n",
       "      <td>CHEESE,MOZZARELLA,WHL MILK</td>\n",
       "      <td>NaN</td>\n",
       "      <td>Sub A</td>\n",
       "      <td>NaN</td>\n",
       "    </tr>\n",
       "    <tr>\n",
       "      <th>2</th>\n",
       "      <td>CHEESE,CHEDDAR</td>\n",
       "      <td>CHEESE,COLBY</td>\n",
       "      <td>EGG,WHL,RAW,FRSH</td>\n",
       "      <td>Sub A</td>\n",
       "      <td>Sub B</td>\n",
       "      <td>NaN</td>\n",
       "    </tr>\n",
       "    <tr>\n",
       "      <th>3</th>\n",
       "      <td>CHEESE,FETA</td>\n",
       "      <td>CHEESE,FONTINA</td>\n",
       "      <td>CHEESE,SWISS</td>\n",
       "      <td>NaN</td>\n",
       "      <td>Sub B</td>\n",
       "      <td>NaN</td>\n",
       "    </tr>\n",
       "    <tr>\n",
       "      <th>4</th>\n",
       "      <td>CHEESE,FONTINA</td>\n",
       "      <td>CHEESE,BRIE</td>\n",
       "      <td>CHEESE,SWISS</td>\n",
       "      <td>NaN</td>\n",
       "      <td>Sub B</td>\n",
       "      <td>NaN</td>\n",
       "    </tr>\n",
       "  </tbody>\n",
       "</table>\n",
       "</div>"
      ],
      "text/plain": [
       "             Food label                              Subs A  \\\n",
       "0  BUTTER OIL,ANHYDROUS      CHEESE,MEXICAN,QUESO CHIHUAHUA   \n",
       "1          CHEESE,BRICK  CHEESE,LOW-SODIUM,CHEDDAR OR COLBY   \n",
       "2        CHEESE,CHEDDAR                        CHEESE,COLBY   \n",
       "3           CHEESE,FETA                      CHEESE,FONTINA   \n",
       "4        CHEESE,FONTINA                         CHEESE,BRIE   \n",
       "\n",
       "                               Subs B Relevance  Healthiness Explanation E  \n",
       "0  CHEESE,LOW-SODIUM,CHEDDAR OR COLBY         No       Sub B           NaN  \n",
       "1          CHEESE,MOZZARELLA,WHL MILK        NaN       Sub A           NaN  \n",
       "2                    EGG,WHL,RAW,FRSH      Sub A       Sub B           NaN  \n",
       "3                        CHEESE,SWISS        NaN       Sub B           NaN  \n",
       "4                        CHEESE,SWISS        NaN       Sub B           NaN  "
      ]
     },
     "execution_count": 3,
     "metadata": {},
     "output_type": "execute_result"
    }
   ],
   "source": [
    "df_ilse = pd.read_excel('../Input Data/Dataset_2_annotate_Ilse.xlsx', sheet_name='Dataset_2_annotate')\n",
    "df_ilse.head()"
   ]
  },
  {
   "cell_type": "markdown",
   "id": "2ab8a905-2e34-4a99-8cc0-ee54e6a8f73c",
   "metadata": {},
   "source": [
    "**Merge all datasets into one**"
   ]
  },
  {
   "cell_type": "code",
   "execution_count": 4,
   "id": "351da3cc-155f-4cde-9c8d-cb1ef9904727",
   "metadata": {},
   "outputs": [
    {
     "data": {
      "text/html": [
       "<div>\n",
       "<style scoped>\n",
       "    .dataframe tbody tr th:only-of-type {\n",
       "        vertical-align: middle;\n",
       "    }\n",
       "\n",
       "    .dataframe tbody tr th {\n",
       "        vertical-align: top;\n",
       "    }\n",
       "\n",
       "    .dataframe thead th {\n",
       "        text-align: right;\n",
       "    }\n",
       "</style>\n",
       "<table border=\"1\" class=\"dataframe\">\n",
       "  <thead>\n",
       "    <tr style=\"text-align: right;\">\n",
       "      <th></th>\n",
       "      <th>Food label</th>\n",
       "      <th>Subs A</th>\n",
       "      <th>Subs B</th>\n",
       "      <th>Healthiness_Alie</th>\n",
       "      <th>Healthiness_Ilse</th>\n",
       "    </tr>\n",
       "  </thead>\n",
       "  <tbody>\n",
       "    <tr>\n",
       "      <th>0</th>\n",
       "      <td>BUTTER OIL,ANHYDROUS</td>\n",
       "      <td>CHEESE,MEXICAN,QUESO CHIHUAHUA</td>\n",
       "      <td>CHEESE,LOW-SODIUM,CHEDDAR OR COLBY</td>\n",
       "      <td>Sub B</td>\n",
       "      <td>Sub B</td>\n",
       "    </tr>\n",
       "    <tr>\n",
       "      <th>1</th>\n",
       "      <td>CHEESE,BRICK</td>\n",
       "      <td>CHEESE,LOW-SODIUM,CHEDDAR OR COLBY</td>\n",
       "      <td>CHEESE,MOZZARELLA,WHL MILK</td>\n",
       "      <td>Sub A</td>\n",
       "      <td>Sub A</td>\n",
       "    </tr>\n",
       "    <tr>\n",
       "      <th>2</th>\n",
       "      <td>CHEESE,CHEDDAR</td>\n",
       "      <td>CHEESE,COLBY</td>\n",
       "      <td>EGG,WHL,RAW,FRSH</td>\n",
       "      <td>Sub B</td>\n",
       "      <td>Sub B</td>\n",
       "    </tr>\n",
       "    <tr>\n",
       "      <th>3</th>\n",
       "      <td>CHEESE,FETA</td>\n",
       "      <td>CHEESE,FONTINA</td>\n",
       "      <td>CHEESE,SWISS</td>\n",
       "      <td>Sub B</td>\n",
       "      <td>Sub B</td>\n",
       "    </tr>\n",
       "    <tr>\n",
       "      <th>4</th>\n",
       "      <td>CHEESE,FONTINA</td>\n",
       "      <td>CHEESE,BRIE</td>\n",
       "      <td>CHEESE,SWISS</td>\n",
       "      <td>Sub B</td>\n",
       "      <td>Sub B</td>\n",
       "    </tr>\n",
       "  </tbody>\n",
       "</table>\n",
       "</div>"
      ],
      "text/plain": [
       "             Food label                              Subs A  \\\n",
       "0  BUTTER OIL,ANHYDROUS      CHEESE,MEXICAN,QUESO CHIHUAHUA   \n",
       "1          CHEESE,BRICK  CHEESE,LOW-SODIUM,CHEDDAR OR COLBY   \n",
       "2        CHEESE,CHEDDAR                        CHEESE,COLBY   \n",
       "3           CHEESE,FETA                      CHEESE,FONTINA   \n",
       "4        CHEESE,FONTINA                         CHEESE,BRIE   \n",
       "\n",
       "                               Subs B Healthiness_Alie Healthiness_Ilse  \n",
       "0  CHEESE,LOW-SODIUM,CHEDDAR OR COLBY            Sub B            Sub B  \n",
       "1          CHEESE,MOZZARELLA,WHL MILK            Sub A            Sub A  \n",
       "2                    EGG,WHL,RAW,FRSH            Sub B            Sub B  \n",
       "3                        CHEESE,SWISS            Sub B            Sub B  \n",
       "4                        CHEESE,SWISS            Sub B            Sub B  "
      ]
     },
     "execution_count": 4,
     "metadata": {},
     "output_type": "execute_result"
    }
   ],
   "source": [
    "df = pd.DataFrame()\n",
    "df['Food label'] = df_alie['Food label']\n",
    "df['Subs A'] = df_alie['Subs A']\n",
    "df['Subs B'] = df_alie['Subs B']\n",
    "df['Healthiness_Alie'] = df_alie['Healthiness']\n",
    "df['Healthiness_Ilse'] = df_ilse['Healthiness']\n",
    "df.head()"
   ]
  },
  {
   "cell_type": "markdown",
   "id": "fee6a9b0-f140-4ba4-9c35-43d45f52adba",
   "metadata": {},
   "source": [
    "**Preprocess the dataframe**"
   ]
  },
  {
   "cell_type": "code",
   "execution_count": 5,
   "id": "5768dd04-1ccf-4965-b6f3-d3254ec85f3a",
   "metadata": {},
   "outputs": [
    {
     "name": "stdout",
     "output_type": "stream",
     "text": [
      "Counter({nan: 721, 'NC': 222, 'Sub B': 124, 'Sub A': 120})\n",
      "Counter({nan: 655, 'NC': 234, 'Sub A': 150, 'Sub B': 148})\n"
     ]
    }
   ],
   "source": [
    "print(Counter(df['Healthiness_Alie']))\n",
    "print(Counter(df['Healthiness_Ilse']))"
   ]
  },
  {
   "cell_type": "markdown",
   "id": "b0400630-a0e2-4449-b975-5a72029321f6",
   "metadata": {},
   "source": [
    "If any NA values are present, then drop that row."
   ]
  },
  {
   "cell_type": "code",
   "execution_count": 6,
   "id": "f03460b8-48a0-4589-ac5a-bae0dc354d2a",
   "metadata": {},
   "outputs": [],
   "source": [
    "df_filtered = df.dropna(subset=['Healthiness_Alie', 'Healthiness_Ilse'], how='any')"
   ]
  },
  {
   "cell_type": "code",
   "execution_count": 7,
   "id": "de0e43c4-58ab-46df-94ca-1bab52c28e22",
   "metadata": {},
   "outputs": [
    {
     "name": "stdout",
     "output_type": "stream",
     "text": [
      "Counter({'NC': 222, 'Sub B': 123, 'Sub A': 120})\n",
      "Counter({'NC': 217, 'Sub B': 125, 'Sub A': 123})\n"
     ]
    }
   ],
   "source": [
    "print(Counter(df_filtered['Healthiness_Alie']))\n",
    "print(Counter(df_filtered['Healthiness_Ilse']))"
   ]
  },
  {
   "cell_type": "markdown",
   "id": "34fdae8a-e97e-49e7-ad40-de5ad6cf5e55",
   "metadata": {},
   "source": [
    "**Compute Kappa-Score**"
   ]
  },
  {
   "cell_type": "code",
   "execution_count": 8,
   "id": "5aef5542-3bfa-4706-8a23-3f39ae69a4e9",
   "metadata": {},
   "outputs": [
    {
     "data": {
      "text/plain": [
       "0.7066692769511878"
      ]
     },
     "execution_count": 8,
     "metadata": {},
     "output_type": "execute_result"
    }
   ],
   "source": [
    "cohen_kappa_score(df_filtered['Healthiness_Alie'], df_filtered['Healthiness_Ilse'])"
   ]
  },
  {
   "cell_type": "code",
   "execution_count": 9,
   "id": "016e241c-f2bd-4d25-af38-36daa652770f",
   "metadata": {},
   "outputs": [
    {
     "name": "stdout",
     "output_type": "stream",
     "text": [
      "# Matches between Nutri-Scholars: 378\n"
     ]
    }
   ],
   "source": [
    "match = df_filtered[df_filtered['Healthiness_Alie'] == df_filtered['Healthiness_Ilse']]\n",
    "num_match = len(match)\n",
    "print(f'# Matches between Nutri-Scholars: {num_match}')"
   ]
  },
  {
   "cell_type": "code",
   "execution_count": 10,
   "id": "9b1c1502-119d-49b1-a518-a7bc1a778478",
   "metadata": {},
   "outputs": [
    {
     "name": "stdout",
     "output_type": "stream",
     "text": [
      "# Dataset (after removing NA): 465\n"
     ]
    }
   ],
   "source": [
    "print(f'# Dataset (after removing NA): {len(df_filtered)}')"
   ]
  },
  {
   "cell_type": "code",
   "execution_count": 11,
   "id": "0c0297ee-26c0-4e9d-ac02-a3354d672aba",
   "metadata": {},
   "outputs": [
    {
     "data": {
      "text/plain": [
       "0.8129032258064516"
      ]
     },
     "execution_count": 11,
     "metadata": {},
     "output_type": "execute_result"
    }
   ],
   "source": [
    "num_match/len(df_filtered)"
   ]
  },
  {
   "cell_type": "markdown",
   "id": "20769890-944e-4d34-a271-31abbebd7c72",
   "metadata": {},
   "source": [
    "This cell purely computes the 3x3 contingency matrix as shown in the paper (see Table 7.3)."
   ]
  },
  {
   "cell_type": "code",
   "execution_count": 12,
   "id": "79c11595-dd44-4123-ab54-0950800d3beb",
   "metadata": {},
   "outputs": [],
   "source": [
    "cell_a = 0\n",
    "cell_b = 0\n",
    "cell_c = 0\n",
    "cell_d = 0\n",
    "cell_e = 0\n",
    "cell_f = 0\n",
    "cell_g = 0\n",
    "cell_h = 0\n",
    "cell_i = 0\n",
    "\n",
    "for i, row in df_filtered.iterrows():\n",
    "    if row['Healthiness_Alie'] == 'Sub A' and row['Healthiness_Ilse'] == 'Sub A':\n",
    "        cell_a += 1 \n",
    "    elif row['Healthiness_Alie'] == 'Sub B' and row['Healthiness_Ilse'] == 'Sub A':\n",
    "        cell_b += 1 \n",
    "    elif row['Healthiness_Alie'] == 'NC' and row['Healthiness_Ilse'] == 'Sub A':\n",
    "        cell_c += 1 \n",
    "    elif row['Healthiness_Alie'] == 'Sub A' and row['Healthiness_Ilse'] == 'Sub B':\n",
    "        cell_d += 1 \n",
    "    elif row['Healthiness_Alie'] == 'Sub B' and row['Healthiness_Ilse'] == 'Sub B':\n",
    "        cell_e += 1 \n",
    "    elif row['Healthiness_Alie'] == 'NC' and row['Healthiness_Ilse'] == 'Sub B':\n",
    "        cell_f += 1 \n",
    "    elif row['Healthiness_Alie'] == 'Sub A' and row['Healthiness_Ilse'] == 'NC':\n",
    "        cell_g += 1 \n",
    "    elif row['Healthiness_Alie'] == 'Sub B' and row['Healthiness_Ilse'] == 'NC':\n",
    "        cell_h += 1 \n",
    "    elif row['Healthiness_Alie'] == 'NC' and row['Healthiness_Ilse'] == 'NC':\n",
    "        cell_i += 1 "
   ]
  },
  {
   "cell_type": "markdown",
   "id": "95aa6e95-a201-4622-bcc2-0662a29a6ce7",
   "metadata": {},
   "source": [
    "**T-Test**"
   ]
  },
  {
   "cell_type": "markdown",
   "id": "e7ff0b72-05bd-4b5d-8cf1-829220f54622",
   "metadata": {},
   "source": [
    "Sample 2 or Y: nutri-score values that are obtained by looking at the annotations for which both experts agreed (e.g., what is healthiest from a nutritional point of view).\n",
    "\n",
    "Sample 1 or X: nutri-score values that are attained by looking at the oppositie of what the experts chose (e.g., what is not healthiest from a nutrtitional point of view).\n",
    "\n",
    "Goal: test whether the mean of sample 1 is significantly different from the mean of sample 2"
   ]
  },
  {
   "cell_type": "code",
   "execution_count": 13,
   "id": "fa45be2c-4f6c-4f45-8f14-c0aaaf4268c6",
   "metadata": {},
   "outputs": [],
   "source": [
    "nutri_scores = pd.read_csv('../Output/nutri_scores.csv')\n",
    "nutri_scores = nutri_scores[['Shrt_Desc', 'nutri_values']]"
   ]
  },
  {
   "cell_type": "code",
   "execution_count": 14,
   "id": "bab0eafb-2cc7-46ed-bd3b-78b1a62c0e28",
   "metadata": {},
   "outputs": [
    {
     "data": {
      "text/html": [
       "<div>\n",
       "<style scoped>\n",
       "    .dataframe tbody tr th:only-of-type {\n",
       "        vertical-align: middle;\n",
       "    }\n",
       "\n",
       "    .dataframe tbody tr th {\n",
       "        vertical-align: top;\n",
       "    }\n",
       "\n",
       "    .dataframe thead th {\n",
       "        text-align: right;\n",
       "    }\n",
       "</style>\n",
       "<table border=\"1\" class=\"dataframe\">\n",
       "  <thead>\n",
       "    <tr style=\"text-align: right;\">\n",
       "      <th></th>\n",
       "      <th>Food label</th>\n",
       "      <th>Subs A</th>\n",
       "      <th>Subs B</th>\n",
       "      <th>Healthiness_Alie</th>\n",
       "      <th>Nutri-Values Sub A</th>\n",
       "      <th>Nutri-Values Sub B</th>\n",
       "    </tr>\n",
       "  </thead>\n",
       "  <tbody>\n",
       "    <tr>\n",
       "      <th>0</th>\n",
       "      <td>BUTTER OIL,ANHYDROUS</td>\n",
       "      <td>CHEESE,MEXICAN,QUESO CHIHUAHUA</td>\n",
       "      <td>CHEESE,LOW-SODIUM,CHEDDAR OR COLBY</td>\n",
       "      <td>Sub B</td>\n",
       "      <td>16</td>\n",
       "      <td>9</td>\n",
       "    </tr>\n",
       "    <tr>\n",
       "      <th>1</th>\n",
       "      <td>CHEESE,MOZZARELLA,LO MOIST,PART-SKIM</td>\n",
       "      <td>CHEESE,MOZZARELLA,WHL MILK</td>\n",
       "      <td>CHEESE,LOW-SODIUM,CHEDDAR OR COLBY</td>\n",
       "      <td>Sub B</td>\n",
       "      <td>14</td>\n",
       "      <td>9</td>\n",
       "    </tr>\n",
       "    <tr>\n",
       "      <th>2</th>\n",
       "      <td>CHEESE,BRICK</td>\n",
       "      <td>CHEESE,LOW-SODIUM,CHEDDAR OR COLBY</td>\n",
       "      <td>CHEESE,MOZZARELLA,WHL MILK</td>\n",
       "      <td>Sub A</td>\n",
       "      <td>9</td>\n",
       "      <td>14</td>\n",
       "    </tr>\n",
       "    <tr>\n",
       "      <th>3</th>\n",
       "      <td>CHEESE,MONTEREY</td>\n",
       "      <td>CHEESE,LOW-SODIUM,CHEDDAR OR COLBY</td>\n",
       "      <td>CHEESE,MOZZARELLA,WHL MILK</td>\n",
       "      <td>Sub A</td>\n",
       "      <td>9</td>\n",
       "      <td>14</td>\n",
       "    </tr>\n",
       "    <tr>\n",
       "      <th>4</th>\n",
       "      <td>CHEESE,LIMBURGER</td>\n",
       "      <td>CHEESE,LOW-SODIUM,CHEDDAR OR COLBY</td>\n",
       "      <td>CHEESE,MEXICAN,QUESO ASADERO</td>\n",
       "      <td>Sub A</td>\n",
       "      <td>9</td>\n",
       "      <td>16</td>\n",
       "    </tr>\n",
       "  </tbody>\n",
       "</table>\n",
       "</div>"
      ],
      "text/plain": [
       "                             Food label                              Subs A  \\\n",
       "0                  BUTTER OIL,ANHYDROUS      CHEESE,MEXICAN,QUESO CHIHUAHUA   \n",
       "1  CHEESE,MOZZARELLA,LO MOIST,PART-SKIM          CHEESE,MOZZARELLA,WHL MILK   \n",
       "2                          CHEESE,BRICK  CHEESE,LOW-SODIUM,CHEDDAR OR COLBY   \n",
       "3                       CHEESE,MONTEREY  CHEESE,LOW-SODIUM,CHEDDAR OR COLBY   \n",
       "4                      CHEESE,LIMBURGER  CHEESE,LOW-SODIUM,CHEDDAR OR COLBY   \n",
       "\n",
       "                               Subs B Healthiness_Alie  Nutri-Values Sub A  \\\n",
       "0  CHEESE,LOW-SODIUM,CHEDDAR OR COLBY            Sub B                  16   \n",
       "1  CHEESE,LOW-SODIUM,CHEDDAR OR COLBY            Sub B                  14   \n",
       "2          CHEESE,MOZZARELLA,WHL MILK            Sub A                   9   \n",
       "3          CHEESE,MOZZARELLA,WHL MILK            Sub A                   9   \n",
       "4        CHEESE,MEXICAN,QUESO ASADERO            Sub A                   9   \n",
       "\n",
       "   Nutri-Values Sub B  \n",
       "0                   9  \n",
       "1                   9  \n",
       "2                  14  \n",
       "3                  14  \n",
       "4                  16  "
      ]
     },
     "execution_count": 14,
     "metadata": {},
     "output_type": "execute_result"
    }
   ],
   "source": [
    "match = match.merge(nutri_scores, left_on='Subs A', right_on='Shrt_Desc')\n",
    "match = match[['Food label', 'Subs A', 'Subs B', 'Healthiness_Alie', 'nutri_values']]\n",
    "match.rename(columns = {'nutri_values':'Nutri-Values Sub A'}, inplace = True)\n",
    "match = match.merge(nutri_scores, left_on='Subs B', right_on='Shrt_Desc')\n",
    "match = match[['Food label', 'Subs A', 'Subs B', 'Healthiness_Alie', 'Nutri-Values Sub A', 'nutri_values']]\n",
    "match.rename(columns = {'nutri_values':'Nutri-Values Sub B'}, inplace = True)\n",
    "match.head()"
   ]
  },
  {
   "cell_type": "markdown",
   "id": "46a1c4ef-6272-4d14-b197-633c0f4c4da0",
   "metadata": {},
   "source": [
    "Here, we create sample 1 (called X) and sample 2 (called Y).\n",
    "\n",
    "Sample 2: Nutri value scores of the substitutes for which both experts agreed. \n",
    "\n",
    "Sample 1: Nutri value scores of the opposite substitutes for which both experts agreed."
   ]
  },
  {
   "cell_type": "code",
   "execution_count": 15,
   "id": "5dccb590-6db4-4f85-acea-df0061bf20aa",
   "metadata": {},
   "outputs": [
    {
     "data": {
      "text/html": [
       "<div>\n",
       "<style scoped>\n",
       "    .dataframe tbody tr th:only-of-type {\n",
       "        vertical-align: middle;\n",
       "    }\n",
       "\n",
       "    .dataframe tbody tr th {\n",
       "        vertical-align: top;\n",
       "    }\n",
       "\n",
       "    .dataframe thead th {\n",
       "        text-align: right;\n",
       "    }\n",
       "</style>\n",
       "<table border=\"1\" class=\"dataframe\">\n",
       "  <thead>\n",
       "    <tr style=\"text-align: right;\">\n",
       "      <th></th>\n",
       "      <th>Food label</th>\n",
       "      <th>Subs A</th>\n",
       "      <th>Subs B</th>\n",
       "      <th>Healthiness_Alie</th>\n",
       "      <th>Nutri-Values Sub A</th>\n",
       "      <th>Nutri-Values Sub B</th>\n",
       "      <th>X</th>\n",
       "      <th>Y</th>\n",
       "    </tr>\n",
       "  </thead>\n",
       "  <tbody>\n",
       "    <tr>\n",
       "      <th>0</th>\n",
       "      <td>BUTTER OIL,ANHYDROUS</td>\n",
       "      <td>CHEESE,MEXICAN,QUESO CHIHUAHUA</td>\n",
       "      <td>CHEESE,LOW-SODIUM,CHEDDAR OR COLBY</td>\n",
       "      <td>Sub B</td>\n",
       "      <td>16</td>\n",
       "      <td>9</td>\n",
       "      <td>16.0</td>\n",
       "      <td>9.0</td>\n",
       "    </tr>\n",
       "    <tr>\n",
       "      <th>1</th>\n",
       "      <td>CHEESE,MOZZARELLA,LO MOIST,PART-SKIM</td>\n",
       "      <td>CHEESE,MOZZARELLA,WHL MILK</td>\n",
       "      <td>CHEESE,LOW-SODIUM,CHEDDAR OR COLBY</td>\n",
       "      <td>Sub B</td>\n",
       "      <td>14</td>\n",
       "      <td>9</td>\n",
       "      <td>14.0</td>\n",
       "      <td>9.0</td>\n",
       "    </tr>\n",
       "    <tr>\n",
       "      <th>2</th>\n",
       "      <td>CHEESE,BRICK</td>\n",
       "      <td>CHEESE,LOW-SODIUM,CHEDDAR OR COLBY</td>\n",
       "      <td>CHEESE,MOZZARELLA,WHL MILK</td>\n",
       "      <td>Sub A</td>\n",
       "      <td>9</td>\n",
       "      <td>14</td>\n",
       "      <td>14.0</td>\n",
       "      <td>9.0</td>\n",
       "    </tr>\n",
       "    <tr>\n",
       "      <th>3</th>\n",
       "      <td>CHEESE,MONTEREY</td>\n",
       "      <td>CHEESE,LOW-SODIUM,CHEDDAR OR COLBY</td>\n",
       "      <td>CHEESE,MOZZARELLA,WHL MILK</td>\n",
       "      <td>Sub A</td>\n",
       "      <td>9</td>\n",
       "      <td>14</td>\n",
       "      <td>14.0</td>\n",
       "      <td>9.0</td>\n",
       "    </tr>\n",
       "    <tr>\n",
       "      <th>4</th>\n",
       "      <td>CHEESE,LIMBURGER</td>\n",
       "      <td>CHEESE,LOW-SODIUM,CHEDDAR OR COLBY</td>\n",
       "      <td>CHEESE,MEXICAN,QUESO ASADERO</td>\n",
       "      <td>Sub A</td>\n",
       "      <td>9</td>\n",
       "      <td>16</td>\n",
       "      <td>16.0</td>\n",
       "      <td>9.0</td>\n",
       "    </tr>\n",
       "  </tbody>\n",
       "</table>\n",
       "</div>"
      ],
      "text/plain": [
       "                             Food label                              Subs A  \\\n",
       "0                  BUTTER OIL,ANHYDROUS      CHEESE,MEXICAN,QUESO CHIHUAHUA   \n",
       "1  CHEESE,MOZZARELLA,LO MOIST,PART-SKIM          CHEESE,MOZZARELLA,WHL MILK   \n",
       "2                          CHEESE,BRICK  CHEESE,LOW-SODIUM,CHEDDAR OR COLBY   \n",
       "3                       CHEESE,MONTEREY  CHEESE,LOW-SODIUM,CHEDDAR OR COLBY   \n",
       "4                      CHEESE,LIMBURGER  CHEESE,LOW-SODIUM,CHEDDAR OR COLBY   \n",
       "\n",
       "                               Subs B Healthiness_Alie  Nutri-Values Sub A  \\\n",
       "0  CHEESE,LOW-SODIUM,CHEDDAR OR COLBY            Sub B                  16   \n",
       "1  CHEESE,LOW-SODIUM,CHEDDAR OR COLBY            Sub B                  14   \n",
       "2          CHEESE,MOZZARELLA,WHL MILK            Sub A                   9   \n",
       "3          CHEESE,MOZZARELLA,WHL MILK            Sub A                   9   \n",
       "4        CHEESE,MEXICAN,QUESO ASADERO            Sub A                   9   \n",
       "\n",
       "   Nutri-Values Sub B     X    Y  \n",
       "0                   9  16.0  9.0  \n",
       "1                   9  14.0  9.0  \n",
       "2                  14  14.0  9.0  \n",
       "3                  14  14.0  9.0  \n",
       "4                  16  16.0  9.0  "
      ]
     },
     "execution_count": 15,
     "metadata": {},
     "output_type": "execute_result"
    }
   ],
   "source": [
    "X = [] \n",
    "Y = []\n",
    "\n",
    "for i, row in match.iterrows():\n",
    "    if row['Healthiness_Alie'] == 'Sub A':\n",
    "        Y.append(row['Nutri-Values Sub A'])\n",
    "        X.append(row['Nutri-Values Sub B'])\n",
    "    elif row['Healthiness_Alie'] == 'Sub B':\n",
    "        Y.append(row['Nutri-Values Sub B'])\n",
    "        X.append(row['Nutri-Values Sub A'])\n",
    "    else: \n",
    "        X.append(np.nan)\n",
    "        Y.append(np.nan)\n",
    "        \n",
    "match['X'] = X\n",
    "match['Y'] = Y\n",
    "match = match.dropna()\n",
    "match.head()"
   ]
  },
  {
   "cell_type": "markdown",
   "id": "ef3c7ed9-7a45-4b95-946c-c1413629497a",
   "metadata": {},
   "source": [
    "Test of normality for sample 1 and sample 2."
   ]
  },
  {
   "cell_type": "code",
   "execution_count": 16,
   "id": "7072d5c9-5586-497b-9d05-869680d86aa9",
   "metadata": {},
   "outputs": [
    {
     "data": {
      "text/plain": [
       "ShapiroResult(statistic=0.8406692743301392, pvalue=2.886443525602217e-13)"
      ]
     },
     "execution_count": 16,
     "metadata": {},
     "output_type": "execute_result"
    }
   ],
   "source": [
    "stats.shapiro(match['X'])"
   ]
  },
  {
   "cell_type": "code",
   "execution_count": 17,
   "id": "d23a66dc-727c-4f25-81c4-401836963e2a",
   "metadata": {},
   "outputs": [
    {
     "data": {
      "text/plain": [
       "ShapiroResult(statistic=0.8624187707901001, pvalue=3.2403561171095996e-12)"
      ]
     },
     "execution_count": 17,
     "metadata": {},
     "output_type": "execute_result"
    }
   ],
   "source": [
    "stats.shapiro(match['Y'])"
   ]
  },
  {
   "cell_type": "markdown",
   "id": "8b2a3120-398d-478c-beee-8d6b1b18e78c",
   "metadata": {},
   "source": [
    "Plot sample 1."
   ]
  },
  {
   "cell_type": "code",
   "execution_count": 18,
   "id": "e2a018c9-2154-49c4-b88c-70e993526ddf",
   "metadata": {},
   "outputs": [
    {
     "data": {
      "image/png": "[encoded data removed]",
      "text/plain": [
       "<Figure size 432x288 with 1 Axes>"
      ]
     },
     "metadata": {
      "needs_background": "light"
     },
     "output_type": "display_data"
    }
   ],
   "source": [
    "mu, std = norm.fit(match['X']) \n",
    "plt.hist(match['X'], bins=25, density=True, color = 'g', alpha=0.5)\n",
    "xmin, xmax = plt.xlim()\n",
    "x_1 = np.linspace(xmin, xmax, 100)\n",
    "p_1 = norm.pdf(x_1, mu, std)\n",
    "plt.plot(x_1, p_1, 'k', linewidth = 2)\n",
    "title = \"Mean {:.2f} and Standard Deviation {:.2f}\".format(mu, std)\n",
    "plt.title(title)\n",
    "plt.show()"
   ]
  },
  {
   "cell_type": "markdown",
   "id": "5a44c294-a518-45fb-bf03-32b9ee3fa36b",
   "metadata": {},
   "source": [
    "Plot sample 2."
   ]
  },
  {
   "cell_type": "code",
   "execution_count": 19,
   "id": "6350a96c-bf65-4cd0-92e9-d44877eaecf7",
   "metadata": {},
   "outputs": [
    {
     "data": {
      "image/png": "[encoded data removed]",
      "text/plain": [
       "<Figure size 432x288 with 1 Axes>"
      ]
     },
     "metadata": {
      "needs_background": "light"
     },
     "output_type": "display_data"
    }
   ],
   "source": [
    "mu, std = norm.fit(match['Y']) \n",
    "plt.hist(match['Y'], bins=25, density=True, color = 'y', alpha=0.5)\n",
    "xmin, xmax = plt.xlim()\n",
    "x_2 = np.linspace(xmin, xmax, 100)\n",
    "p_2 = norm.pdf(x_2, mu, std)\n",
    "plt.plot(x_2, p_2, 'k', linewidth = 2)\n",
    "title = \"Mean {:.2f} and Standard Deviation {:.2f}\".format(mu, std)\n",
    "plt.title(title)\n",
    "plt.show()"
   ]
  },
  {
   "cell_type": "markdown",
   "id": "e42707c3-2701-41d2-a37b-56a81accc10a",
   "metadata": {},
   "source": [
    "Plot both samples against each other."
   ]
  },
  {
   "cell_type": "code",
   "execution_count": 20,
   "id": "73979b92-fe21-43aa-8071-42e3eaf6e6d3",
   "metadata": {},
   "outputs": [
    {
     "data": {
      "image/png": "[encoded data removed]",
      "text/plain": [
       "<Figure size 432x288 with 1 Axes>"
      ]
     },
     "metadata": {
      "needs_background": "light"
     },
     "output_type": "display_data"
    }
   ],
   "source": [
    "plt.plot(x_1, p_1, 'k', linewidth = 2, color = 'g', label='Sample 1')\n",
    "plt.plot(x_2, p_2, 'k', linewidth = 2, color = 'y', label='Sample 2')\n",
    "plt.fill(x_1, p_1, 'g', alpha=0.5)\n",
    "plt.fill(x_2, p_2, 'y', alpha=0.5)\n",
    "plt.legend(loc='upper right')\n",
    "plt.show()"
   ]
  },
  {
   "cell_type": "markdown",
   "id": "0aed265c-5106-4067-b27b-3e0838c9b50b",
   "metadata": {},
   "source": [
    "Paired Sample T-test."
   ]
  },
  {
   "cell_type": "code",
   "execution_count": 21,
   "id": "1ba77c0c-19fc-46d3-a67e-58fbc93a1511",
   "metadata": {},
   "outputs": [
    {
     "data": {
      "text/plain": [
       "Ttest_relResult(statistic=9.344496631264326, pvalue=2.3911514079544688e-17)"
      ]
     },
     "execution_count": 21,
     "metadata": {},
     "output_type": "execute_result"
    }
   ],
   "source": [
    "stats.ttest_rel(match['X'], match['Y'])"
   ]
  },
  {
   "cell_type": "markdown",
   "id": "1a743618-1c97-4954-b23f-58ce7ef5bb44",
   "metadata": {},
   "source": [
    "Wilcoxon Signed-Rank Test."
   ]
  },
  {
   "cell_type": "code",
   "execution_count": 22,
   "id": "028c3619-d2bd-497d-9c6b-57dc1be9c83d",
   "metadata": {},
   "outputs": [
    {
     "data": {
      "text/plain": [
       "WilcoxonResult(statistic=2003.0, pvalue=1.0851023580433066e-16)"
      ]
     },
     "execution_count": 22,
     "metadata": {},
     "output_type": "execute_result"
    }
   ],
   "source": [
    "stats.wilcoxon(match['X'], match['Y'])"
   ]
  }
 ],
 "metadata": {
  "kernelspec": {
   "display_name": "Python 3",
   "language": "python",
   "name": "python3"
  },
  "language_info": {
   "codemirror_mode": {
    "name": "ipython",
    "version": 3
   },
   "file_extension": ".py",
   "mimetype": "text/x-python",
   "name": "python",
   "nbconvert_exporter": "python",
   "pygments_lexer": "ipython3",
   "version": "3.8.8"
  }
 },
 "nbformat": 4,
 "nbformat_minor": 5
}
