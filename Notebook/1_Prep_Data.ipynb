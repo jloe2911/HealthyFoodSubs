{
 "cells": [
  {
   "cell_type": "markdown",
   "id": "8e0b1b4e-1693-4f7e-8a58-d62a1f48257a",
   "metadata": {},
   "source": [
    "**------------------------------------------------------------------------------------------------------------------------------------------------------**\n",
    "\n",
    "**Input: Triples**\n",
    "\n",
    "**Process Triples into Node and Edge Dataframes**\n",
    "\n",
    "**Output: Node and Edge Dataframes**\n",
    "\n",
    "**------------------------------------------------------------------------------------------------------------------------------------------------------**"
   ]
  },
  {
   "cell_type": "markdown",
   "id": "3c3c7a75-6239-4e1f-a84c-689caf3e5e14",
   "metadata": {},
   "source": [
    "# Libraries"
   ]
  },
  {
   "cell_type": "code",
   "execution_count": 1,
   "id": "d6f42059-82c8-4877-b7dd-36aeb2e5b05b",
   "metadata": {},
   "outputs": [],
   "source": [
    "import pandas as pd\n",
    "import numpy as np\n",
    "import warnings\n",
    "warnings.simplefilter(\"ignore\")"
   ]
  },
  {
   "cell_type": "markdown",
   "id": "fa8d9732-bfd4-4a64-9cdc-f5d29f33628f",
   "metadata": {},
   "source": [
    "# Get all Triples"
   ]
  },
  {
   "cell_type": "code",
   "execution_count": 2,
   "id": "16d30ea8-370b-487a-8fb1-a03e354e70ed",
   "metadata": {},
   "outputs": [],
   "source": [
    "f = open('../Input Data/statements.nq', 'r')\n",
    "text = f.readlines()"
   ]
  },
  {
   "cell_type": "code",
   "execution_count": null,
   "id": "e6005a55-e4f3-4a8a-b483-33639f196b6e",
   "metadata": {},
   "outputs": [],
   "source": [
    "rows = []\n",
    "for line in text:\n",
    "  split = line.split()\n",
    "  s = split[0]\n",
    "  s = s.replace('<', '')\n",
    "  s = s.replace('>', '')\n",
    "  p = split[1]\n",
    "  p = p.replace('<', '')\n",
    "  p = p.replace('>', '')\n",
    "  o = split[2]\n",
    "  o = o.replace('<', '')\n",
    "  o = o.replace('>', '')\n",
    "  rows.append([s, p, o])"
   ]
  },
  {
   "cell_type": "code",
   "execution_count": null,
   "id": "06124a4b-ff3a-4275-96a1-a31242356eaa",
   "metadata": {},
   "outputs": [],
   "source": [
    "triples = pd.DataFrame(rows, columns=['subject', 'predicate', 'object'])\n",
    "triples.head()"
   ]
  },
  {
   "cell_type": "code",
   "execution_count": null,
   "id": "3c19ac56-3bfa-4874-ae31-2a8b9733281e",
   "metadata": {},
   "outputs": [],
   "source": [
    "print(f'# Triples: {len(triples)}')"
   ]
  },
  {
   "cell_type": "markdown",
   "id": "44659b18-aa11-4d88-8ed7-7d32de988cb0",
   "metadata": {},
   "source": [
    "# Split Triples "
   ]
  },
  {
   "cell_type": "markdown",
   "id": "9502a6c8-1b76-4733-900b-243ce4fe3e20",
   "metadata": {},
   "source": [
    "**Get all Foods**"
   ]
  },
  {
   "cell_type": "code",
   "execution_count": null,
   "id": "7e69a264-b2a8-4fa2-8fd7-74af9f0e7a2e",
   "metadata": {},
   "outputs": [],
   "source": [
    "all_foods = triples[(triples['subject'].str.startswith('http://idea.rpi.edu/heals/kb/usda#'))]\n",
    "all_foods.to_csv('../Input Data/data/all_foods.csv')"
   ]
  },
  {
   "cell_type": "markdown",
   "id": "f9d062ec-3203-45a7-81f1-a863e15525c2",
   "metadata": {},
   "source": [
    "**(Food, containsNutrient, Nutrient)**"
   ]
  },
  {
   "cell_type": "code",
   "execution_count": null,
   "id": "867868c9-3780-4959-9bda-c6fb5db8f434",
   "metadata": {},
   "outputs": [],
   "source": [
    "df_food_nutrient = triples[(triples['subject'].str.startswith('http://idea.rpi.edu/heals/kb/usda#')) &\n",
    "                        (triples['predicate'] == 'http://www.w3id.org/foodkg/property#contains') &\n",
    "                        (triples['object'].str.startswith('http://www.w3id.org/foodkg/usda#'))]   \n",
    "df_food_nutrient.to_csv('../Input Data/data/df_food_nutrient.csv')"
   ]
  },
  {
   "cell_type": "code",
   "execution_count": null,
   "id": "6ed1f3d7",
   "metadata": {},
   "outputs": [],
   "source": [
    "len(df_food_nutrient)"
   ]
  },
  {
   "cell_type": "code",
   "execution_count": null,
   "id": "497073f3",
   "metadata": {},
   "outputs": [],
   "source": [
    "len(np.unique(df_food_nutrient['subject']))"
   ]
  },
  {
   "cell_type": "code",
   "execution_count": null,
   "id": "0d62e7d5",
   "metadata": {},
   "outputs": [],
   "source": [
    "len(np.unique(df_food_nutrient['object']))"
   ]
  },
  {
   "cell_type": "markdown",
   "id": "b3766893-3731-4cc4-b061-b54bca1ca1b1",
   "metadata": {},
   "source": [
    "**(Food, hasTag, Tag)**"
   ]
  },
  {
   "cell_type": "code",
   "execution_count": null,
   "id": "fa78b302-00f7-4745-a913-4af974a17e9e",
   "metadata": {},
   "outputs": [],
   "source": [
    "df_food_tag = triples[(triples['subject'].str.startswith('http://idea.rpi.edu/heals/kb/usda#')) &\n",
    "                      (triples['predicate'] == 'http://www.w3id.org/foodb/property/hasQuality') &\n",
    "                      (triples['object'].str.startswith('https://w3id.org/foodkg/quality/high_'))]   \n",
    "df_food_tag.to_csv('../Input Data/data/df_food_tag.csv')"
   ]
  },
  {
   "cell_type": "code",
   "execution_count": null,
   "id": "c91e6032",
   "metadata": {},
   "outputs": [],
   "source": [
    "len(df_food_tag)"
   ]
  },
  {
   "cell_type": "code",
   "execution_count": null,
   "id": "2a7e2bff",
   "metadata": {},
   "outputs": [],
   "source": [
    "len(np.unique(df_food_tag['subject']))"
   ]
  },
  {
   "cell_type": "code",
   "execution_count": null,
   "id": "0ff23451",
   "metadata": {},
   "outputs": [],
   "source": [
    "len(np.unique(df_food_tag['object']))"
   ]
  },
  {
   "cell_type": "markdown",
   "id": "3d49f8f0-a61b-4b00-9a95-b987ea0cf63e",
   "metadata": {},
   "source": [
    "**(Food, isInCategory, Category)**"
   ]
  },
  {
   "cell_type": "code",
   "execution_count": null,
   "id": "61743923-f09f-42af-b218-8af3142f0033",
   "metadata": {},
   "outputs": [],
   "source": [
    "df_food_cat = triples[(triples['subject'].str.startswith('http://idea.rpi.edu/heals/kb/usda#')) &\n",
    "                      (triples['predicate'] == 'http://www.w3id.org/foodb/property/hasCategory') &\n",
    "                      (triples['object'].str.startswith('http://idea.rpi.edu/heals/kb/usda#'))]   \n",
    "df_food_cat.to_csv('../Input Data/data/df_food_cat.csv')"
   ]
  },
  {
   "cell_type": "markdown",
   "id": "2dae8748-5337-4371-88c3-321d15230e89",
   "metadata": {},
   "source": [
    "**(Food, hasFlavor, Flavor)**"
   ]
  },
  {
   "cell_type": "code",
   "execution_count": null,
   "id": "b1c217de-3c78-4d1a-a4dd-40f8374fe505",
   "metadata": {},
   "outputs": [],
   "source": [
    "df_food_flavor = triples[(triples['subject'].str.startswith('http://idea.rpi.edu/heals/kb/usda#')) &\n",
    "                      (triples['predicate'] == 'http://www.w3id.org/foodb/property/hasFlavor') &\n",
    "                      (triples['object'].str.startswith('https://w3id.org/foodkg/flavor/'))]   \n",
    "df_food_flavor.to_csv('../Input Data/data/df_food_flavor.csv')"
   ]
  },
  {
   "cell_type": "code",
   "execution_count": null,
   "id": "548308ce",
   "metadata": {},
   "outputs": [],
   "source": [
    "len(df_food_flavor)"
   ]
  },
  {
   "cell_type": "code",
   "execution_count": null,
   "id": "179861c9",
   "metadata": {},
   "outputs": [],
   "source": [
    "len(np.unique(df_food_flavor['subject']))"
   ]
  },
  {
   "cell_type": "code",
   "execution_count": null,
   "id": "2a664c17",
   "metadata": {},
   "outputs": [],
   "source": [
    "len(np.unique(df_food_flavor['object']))"
   ]
  },
  {
   "cell_type": "markdown",
   "id": "f9b5ea81-1158-4311-80ca-0366ff7494bc",
   "metadata": {},
   "source": [
    "**(Product, containsIngredient, Ingredient)**"
   ]
  },
  {
   "cell_type": "code",
   "execution_count": null,
   "id": "08bb63c1-9d26-4b6f-b7a7-ab8475f48450",
   "metadata": {},
   "outputs": [],
   "source": [
    "df_product_ingredient = triples[(triples['subject'].str.startswith('https://w3id.org/um/ken4256/product/')) &\n",
    "                       (triples['predicate'] == 'https://www.bbc.co.uk/ontologies/fo/ingredients') &\n",
    "                       (triples['object'].str.startswith('https://w3id.org/um/ken4256/ingredient/'))] \n",
    "df_product_ingredient.to_csv('../Input Data/data/df_product_ingredient.csv')"
   ]
  },
  {
   "cell_type": "code",
   "execution_count": null,
   "id": "8c3dc466",
   "metadata": {},
   "outputs": [],
   "source": [
    "len(df_product_ingredient)"
   ]
  },
  {
   "cell_type": "code",
   "execution_count": null,
   "id": "5101b520",
   "metadata": {},
   "outputs": [],
   "source": [
    "len(np.unique(df_product_ingredient['subject']))"
   ]
  },
  {
   "cell_type": "code",
   "execution_count": null,
   "id": "9b6a825a",
   "metadata": {},
   "outputs": [],
   "source": [
    "len(np.unique(df_product_ingredient['object']))"
   ]
  },
  {
   "cell_type": "markdown",
   "id": "431fd3c3-9240-4074-847d-713a349bb65c",
   "metadata": {},
   "source": [
    "**(Food, sameAs, Ingredient) - (Ingredient, sameAs, Food)**"
   ]
  },
  {
   "cell_type": "code",
   "execution_count": null,
   "id": "2c0c1604-785a-48c3-aed0-f5ca33806ae3",
   "metadata": {},
   "outputs": [],
   "source": [
    "df_food_ingredient = triples[(triples['subject'].str.startswith('http://idea.rpi.edu/heals/kb/usda#')) &\n",
    "                      (triples['predicate'] == 'https://schema.org/isSimilarTo') &\n",
    "                      (triples['object'].str.startswith('https://w3id.org/um/ken4256/ingredient/'))]   \n",
    "df_food_ingredient.to_csv('../Input Data/data/df_food_ingredient.csv')"
   ]
  },
  {
   "cell_type": "markdown",
   "id": "173a5ab5-d4cf-4f28-89af-b7d583b1afe7",
   "metadata": {},
   "source": [
    "**Get Ground Truth**"
   ]
  },
  {
   "cell_type": "code",
   "execution_count": null,
   "id": "806eb25f-02e3-4203-a7bd-daafcf9de37f",
   "metadata": {},
   "outputs": [],
   "source": [
    "df_food_subs = pd.read_csv('../Input Data/final_substitution.csv', sep=';')\n",
    "\n",
    "df_food_subs['source_id'] = df_food_subs['Food id'].tolist()\n",
    "df_food_subs['destination_id'] = df_food_subs['Substitution id'].tolist()\n",
    "df_food_subs.to_csv('../Input Data/data/df_food_subs.csv')"
   ]
  },
  {
   "cell_type": "code",
   "execution_count": null,
   "id": "264c854c",
   "metadata": {},
   "outputs": [],
   "source": [
    "len(df_food_subs)"
   ]
  },
  {
   "cell_type": "code",
   "execution_count": null,
   "id": "2b033b0f",
   "metadata": {},
   "outputs": [],
   "source": [
    "len(np.unique(df_food_subs['Food label']))"
   ]
  },
  {
   "cell_type": "code",
   "execution_count": null,
   "id": "a741d312",
   "metadata": {},
   "outputs": [],
   "source": [
    "len(np.unique(df_food_subs['Substitution label']))"
   ]
  }
 ],
 "metadata": {
  "kernelspec": {
   "display_name": "Python 3 (ipykernel)",
   "language": "python",
   "name": "python3"
  },
  "language_info": {
   "codemirror_mode": {
    "name": "ipython",
    "version": 3
   },
   "file_extension": ".py",
   "mimetype": "text/x-python",
   "name": "python",
   "nbconvert_exporter": "python",
   "pygments_lexer": "ipython3",
   "version": "3.8.16"
  }
 },
 "nbformat": 4,
 "nbformat_minor": 5
}
