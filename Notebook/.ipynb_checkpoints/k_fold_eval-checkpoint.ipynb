{
 "cells": [
  {
   "cell_type": "markdown",
   "id": "256b7ea7-c3ec-4bd5-bc58-fe85eade4f93",
   "metadata": {},
   "source": [
    "**------------------------------------------------------------------------------------------------------------------------------------------------------**\n",
    "\n",
    "k-fold cross-validation\n",
    "\n",
    "**Input: \"Food\" Embeddings**\n",
    "\n",
    "**Evaluates Model by calculating MAP, MRR, and RR@[5, 10]**\n",
    "\n",
    "**Output: Metrics**\n",
    "\n",
    "**------------------------------------------------------------------------------------------------------------------------------------------------------**"
   ]
  },
  {
   "cell_type": "markdown",
   "id": "226e0f58-40b8-45b0-8a61-88f8a7814664",
   "metadata": {},
   "source": [
    "# Libraries"
   ]
  },
  {
   "cell_type": "code",
   "execution_count": 1,
   "id": "c129c818-732b-4941-ad4f-c19096f93b7d",
   "metadata": {},
   "outputs": [
    {
     "name": "stderr",
     "output_type": "stream",
     "text": [
      "C:\\Users\\julie\\anaconda3\\lib\\site-packages\\gensim\\similarities\\__init__.py:15: UserWarning: The gensim.similarities.levenshtein submodule is disabled, because the optional Levenshtein package <https://pypi.org/project/python-Levenshtein/> is unavailable. Install Levenhstein (e.g. `pip install python-Levenshtein`) to suppress this warning.\n",
      "  warnings.warn(msg)\n"
     ]
    }
   ],
   "source": [
    "import pandas as pd\n",
    "import numpy as np\n",
    "import random\n",
    "import ast\n",
    "from gensim.models import KeyedVectors\n",
    "from gensim.test.utils import datapath\n",
    "import warnings\n",
    "warnings.simplefilter(\"ignore\")"
   ]
  },
  {
   "cell_type": "code",
   "execution_count": 2,
   "id": "2831231d-4d25-4abf-b00a-0d87ed9e7a83",
   "metadata": {},
   "outputs": [],
   "source": [
    "use_filter = 1\n",
    "#vModel = 'GraphSAGE'\n",
    "vModel = 'GAT'"
   ]
  },
  {
   "cell_type": "code",
   "execution_count": 3,
   "id": "18cb0868-1733-429d-ad22-210cb2837d67",
   "metadata": {},
   "outputs": [],
   "source": [
    "k_fold = 10"
   ]
  },
  {
   "cell_type": "markdown",
   "id": "8fac59e1-d773-4ec6-828d-3e4c22a0abea",
   "metadata": {},
   "source": [
    "**Get Food Categories**"
   ]
  },
  {
   "cell_type": "code",
   "execution_count": 4,
   "id": "54a1f48e-4d19-4f5e-ae6d-da5ccce19808",
   "metadata": {},
   "outputs": [],
   "source": [
    "df = pd.read_csv('../Input Data/food_category.csv')\n",
    "df['NDB_No'] = df['NDB_No'].astype(str).str.rjust(5,'0')"
   ]
  },
  {
   "cell_type": "code",
   "execution_count": 5,
   "id": "a086a1a2-540a-4b6a-8b3a-3469dc6b7971",
   "metadata": {},
   "outputs": [],
   "source": [
    "food2cat = {}\n",
    "food_label_map = {}\n",
    "food_id_map = {}\n",
    "for i, row in df.iterrows():\n",
    "    uri = 'http://idea.rpi.edu/heals/kb/usda#' + row['NDB_No']\n",
    "    label = row['Long_Desc'].strip()\n",
    "    cat = row['FdGrp_Desc']\n",
    "    food2cat[uri] = cat\n",
    "    food_label_map[uri] = label\n",
    "    food_id_map[label] = uri"
   ]
  },
  {
   "cell_type": "markdown",
   "id": "6feff732-f988-461c-a6b0-4ac15330d713",
   "metadata": {},
   "source": [
    "**Utils to Evaluate Model**"
   ]
  },
  {
   "cell_type": "code",
   "execution_count": 6,
   "id": "b7cf78ce-50df-4dc2-8669-ebfa65e75831",
   "metadata": {},
   "outputs": [],
   "source": [
    "def get_simscore_ingrank_multisamerank(query_food, subs):\n",
    "    # return rank based on KG embedding \n",
    "    TOPK =  len(list(word_vectors.index_to_key))\n",
    "    mostSimilar = word_vectors.most_similar(query_food, topn=TOPK)\n",
    "    for i,(e, sim) in enumerate(mostSimilar):\n",
    "        if e == subs:\n",
    "            return i+1    \n",
    "    return TOPK"
   ]
  },
  {
   "cell_type": "code",
   "execution_count": 7,
   "id": "c48d9b30-0332-41b8-9dac-5d86cee00568",
   "metadata": {},
   "outputs": [],
   "source": [
    "def get_simscore_ingrank_category_multisamerank(query_food, subs):\n",
    "    # return rank based on KG embedding + foods' category\n",
    "    TOPK = len(list(word_vectors.index_to_key))\n",
    "    mostSimilar = word_vectors.most_similar(query_food, topn=TOPK)\n",
    "    i = 0\n",
    "    for e, sim in mostSimilar:\n",
    "        if e not in food2cat or food2cat[subs] != food2cat[e]: continue\n",
    "        if e == subs:\n",
    "            return i+1 \n",
    "        i+=1\n",
    "    return TOPK"
   ]
  },
  {
   "cell_type": "code",
   "execution_count": 8,
   "id": "896a68cd-e817-4a34-8000-7173e345df40",
   "metadata": {},
   "outputs": [],
   "source": [
    "def evaluate_model(scraped_subs_dict):\n",
    "    rank_scores = []\n",
    "    ave_p = []\n",
    "    in_top_5 = 0\n",
    "    in_top_10 = 0\n",
    "    print('number of ings: ',len(scraped_subs_dict.keys()))\n",
    "\n",
    "    for query_food in sorted(scraped_subs_dict.keys()):\n",
    "        relevant_ranks = []\n",
    "        min_rank = 9999999999999999\n",
    "        for subs in scraped_subs_dict[query_food]:\n",
    "            if use_filter == 0:\n",
    "                rank = get_simscore_ingrank_multisamerank(query_food, subs)\n",
    "            elif use_filter == 1:\n",
    "                rank = get_simscore_ingrank_category_multisamerank(query_food, subs)   \n",
    "            relevant_ranks.append(rank)\n",
    "            if rank < min_rank:\n",
    "                min_rank = rank\n",
    "        rank = min_rank\n",
    "        rank_scores.append(1.0/rank)\n",
    "        if min_rank <= 5:\n",
    "            in_top_5 += 1\n",
    "        if min_rank <= 10:\n",
    "            in_top_10 += 1\n",
    "        precisions = []\n",
    "        for rank in relevant_ranks:\n",
    "            good_docs = len([r for r in relevant_ranks if r <= rank])\n",
    "            precisions.append(good_docs/rank)\n",
    "        if len(precisions) == 0:\n",
    "            precisions = [0]\n",
    "        ave_p.append(np.mean(precisions))\n",
    "    print(f'MAP: {(np.mean(ave_p)):.3f}')\n",
    "    print(f'MRR: {(np.mean(rank_scores)):.3f}')\n",
    "    print(f'RR@5: {(in_top_5/len(scraped_subs_dict.keys())):.3f}')\n",
    "    print(f'RR@10: {(in_top_10/len(scraped_subs_dict.keys())):.3f}')\n",
    "    return (np.mean(ave_p)), (np.mean(rank_scores)), (in_top_5/len(scraped_subs_dict.keys())), (in_top_10/len(scraped_subs_dict.keys()))"
   ]
  },
  {
   "cell_type": "markdown",
   "id": "9d0f8904-553e-4430-a13b-ffb8be07eccd",
   "metadata": {},
   "source": [
    "**Get Ground Truth**"
   ]
  },
  {
   "cell_type": "code",
   "execution_count": 9,
   "id": "97f22ae8-3387-4849-b58b-1f50d949d61b",
   "metadata": {},
   "outputs": [],
   "source": [
    "subs_df = pd.read_csv('../Input Data/final_substitution.csv', sep=';')\n",
    "subs_df['Food id'] = subs_df['Food id']\n",
    "subs_df['Substitution id'] = subs_df['Substitution id']"
   ]
  },
  {
   "cell_type": "code",
   "execution_count": 10,
   "id": "d370a574-8708-4eb3-8996-ebcd474034da",
   "metadata": {},
   "outputs": [],
   "source": [
    "def get_scraped_subs_dict(word_vectors):\n",
    "    \n",
    "    scraped_subs_dict = dict()\n",
    "\n",
    "    for i,row in subs_df.iterrows():\n",
    "        food = row['Food id']\n",
    "        subs = row['Substitution id']\n",
    "        if food in word_vectors and subs in word_vectors and food in food2cat and subs in food2cat:\n",
    "            if food not in scraped_subs_dict:\n",
    "                scraped_subs_dict[food]= set()\n",
    "\n",
    "            scraped_subs_dict[food].add(subs)\n",
    "        else:\n",
    "            print (food, subs, 'not in embeddings')\n",
    "            \n",
    "    return scraped_subs_dict"
   ]
  },
  {
   "cell_type": "markdown",
   "id": "5b9b9f98-1399-47ff-b559-39cd4ff1eeb9",
   "metadata": {},
   "source": [
    "**Get Evaluations**"
   ]
  },
  {
   "cell_type": "code",
   "execution_count": null,
   "id": "1cfd01e3-2a5a-4651-80c3-4c793b8ee49b",
   "metadata": {},
   "outputs": [],
   "source": [
    "mean_average_precision = []\n",
    "mean_reciprocal_rank = []\n",
    "recall_rate_5 = []\n",
    "recall_rate_10 = []\n",
    "\n",
    "for i in range(k_fold): \n",
    "    \n",
    "    print('------------------------------------------------------------------')\n",
    "    \n",
    "    #Get Embeddings and Ground Truth\n",
    "    word_vectors = KeyedVectors.load_word2vec_format(f'../Output/k_fold/{vModel}_{i}_food_embeddings.txt', binary=False)\n",
    "    scraped_subs_dict = get_scraped_subs_dict(word_vectors)\n",
    "\n",
    "    #Restrict Ground Truth to the Test Foods\n",
    "    foods = pd.read_csv(f'../Output/k_fold/{vModel}_{i}_foods_2_test.csv')\n",
    "    new_scraped_subs_dict = dict()\n",
    "    for food in np.unique(np.array(foods['id'])):\n",
    "        if food in scraped_subs_dict:\n",
    "            new_scraped_subs_dict[food] = scraped_subs_dict[food]\n",
    "        else:\n",
    "            print (food, 'not in ground truth')\n",
    "\n",
    "    map_, mrr_, rr5_, rr10_ = evaluate_model(new_scraped_subs_dict)\n",
    "    mean_average_precision.append(map_)\n",
    "    mean_reciprocal_rank.append(mrr_)\n",
    "    recall_rate_5.append(rr5_)\n",
    "    recall_rate_10.append(rr10_)"
   ]
  },
  {
   "cell_type": "code",
   "execution_count": null,
   "id": "2c131687-6fe8-4a62-8272-eaf161039577",
   "metadata": {},
   "outputs": [],
   "source": [
    "round(np.array(mean_average_precision).mean(), 3)"
   ]
  },
  {
   "cell_type": "code",
   "execution_count": null,
   "id": "3de731e0-6ec2-4d53-939e-906f768d3881",
   "metadata": {},
   "outputs": [],
   "source": [
    "round(np.array(mean_reciprocal_rank).mean(), 3)"
   ]
  },
  {
   "cell_type": "code",
   "execution_count": null,
   "id": "95760ec8-b883-4608-9314-9d0675a5bcaa",
   "metadata": {},
   "outputs": [],
   "source": [
    "round(np.array(recall_rate_5).mean(), 3)"
   ]
  },
  {
   "cell_type": "code",
   "execution_count": null,
   "id": "38fec0a1-bab2-4443-bb34-6d999dffefcb",
   "metadata": {},
   "outputs": [],
   "source": [
    "round(np.array(recall_rate_10).mean(), 3)"
   ]
  }
 ],
 "metadata": {
  "kernelspec": {
   "display_name": "Python 3",
   "language": "python",
   "name": "python3"
  },
  "language_info": {
   "codemirror_mode": {
    "name": "ipython",
    "version": 3
   },
   "file_extension": ".py",
   "mimetype": "text/x-python",
   "name": "python",
   "nbconvert_exporter": "python",
   "pygments_lexer": "ipython3",
   "version": "3.8.8"
  }
 },
 "nbformat": 4,
 "nbformat_minor": 5
}
