{
 "cells": [
  {
   "cell_type": "code",
   "execution_count": 1,
   "id": "c4c3f462-f784-4923-855a-1fe691db71c0",
   "metadata": {},
   "outputs": [],
   "source": [
    "import pandas as pd\n",
    "import numpy as np\n",
    "import matplotlib.pyplot as plt\n",
    "from collections import Counter"
   ]
  },
  {
   "cell_type": "code",
   "execution_count": 2,
   "id": "1962a6cf-eca6-47a8-a0fe-7220e22a8a04",
   "metadata": {},
   "outputs": [
    {
     "data": {
      "text/html": [
       "<div>\n",
       "<style scoped>\n",
       "    .dataframe tbody tr th:only-of-type {\n",
       "        vertical-align: middle;\n",
       "    }\n",
       "\n",
       "    .dataframe tbody tr th {\n",
       "        vertical-align: top;\n",
       "    }\n",
       "\n",
       "    .dataframe thead th {\n",
       "        text-align: right;\n",
       "    }\n",
       "</style>\n",
       "<table border=\"1\" class=\"dataframe\">\n",
       "  <thead>\n",
       "    <tr style=\"text-align: right;\">\n",
       "      <th></th>\n",
       "      <th>Substitution id</th>\n",
       "      <th>FdGrp_Desc</th>\n",
       "    </tr>\n",
       "  </thead>\n",
       "  <tbody>\n",
       "    <tr>\n",
       "      <th>0</th>\n",
       "      <td>http://idea.rpi.edu/heals/kb/usda#01001</td>\n",
       "      <td>Dairy and Egg Products</td>\n",
       "    </tr>\n",
       "    <tr>\n",
       "      <th>1</th>\n",
       "      <td>http://idea.rpi.edu/heals/kb/usda#01002</td>\n",
       "      <td>Dairy and Egg Products</td>\n",
       "    </tr>\n",
       "    <tr>\n",
       "      <th>2</th>\n",
       "      <td>http://idea.rpi.edu/heals/kb/usda#01003</td>\n",
       "      <td>Dairy and Egg Products</td>\n",
       "    </tr>\n",
       "    <tr>\n",
       "      <th>3</th>\n",
       "      <td>http://idea.rpi.edu/heals/kb/usda#01004</td>\n",
       "      <td>Dairy and Egg Products</td>\n",
       "    </tr>\n",
       "    <tr>\n",
       "      <th>4</th>\n",
       "      <td>http://idea.rpi.edu/heals/kb/usda#01005</td>\n",
       "      <td>Dairy and Egg Products</td>\n",
       "    </tr>\n",
       "  </tbody>\n",
       "</table>\n",
       "</div>"
      ],
      "text/plain": [
       "                           Substitution id              FdGrp_Desc\n",
       "0  http://idea.rpi.edu/heals/kb/usda#01001  Dairy and Egg Products\n",
       "1  http://idea.rpi.edu/heals/kb/usda#01002  Dairy and Egg Products\n",
       "2  http://idea.rpi.edu/heals/kb/usda#01003  Dairy and Egg Products\n",
       "3  http://idea.rpi.edu/heals/kb/usda#01004  Dairy and Egg Products\n",
       "4  http://idea.rpi.edu/heals/kb/usda#01005  Dairy and Egg Products"
      ]
     },
     "execution_count": 2,
     "metadata": {},
     "output_type": "execute_result"
    }
   ],
   "source": [
    "df = pd.read_csv('../Input Data/food_category.csv')\n",
    "df['Substitution id'] = 'http://idea.rpi.edu/heals/kb/usda#' + df.NDB_No.astype(str).str.rjust(5,'0')\n",
    "df = df[['Substitution id', 'FdGrp_Desc']]\n",
    "df.head()"
   ]
  },
  {
   "cell_type": "code",
   "execution_count": 3,
   "id": "61950b32-b8aa-4695-8035-b1ee00f4d768",
   "metadata": {},
   "outputs": [
    {
     "data": {
      "text/html": [
       "<div>\n",
       "<style scoped>\n",
       "    .dataframe tbody tr th:only-of-type {\n",
       "        vertical-align: middle;\n",
       "    }\n",
       "\n",
       "    .dataframe tbody tr th {\n",
       "        vertical-align: top;\n",
       "    }\n",
       "\n",
       "    .dataframe thead th {\n",
       "        text-align: right;\n",
       "    }\n",
       "</style>\n",
       "<table border=\"1\" class=\"dataframe\">\n",
       "  <thead>\n",
       "    <tr style=\"text-align: right;\">\n",
       "      <th></th>\n",
       "      <th>Food id</th>\n",
       "      <th>Food label</th>\n",
       "      <th>Substitution id</th>\n",
       "      <th>Substitution label</th>\n",
       "    </tr>\n",
       "  </thead>\n",
       "  <tbody>\n",
       "    <tr>\n",
       "      <th>0</th>\n",
       "      <td>http://idea.rpi.edu/heals/kb/usda#09229</td>\n",
       "      <td>Papaya nectar, canned</td>\n",
       "      <td>http://idea.rpi.edu/heals/kb/usda#09016</td>\n",
       "      <td>Apple juice, canned or bottled, unsweetened</td>\n",
       "    </tr>\n",
       "    <tr>\n",
       "      <th>1</th>\n",
       "      <td>http://idea.rpi.edu/heals/kb/usda#09442</td>\n",
       "      <td>Pomegranate juice, bottled</td>\n",
       "      <td>http://idea.rpi.edu/heals/kb/usda#09016</td>\n",
       "      <td>Apple juice, canned or bottled, unsweetened</td>\n",
       "    </tr>\n",
       "    <tr>\n",
       "      <th>2</th>\n",
       "      <td>http://idea.rpi.edu/heals/kb/usda#09229</td>\n",
       "      <td>Papaya nectar, canned</td>\n",
       "      <td>http://idea.rpi.edu/heals/kb/usda#09442</td>\n",
       "      <td>Pomegranate juice, bottled</td>\n",
       "    </tr>\n",
       "    <tr>\n",
       "      <th>3</th>\n",
       "      <td>http://idea.rpi.edu/heals/kb/usda#09229</td>\n",
       "      <td>Papaya nectar, canned</td>\n",
       "      <td>http://idea.rpi.edu/heals/kb/usda#09262</td>\n",
       "      <td>Pear nectar, canned, without added ascorbic acid</td>\n",
       "    </tr>\n",
       "    <tr>\n",
       "      <th>4</th>\n",
       "      <td>http://idea.rpi.edu/heals/kb/usda#09229</td>\n",
       "      <td>Papaya nectar, canned</td>\n",
       "      <td>http://idea.rpi.edu/heals/kb/usda#09251</td>\n",
       "      <td>Peach nectar, canned, with sucralose</td>\n",
       "    </tr>\n",
       "  </tbody>\n",
       "</table>\n",
       "</div>"
      ],
      "text/plain": [
       "                                   Food id                  Food label  \\\n",
       "0  http://idea.rpi.edu/heals/kb/usda#09229       Papaya nectar, canned   \n",
       "1  http://idea.rpi.edu/heals/kb/usda#09442  Pomegranate juice, bottled   \n",
       "2  http://idea.rpi.edu/heals/kb/usda#09229       Papaya nectar, canned   \n",
       "3  http://idea.rpi.edu/heals/kb/usda#09229       Papaya nectar, canned   \n",
       "4  http://idea.rpi.edu/heals/kb/usda#09229       Papaya nectar, canned   \n",
       "\n",
       "                           Substitution id  \\\n",
       "0  http://idea.rpi.edu/heals/kb/usda#09016   \n",
       "1  http://idea.rpi.edu/heals/kb/usda#09016   \n",
       "2  http://idea.rpi.edu/heals/kb/usda#09442   \n",
       "3  http://idea.rpi.edu/heals/kb/usda#09262   \n",
       "4  http://idea.rpi.edu/heals/kb/usda#09251   \n",
       "\n",
       "                                 Substitution label  \n",
       "0       Apple juice, canned or bottled, unsweetened  \n",
       "1       Apple juice, canned or bottled, unsweetened  \n",
       "2                        Pomegranate juice, bottled  \n",
       "3  Pear nectar, canned, without added ascorbic acid  \n",
       "4              Peach nectar, canned, with sucralose  "
      ]
     },
     "execution_count": 3,
     "metadata": {},
     "output_type": "execute_result"
    }
   ],
   "source": [
    "ground_truth = pd.read_csv('../Input Data/final_substitution.csv', sep=';')\n",
    "ground_truth.head()"
   ]
  },
  {
   "cell_type": "code",
   "execution_count": 4,
   "id": "fd99e903-ed41-4be5-86bf-cfbfb7aca1df",
   "metadata": {},
   "outputs": [
    {
     "data": {
      "text/html": [
       "<div>\n",
       "<style scoped>\n",
       "    .dataframe tbody tr th:only-of-type {\n",
       "        vertical-align: middle;\n",
       "    }\n",
       "\n",
       "    .dataframe tbody tr th {\n",
       "        vertical-align: top;\n",
       "    }\n",
       "\n",
       "    .dataframe thead th {\n",
       "        text-align: right;\n",
       "    }\n",
       "</style>\n",
       "<table border=\"1\" class=\"dataframe\">\n",
       "  <thead>\n",
       "    <tr style=\"text-align: right;\">\n",
       "      <th></th>\n",
       "      <th>Substitution id</th>\n",
       "      <th>FdGrp_Desc</th>\n",
       "    </tr>\n",
       "  </thead>\n",
       "  <tbody>\n",
       "    <tr>\n",
       "      <th>0</th>\n",
       "      <td>http://idea.rpi.edu/heals/kb/usda#09016</td>\n",
       "      <td>Fruits and Fruit Juices</td>\n",
       "    </tr>\n",
       "    <tr>\n",
       "      <th>2</th>\n",
       "      <td>http://idea.rpi.edu/heals/kb/usda#09442</td>\n",
       "      <td>Fruits and Fruit Juices</td>\n",
       "    </tr>\n",
       "    <tr>\n",
       "      <th>3</th>\n",
       "      <td>http://idea.rpi.edu/heals/kb/usda#09262</td>\n",
       "      <td>Fruits and Fruit Juices</td>\n",
       "    </tr>\n",
       "    <tr>\n",
       "      <th>4</th>\n",
       "      <td>http://idea.rpi.edu/heals/kb/usda#09251</td>\n",
       "      <td>Fruits and Fruit Juices</td>\n",
       "    </tr>\n",
       "    <tr>\n",
       "      <th>6</th>\n",
       "      <td>http://idea.rpi.edu/heals/kb/usda#09017</td>\n",
       "      <td>Fruits and Fruit Juices</td>\n",
       "    </tr>\n",
       "  </tbody>\n",
       "</table>\n",
       "</div>"
      ],
      "text/plain": [
       "                           Substitution id               FdGrp_Desc\n",
       "0  http://idea.rpi.edu/heals/kb/usda#09016  Fruits and Fruit Juices\n",
       "2  http://idea.rpi.edu/heals/kb/usda#09442  Fruits and Fruit Juices\n",
       "3  http://idea.rpi.edu/heals/kb/usda#09262  Fruits and Fruit Juices\n",
       "4  http://idea.rpi.edu/heals/kb/usda#09251  Fruits and Fruit Juices\n",
       "6  http://idea.rpi.edu/heals/kb/usda#09017  Fruits and Fruit Juices"
      ]
     },
     "execution_count": 4,
     "metadata": {},
     "output_type": "execute_result"
    }
   ],
   "source": [
    "df = pd.merge(ground_truth, df, how='left', on='Substitution id')\n",
    "df = df[['Substitution id', 'FdGrp_Desc']]\n",
    "df = df.drop_duplicates()\n",
    "df.head()"
   ]
  },
  {
   "cell_type": "code",
   "execution_count": 5,
   "id": "c106ef98-40e2-4691-af26-3f47e981dbd7",
   "metadata": {},
   "outputs": [],
   "source": [
    "df_ = pd.DataFrame()\n",
    "df_['food_groups'] = list(Counter(df['FdGrp_Desc']).keys())\n",
    "df_['count'] = Counter(df['FdGrp_Desc']).values()\n",
    "df_ = df_.sort_values('food_groups', ascending=False)"
   ]
  },
  {
   "cell_type": "code",
   "execution_count": 7,
   "id": "fcf11bf3-7852-45ca-85db-7aa07173b549",
   "metadata": {},
   "outputs": [
    {
     "data": {
      "image/png": "[encoded data removed]",
      "text/plain": [
       "<Figure size 432x288 with 1 Axes>"
      ]
     },
     "metadata": {
      "needs_background": "light"
     },
     "output_type": "display_data"
    }
   ],
   "source": [
    "plt.barh(df_['food_groups'], df_['count'])\n",
    "plt.ylabel('Food Categorization')\n",
    "plt.xlabel('Count')\n",
    "plt.show()"
   ]
  }
 ],
 "metadata": {
  "kernelspec": {
   "display_name": "Python 3 (ipykernel)",
   "language": "python",
   "name": "python3"
  },
  "language_info": {
   "codemirror_mode": {
    "name": "ipython",
    "version": 3
   },
   "file_extension": ".py",
   "mimetype": "text/x-python",
   "name": "python",
   "nbconvert_exporter": "python",
   "pygments_lexer": "ipython3",
   "version": "3.8.8"
  }
 },
 "nbformat": 4,
 "nbformat_minor": 5
}
