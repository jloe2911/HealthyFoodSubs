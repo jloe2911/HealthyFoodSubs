{
 "cells": [
  {
   "cell_type": "markdown",
   "id": "5a2fa6f7",
   "metadata": {},
   "source": [
    "**------------------------------------------------------------------------------------------------------------------------------------------------------**\n",
    "\n",
    "**Input: Ingredients from USDA**\n",
    "\n",
    "**Calculates Nutri-Values and Nutri-Scores**\n",
    "\n",
    "**Output: Nutri-Values and Nutri-Scores**\n",
    "\n",
    "**------------------------------------------------------------------------------------------------------------------------------------------------------**"
   ]
  },
  {
   "cell_type": "markdown",
   "id": "58a1d3b8-312d-414e-8ea3-33bf80dd4df8",
   "metadata": {},
   "source": [
    "# Libraries"
   ]
  },
  {
   "cell_type": "code",
   "execution_count": 1,
   "id": "afda5461",
   "metadata": {
    "id": "3b3d3c36-8236-4e1c-9216-205e2bd0b4df"
   },
   "outputs": [],
   "source": [
    "import pandas as pd\n",
    "import numpy as np\n",
    "import matplotlib.pyplot as plt\n",
    "import seaborn as sns\n",
    "import re\n",
    "import json\n",
    "import os\n",
    "import warnings\n",
    "warnings.simplefilter(\"ignore\")"
   ]
  },
  {
   "cell_type": "markdown",
   "id": "bc1a4cce-b973-45f5-b144-e581d3aaa294",
   "metadata": {},
   "source": [
    "**Get Ingredients from USDA and their nutritional data**"
   ]
  },
  {
   "cell_type": "code",
   "execution_count": 2,
   "id": "6b025387",
   "metadata": {
    "id": "8elmMJeQtZmf"
   },
   "outputs": [],
   "source": [
    "df = pd.read_excel('../Input Data/ABBREV.xlsx', sheet_name='ABBREV')\n",
    "df.NDB_No = 'http://idea.rpi.edu/heals/kb/usda#' + df.NDB_No.astype(str).str.rjust(5,'0')"
   ]
  },
  {
   "cell_type": "markdown",
   "id": "2c837dc4-d0a8-4719-b8d1-f82aacb60743",
   "metadata": {},
   "source": [
    "**Utils to calculte Nutri-Values and Nutri-Scores**"
   ]
  },
  {
   "cell_type": "code",
   "execution_count": 3,
   "id": "824f60e2",
   "metadata": {
    "id": "0de0fc2e-7897-4e7d-89f5-f7ff0069aa0e"
   },
   "outputs": [],
   "source": [
    "def scoreEnergy(energy):\n",
    "  if energy <= 335:\n",
    "    return 0\n",
    "  elif energy > 3350:\n",
    "    return 10\n",
    "  elif energy > 3015:\n",
    "    return 9\n",
    "  elif energy > 2680:\n",
    "    return 8\n",
    "  elif energy > 2345:\n",
    "    return 7\n",
    "  elif energy > 2010:\n",
    "    return 6\n",
    "  elif energy > 1675:\n",
    "    return 5\n",
    "  elif energy > 1340:\n",
    "    return 4\n",
    "  elif energy > 1005:\n",
    "    return 3\n",
    "  elif energy > 670:\n",
    "    return 2\n",
    "  elif energy > 335:\n",
    "    return 1\n",
    "\n",
    "def scoreSugar(sugar):\n",
    "  if sugar <= 4.5:\n",
    "    return 0\n",
    "  elif sugar > 45:\n",
    "    return 10\n",
    "  elif sugar > 40:\n",
    "    return 9\n",
    "  elif sugar > 36:\n",
    "    return 8\n",
    "  elif sugar > 31:\n",
    "    return 7\n",
    "  elif sugar > 27:\n",
    "    return 6\n",
    "  elif sugar > 22.5:\n",
    "    return 5\n",
    "  elif sugar > 18:\n",
    "    return 4\n",
    "  elif sugar > 13.5:\n",
    "    return 3\n",
    "  elif sugar > 9:\n",
    "    return 2\n",
    "  elif sugar > 4.5:\n",
    "    return 1\n",
    "\n",
    "def scoreSaturatedFattyAcid(saturatedFattyAcids):\n",
    "  if saturatedFattyAcids <= 1:\n",
    "    return 0\n",
    "  elif saturatedFattyAcids > 10:\n",
    "    return 10\n",
    "  elif saturatedFattyAcids > 9:\n",
    "    return 9\n",
    "  elif saturatedFattyAcids > 8:\n",
    "    return 8\n",
    "  elif saturatedFattyAcids > 7:\n",
    "    return 7\n",
    "  elif saturatedFattyAcids > 6:\n",
    "    return 6\n",
    "  elif saturatedFattyAcids > 5:\n",
    "    return 5\n",
    "  elif saturatedFattyAcids > 4:\n",
    "    return 4\n",
    "  elif saturatedFattyAcids > 3:\n",
    "    return 3\n",
    "  elif saturatedFattyAcids > 2:\n",
    "    return 2\n",
    "  elif saturatedFattyAcids > 1:\n",
    "    return 1\n",
    "\n",
    "def scoreSodium(sodium):\n",
    "  if sodium <= 90:\n",
    "    return 0\n",
    "  elif sodium > 900:\n",
    "    return 10\n",
    "  elif sodium > 810:\n",
    "    return 9\n",
    "  elif sodium > 720:\n",
    "    return 8\n",
    "  elif sodium > 630:\n",
    "    return 7\n",
    "  elif sodium > 540:\n",
    "    return 6\n",
    "  elif sodium > 450:\n",
    "    return 5\n",
    "  elif sodium > 360:\n",
    "    return 4\n",
    "  elif sodium > 270:\n",
    "    return 3\n",
    "  elif sodium > 180:\n",
    "    return 2\n",
    "  elif sodium > 90:\n",
    "    return 1\n",
    "\n",
    "def scoreFiber(fibers):\n",
    "  if fibers <= 0.9:\n",
    "    return 0\n",
    "  elif fibers > 4.7:\n",
    "    return -5\n",
    "  elif fibers > 3.7:\n",
    "    return -4\n",
    "  elif fibers > 2.8:\n",
    "    return -3\n",
    "  elif fibers > 1.9:\n",
    "    return -2\n",
    "  elif fibers > 0.9:\n",
    "    return -1\n",
    "\n",
    "def scoreProtein(proteins):\n",
    "  if proteins <= 1.6:\n",
    "    return 0\n",
    "  elif proteins > 8:\n",
    "    return -5\n",
    "  elif proteins > 6.4:\n",
    "    return -4\n",
    "  elif proteins > 4.8:\n",
    "    return -3\n",
    "  elif proteins > 3.2:\n",
    "    return -2\n",
    "  elif proteins > 1.6:\n",
    "    return -1"
   ]
  },
  {
   "cell_type": "code",
   "execution_count": 4,
   "id": "10a9306f",
   "metadata": {
    "id": "-4St79P-v-c1"
   },
   "outputs": [],
   "source": [
    "def get_nutri_value(row):\n",
    "\n",
    "    energy = float(row['Energ_Kcal'])\n",
    "    sugar = float(row['Sugar_Tot_(g)'])\n",
    "    fat_sat = float(row['FA_Sat_(g)'])\n",
    "    sodium = float(row['Sodium_(mg)'])\n",
    "    fiber = float(row['Fiber_TD_(g)'])\n",
    "    protein = float(row['Protein_(g)'])\n",
    "    \n",
    "    total = 0\n",
    "\n",
    "    if not np.isnan(energy):\n",
    "        total += scoreEnergy(energy*4.184)\n",
    "    if not np.isnan(sugar):\n",
    "        total += scoreSugar(sugar)\n",
    "    if not np.isnan(fat_sat):\n",
    "        total += scoreSaturatedFattyAcid(fat_sat)\n",
    "    if not np.isnan(sodium):\n",
    "        total += scoreSodium(sodium)\n",
    "    if not np.isnan(fiber):\n",
    "        total += scoreFiber(fiber)\n",
    "    if not np.isnan(protein):\n",
    "        total += scoreProtein(protein)\n",
    "        \n",
    "    return total"
   ]
  },
  {
   "cell_type": "code",
   "execution_count": 5,
   "id": "f7493b10-d711-4d29-ba73-10e487c0cbc7",
   "metadata": {},
   "outputs": [],
   "source": [
    "def get_nutri_score(nutri_score):\n",
    "  if nutri_score >= -15 and nutri_score <= -1:\n",
    "    return 'a'\n",
    "  elif nutri_score >= 0 and nutri_score <= 2:\n",
    "    return 'b'\n",
    "  elif nutri_score >= 3 and nutri_score <= 10:\n",
    "    return 'c'\n",
    "  elif nutri_score >= 11 and nutri_score <= 18:\n",
    "    return 'd'\n",
    "  elif nutri_score >= 19 and nutri_score <= 40:\n",
    "    return 'e'"
   ]
  },
  {
   "cell_type": "code",
   "execution_count": 6,
   "id": "7f09f9da",
   "metadata": {
    "id": "dcff21c3-94bd-469b-b541-574b70ce33e7"
   },
   "outputs": [],
   "source": [
    "df['nutri_values'] = df.apply(get_nutri_value, axis='columns')\n",
    "df['nutri_scores'] = df['nutri_values'].apply(get_nutri_score)"
   ]
  },
  {
   "cell_type": "code",
   "execution_count": 7,
   "id": "a34392e8",
   "metadata": {
    "colab": {
     "base_uri": "https://localhost:8080/",
     "height": 330
    },
    "id": "6674a5de-cb15-496e-b823-b5ae8aa7c30e",
    "outputId": "6394d49e-9c60-42a3-b2a4-d5eeaa2934ae"
   },
   "outputs": [
    {
     "data": {
      "text/html": [
       "<div>\n",
       "<style scoped>\n",
       "    .dataframe tbody tr th:only-of-type {\n",
       "        vertical-align: middle;\n",
       "    }\n",
       "\n",
       "    .dataframe tbody tr th {\n",
       "        vertical-align: top;\n",
       "    }\n",
       "\n",
       "    .dataframe thead th {\n",
       "        text-align: right;\n",
       "    }\n",
       "</style>\n",
       "<table border=\"1\" class=\"dataframe\">\n",
       "  <thead>\n",
       "    <tr style=\"text-align: right;\">\n",
       "      <th></th>\n",
       "      <th>NDB_No</th>\n",
       "      <th>Shrt_Desc</th>\n",
       "      <th>nutri_values</th>\n",
       "      <th>nutri_scores</th>\n",
       "    </tr>\n",
       "  </thead>\n",
       "  <tbody>\n",
       "    <tr>\n",
       "      <th>0</th>\n",
       "      <td>http://idea.rpi.edu/heals/kb/usda#01001</td>\n",
       "      <td>BUTTER,WITH SALT</td>\n",
       "      <td>25</td>\n",
       "      <td>e</td>\n",
       "    </tr>\n",
       "    <tr>\n",
       "      <th>1</th>\n",
       "      <td>http://idea.rpi.edu/heals/kb/usda#01002</td>\n",
       "      <td>BUTTER,WHIPPED,WITH SALT</td>\n",
       "      <td>25</td>\n",
       "      <td>e</td>\n",
       "    </tr>\n",
       "    <tr>\n",
       "      <th>2</th>\n",
       "      <td>http://idea.rpi.edu/heals/kb/usda#01003</td>\n",
       "      <td>BUTTER OIL,ANHYDROUS</td>\n",
       "      <td>20</td>\n",
       "      <td>e</td>\n",
       "    </tr>\n",
       "    <tr>\n",
       "      <th>3</th>\n",
       "      <td>http://idea.rpi.edu/heals/kb/usda#01004</td>\n",
       "      <td>CHEESE,BLUE</td>\n",
       "      <td>19</td>\n",
       "      <td>e</td>\n",
       "    </tr>\n",
       "    <tr>\n",
       "      <th>4</th>\n",
       "      <td>http://idea.rpi.edu/heals/kb/usda#01005</td>\n",
       "      <td>CHEESE,BRICK</td>\n",
       "      <td>15</td>\n",
       "      <td>d</td>\n",
       "    </tr>\n",
       "  </tbody>\n",
       "</table>\n",
       "</div>"
      ],
      "text/plain": [
       "                                    NDB_No                 Shrt_Desc  \\\n",
       "0  http://idea.rpi.edu/heals/kb/usda#01001          BUTTER,WITH SALT   \n",
       "1  http://idea.rpi.edu/heals/kb/usda#01002  BUTTER,WHIPPED,WITH SALT   \n",
       "2  http://idea.rpi.edu/heals/kb/usda#01003      BUTTER OIL,ANHYDROUS   \n",
       "3  http://idea.rpi.edu/heals/kb/usda#01004               CHEESE,BLUE   \n",
       "4  http://idea.rpi.edu/heals/kb/usda#01005              CHEESE,BRICK   \n",
       "\n",
       "   nutri_values nutri_scores  \n",
       "0            25            e  \n",
       "1            25            e  \n",
       "2            20            e  \n",
       "3            19            e  \n",
       "4            15            d  "
      ]
     },
     "execution_count": 7,
     "metadata": {},
     "output_type": "execute_result"
    }
   ],
   "source": [
    "df = df[['NDB_No', 'Shrt_Desc', 'nutri_values', 'nutri_scores']]\n",
    "df.head()"
   ]
  },
  {
   "cell_type": "code",
   "execution_count": 8,
   "id": "7f0dd696-7cd1-4c33-ab02-393bc9aef7d4",
   "metadata": {},
   "outputs": [],
   "source": [
    "df.to_csv('../Output/nutri_scores.csv')"
   ]
  }
 ],
 "metadata": {
  "colab": {
   "name": "Copy of nutri_score_creation.ipynb",
   "provenance": []
  },
  "kernelspec": {
   "display_name": "Python 3",
   "language": "python",
   "name": "python3"
  },
  "language_info": {
   "codemirror_mode": {
    "name": "ipython",
    "version": 3
   },
   "file_extension": ".py",
   "mimetype": "text/x-python",
   "name": "python",
   "nbconvert_exporter": "python",
   "pygments_lexer": "ipython3",
   "version": "3.8.8"
  }
 },
 "nbformat": 4,
 "nbformat_minor": 5
}
