{
 "cells": [
  {
   "cell_type": "code",
   "execution_count": 10,
   "id": "32eccc36-73a7-4429-8fcd-730062c343e4",
   "metadata": {},
   "outputs": [],
   "source": [
    "import pandas as pd\n",
    "import numpy as np\n",
    "import random\n",
    "import ast\n",
    "from gensim.models import KeyedVectors\n",
    "from gensim.test.utils import datapath"
   ]
  },
  {
   "cell_type": "code",
   "execution_count": 11,
   "id": "e00bbeed-daf2-41ae-b008-1fd25b8b1e02",
   "metadata": {},
   "outputs": [
    {
     "data": {
      "text/plain": [
       "[('http://idea.rpi.edu/heals/kb/usda#04002', 0.8940567970275879),\n",
       " ('http://idea.rpi.edu/heals/kb/usda#20018', 0.8897666931152344),\n",
       " ('http://idea.rpi.edu/heals/kb/usda#09079', 0.8848801851272583),\n",
       " ('http://idea.rpi.edu/heals/kb/usda#20317', 0.8738973736763),\n",
       " ('http://idea.rpi.edu/heals/kb/usda#20016', 0.8738973736763)]"
      ]
     },
     "execution_count": 11,
     "metadata": {},
     "output_type": "execute_result"
    }
   ],
   "source": [
    "word_vectors = KeyedVectors.load_word2vec_format('../Output/food_embeddings.txt', binary=False)\n",
    "word_vectors.most_similar('http://idea.rpi.edu/heals/kb/usda#01001', topn=5)"
   ]
  },
  {
   "cell_type": "markdown",
   "id": "8fac59e1-d773-4ec6-828d-3e4c22a0abea",
   "metadata": {},
   "source": [
    "** ### ----------------------- Food Categories ----------------------- ### **"
   ]
  },
  {
   "cell_type": "code",
   "execution_count": 12,
   "id": "54a1f48e-4d19-4f5e-ae6d-da5ccce19808",
   "metadata": {},
   "outputs": [],
   "source": [
    "df = pd.read_csv('../Input Data/food_category.csv')\n",
    "df['NDB_No']= df['NDB_No'].astype(str).str.rjust(5,'0')"
   ]
  },
  {
   "cell_type": "code",
   "execution_count": 13,
   "id": "a086a1a2-540a-4b6a-8b3a-3469dc6b7971",
   "metadata": {},
   "outputs": [],
   "source": [
    "food2cat ={}\n",
    "food_label_map= {}\n",
    "food_id_map ={}\n",
    "for i, row in df.iterrows():\n",
    "    uri = 'http://idea.rpi.edu/heals/kb/usda#'+row['NDB_No']\n",
    "    label = row['Long_Desc'].strip()\n",
    "    cat = row['FdGrp_Desc']\n",
    "    food2cat[uri] = cat\n",
    "    food_label_map[uri] = label\n",
    "    food_id_map[label] = uri"
   ]
  },
  {
   "cell_type": "markdown",
   "id": "6feff732-f988-461c-a6b0-4ac15330d713",
   "metadata": {},
   "source": [
    "** ### ----------------------- Functions ----------------------- ### **"
   ]
  },
  {
   "cell_type": "code",
   "execution_count": 14,
   "id": "5628824d-53f1-4daa-9efb-9a3fde22dbea",
   "metadata": {},
   "outputs": [],
   "source": [
    "def get_simscore_ingrank_onlyss_multisamerank(fromt, asdf):\n",
    "    # return rank based on KG embedding\n",
    "    TOPK = len(list(word_vectors.index_to_key))\n",
    "    mostSimilar = word_vectors.most_similar(fromt, topn=TOPK)\n",
    "    for i,(e, sim) in enumerate(mostSimilar):\n",
    "        if e == asdf:\n",
    "            return i+1    \n",
    "    return TOPK"
   ]
  },
  {
   "cell_type": "code",
   "execution_count": 15,
   "id": "c48d9b30-0332-41b8-9dac-5d86cee00568",
   "metadata": {},
   "outputs": [],
   "source": [
    "def get_simscore_ingrank_category_multisamerank(fromt, asdf):\n",
    "    # return rank based on KG embedding + foods' category\n",
    "    TOPK = len(list(word_vectors.index_to_key))\n",
    "    mostSimilar = word_vectors.most_similar(fromt, topn=TOPK)\n",
    "    i = 0\n",
    "    for e, sim in mostSimilar:\n",
    "        if e not in food2cat or food2cat[asdf] != food2cat[e]: continue\n",
    "        if e == asdf:\n",
    "            return i+1 \n",
    "        i+=1\n",
    "    return TOPK"
   ]
  },
  {
   "cell_type": "code",
   "execution_count": 16,
   "id": "b0e8a670-0385-460d-a381-8137317476ae",
   "metadata": {},
   "outputs": [],
   "source": [
    "def mrr_map_new(scraped_subs_dict, opt = 1):\n",
    "    rank_scores = []\n",
    "    ave_p = []\n",
    "    in_top_5 = 0\n",
    "    in_top_10 = 0\n",
    "    print('number of ings: ',len(scraped_subs_dict.keys()))\n",
    "\n",
    "    for fromt in sorted(scraped_subs_dict.keys()):\n",
    "        relevant_ranks = []\n",
    "        min_rank = 9999999999999999\n",
    "        for asdf in scraped_subs_dict[fromt]:\n",
    "            if opt == 1:\n",
    "                rank = get_simscore_ingrank_onlyss_multisamerank(fromt, asdf)\n",
    "            elif opt == 2:\n",
    "                rank = get_simscore_ingrank_category_multisamerank(fromt, asdf)   \n",
    "            relevant_ranks.append(rank)\n",
    "            if rank < min_rank:\n",
    "                min_rank = rank\n",
    "        rank = min_rank\n",
    "        rank_scores.append(1.0/rank)\n",
    "        if min_rank <= 5:\n",
    "            in_top_5 += 1\n",
    "        if min_rank <= 10:\n",
    "            in_top_10 += 1\n",
    "        precisions = []\n",
    "        for rank in relevant_ranks:\n",
    "            good_docs = len([r for r in relevant_ranks if r <= rank])\n",
    "            precisions.append(good_docs/rank)\n",
    "        if len(precisions) == 0:\n",
    "            precisions = [0]\n",
    "        ave_p.append(np.mean(precisions))\n",
    "    print(f'MAP: {(np.mean(ave_p)):.4f}')\n",
    "    print(f'MRR: {(np.mean(rank_scores)):.4f}')\n",
    "    print(f'RR@5: {(in_top_5/len(scraped_subs_dict.keys())):.4f}')\n",
    "    print(f'RR@10: {(in_top_10/len(scraped_subs_dict.keys())):.4f}')"
   ]
  },
  {
   "cell_type": "markdown",
   "id": "9d0f8904-553e-4430-a13b-ffb8be07eccd",
   "metadata": {},
   "source": [
    "** ### ----------------------- Ground Truth ----------------------- ### **"
   ]
  },
  {
   "cell_type": "code",
   "execution_count": 17,
   "id": "97f22ae8-3387-4849-b58b-1f50d949d61b",
   "metadata": {},
   "outputs": [],
   "source": [
    "subs_df = pd.read_csv('../Input Data/final_substitution.csv', sep=';')\n",
    "subs_df['Food id'] = subs_df['Food id']\n",
    "subs_df['Substitution id'] = subs_df['Substitution id']"
   ]
  },
  {
   "cell_type": "code",
   "execution_count": 18,
   "id": "8d2bc56c-31c4-418b-a1f6-15b93c100d0f",
   "metadata": {},
   "outputs": [],
   "source": [
    "ground_truth_foods = set(subs_df['Food id'].unique()).union(subs_df['Substitution id'].unique())"
   ]
  },
  {
   "cell_type": "code",
   "execution_count": 19,
   "id": "d370a574-8708-4eb3-8996-ebcd474034da",
   "metadata": {},
   "outputs": [],
   "source": [
    "scraped_subs_dict = dict()\n",
    "\n",
    "for i,row in subs_df.iterrows():\n",
    "    food= row['Food id']\n",
    "    subs = row['Substitution id']\n",
    "    if food in word_vectors and subs in word_vectors and food in food2cat and subs in food2cat:\n",
    "        if food not in scraped_subs_dict:\n",
    "            scraped_subs_dict[food]= set()\n",
    "      \n",
    "        scraped_subs_dict[food].add(subs)\n",
    "    else:\n",
    "        print (food, subs, 'not in embeddings')"
   ]
  },
  {
   "cell_type": "code",
   "execution_count": null,
   "id": "51d56846-caca-46eb-acac-cc76d720c388",
   "metadata": {},
   "outputs": [
    {
     "name": "stdout",
     "output_type": "stream",
     "text": [
      "number of ings:  370\n"
     ]
    }
   ],
   "source": [
    "mrr_map_new(scraped_subs_dict, 1)"
   ]
  },
  {
   "cell_type": "code",
   "execution_count": null,
   "id": "3b3cfe8f-c858-4457-9aac-4ddfb9aafb02",
   "metadata": {},
   "outputs": [],
   "source": [
    "mrr_map_new(scraped_subs_dict, 2)"
   ]
  },
  {
   "cell_type": "code",
   "execution_count": null,
   "id": "feb9bf6d-8d5b-4930-ba47-e024fa4b8438",
   "metadata": {},
   "outputs": [],
   "source": []
  }
 ],
 "metadata": {
  "kernelspec": {
   "display_name": "Python 3",
   "language": "python",
   "name": "python3"
  },
  "language_info": {
   "codemirror_mode": {
    "name": "ipython",
    "version": 3
   },
   "file_extension": ".py",
   "mimetype": "text/x-python",
   "name": "python",
   "nbconvert_exporter": "python",
   "pygments_lexer": "ipython3",
   "version": "3.8.8"
  }
 },
 "nbformat": 4,
 "nbformat_minor": 5
}
