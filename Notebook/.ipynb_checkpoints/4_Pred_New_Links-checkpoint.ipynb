{
 "cells": [
  {
   "cell_type": "markdown",
   "id": "a3f928c7-683b-45c0-a3bf-2d88c61094f2",
   "metadata": {},
   "source": [
    "**------------------------------------------------------------------------------------------------------------------------------------------------------**\n",
    "\n",
    "**Input: \"Food\" Embeddings**\n",
    "\n",
    "**Evaluates Predict New Links**\n",
    "\n",
    "**Output: New Links**\n",
    "\n",
    "**------------------------------------------------------------------------------------------------------------------------------------------------------**"
   ]
  },
  {
   "cell_type": "markdown",
   "id": "04eb3b7c-4331-4919-8a6b-40e13aa38465",
   "metadata": {},
   "source": [
    "# Libraries"
   ]
  },
  {
   "cell_type": "code",
   "execution_count": 1,
   "id": "c79f7b73-5cfa-4dfd-99b8-0bd4830117fc",
   "metadata": {},
   "outputs": [
    {
     "name": "stderr",
     "output_type": "stream",
     "text": [
      "C:\\Users\\julie\\anaconda3\\lib\\site-packages\\gensim\\similarities\\__init__.py:15: UserWarning: The gensim.similarities.levenshtein submodule is disabled, because the optional Levenshtein package <https://pypi.org/project/python-Levenshtein/> is unavailable. Install Levenhstein (e.g. `pip install python-Levenshtein`) to suppress this warning.\n",
      "  warnings.warn(msg)\n"
     ]
    }
   ],
   "source": [
    "import pandas as pd\n",
    "import numpy as np\n",
    "from gensim.models import KeyedVectors\n",
    "from gensim.test.utils import datapath\n",
    "import warnings\n",
    "warnings.simplefilter(\"ignore\")"
   ]
  },
  {
   "cell_type": "code",
   "execution_count": 2,
   "id": "b305078b-eab6-462c-8c75-ff75429e9201",
   "metadata": {},
   "outputs": [
    {
     "data": {
      "text/plain": [
       "[('http://idea.rpi.edu/heals/kb/usda#04615', 0.9956585168838501),\n",
       " ('http://idea.rpi.edu/heals/kb/usda#01088', 0.9955866932868958),\n",
       " ('http://idea.rpi.edu/heals/kb/usda#04058', 0.9953868985176086),\n",
       " ('http://idea.rpi.edu/heals/kb/usda#02041', 0.9951779246330261),\n",
       " ('http://idea.rpi.edu/heals/kb/usda#01023', 0.9951662421226501)]"
      ]
     },
     "execution_count": 2,
     "metadata": {},
     "output_type": "execute_result"
    }
   ],
   "source": [
    "word_vectors = KeyedVectors.load_word2vec_format('../Output/GAT_food_embeddings.txt', binary=False)\n",
    "word_vectors.most_similar('http://idea.rpi.edu/heals/kb/usda#01001', topn=5)"
   ]
  },
  {
   "cell_type": "code",
   "execution_count": 3,
   "id": "5962e1b1-3faa-41e1-8dfe-cc6b953fb1d3",
   "metadata": {},
   "outputs": [
    {
     "name": "stdout",
     "output_type": "stream",
     "text": [
      "# Foods = 9372\n"
     ]
    }
   ],
   "source": [
    "foods = pd.read_csv('../Input Data/data/all_foods.csv')\n",
    "foods = np.unique(foods['subject'])\n",
    "print(f'# Foods = {len(foods)}')"
   ]
  },
  {
   "cell_type": "markdown",
   "id": "e60c8d2c-843e-4cd9-b593-e03f909cf3bc",
   "metadata": {},
   "source": [
    "**Get Top 10 Food Substitutes**"
   ]
  },
  {
   "cell_type": "code",
   "execution_count": 4,
   "id": "999d86aa-0875-44ef-97c0-7848f6decdae",
   "metadata": {},
   "outputs": [],
   "source": [
    "topn = 10\n",
    "df_results = pd.DataFrame()\n",
    "\n",
    "for food in foods:\n",
    "    query_food = []\n",
    "    top_subs = []\n",
    "    top_sim_scores = []\n",
    "    for j in range(topn):\n",
    "        query_food.append(food)\n",
    "        top_subs.append(word_vectors.most_similar(food, topn=topn)[j][0])\n",
    "        top_sim_scores.append(word_vectors.most_similar(food, topn=topn)[j][1])\n",
    "    df_small = pd.DataFrame()\n",
    "    df_small['Food id'] = query_food\n",
    "    df_small['Substitution id'] = top_subs\n",
    "    df_small['Similarity Scores'] = top_sim_scores\n",
    "    df_results = df_results.append(df_small)"
   ]
  },
  {
   "cell_type": "markdown",
   "id": "9e1dfd24-18e4-49d2-b8ac-ba85290420dd",
   "metadata": {},
   "source": [
    "**Get Food Labels**"
   ]
  },
  {
   "cell_type": "code",
   "execution_count": 5,
   "id": "1a371397-f8a9-4bdd-9ef8-1fcf9b37d333",
   "metadata": {},
   "outputs": [],
   "source": [
    "food_labels = pd.read_excel('../Input Data/ABBREV.xlsx', sheet_name='ABBREV')\n",
    "food_labels.NDB_No = 'http://idea.rpi.edu/heals/kb/usda#' + food_labels.NDB_No.astype(str).str.rjust(5,'0')\n",
    "food_2_label = dict()\n",
    "\n",
    "for i, row in food_labels.iterrows():\n",
    "    food = row['NDB_No']\n",
    "    label = row['Shrt_Desc']\n",
    "    food_2_label[food] = label"
   ]
  },
  {
   "cell_type": "markdown",
   "id": "732d3951-cc34-4fa8-b79a-85114c942556",
   "metadata": {},
   "source": [
    "**Get Nutri-Values + Nutri-Scores**"
   ]
  },
  {
   "cell_type": "code",
   "execution_count": 6,
   "id": "58b5330a-d713-483e-862d-6c169974f1bb",
   "metadata": {},
   "outputs": [],
   "source": [
    "nutri_scores = pd.read_csv('../Output/nutri_scores.csv')\n",
    "food_2_score = dict()\n",
    "\n",
    "for i, row in nutri_scores.iterrows():\n",
    "    food = row['NDB_No']\n",
    "    score = row['nutri_values']\n",
    "    food_2_score[food] = score"
   ]
  },
  {
   "cell_type": "markdown",
   "id": "3b8abf9c-e146-4456-a242-3f18266e7536",
   "metadata": {},
   "source": [
    "**Get Food Categories**"
   ]
  },
  {
   "cell_type": "code",
   "execution_count": 7,
   "id": "2300bbd5-6289-44d4-aa63-fa2b4120f90f",
   "metadata": {},
   "outputs": [],
   "source": [
    "food_cat = pd.read_csv('../Input Data/food_category.csv')\n",
    "food_cat['NDB_No'] = food_cat['NDB_No'].astype(str).str.rjust(5,'0')\n",
    "food_2_cat = dict()\n",
    "\n",
    "for i, row in food_cat.iterrows():\n",
    "    food = 'http://idea.rpi.edu/heals/kb/usda#' + row['NDB_No']\n",
    "    cat = row['FdGrp_Desc']\n",
    "    food_2_cat[food] = cat"
   ]
  },
  {
   "cell_type": "markdown",
   "id": "c353fccd-72fb-4fb4-8186-0b6550693650",
   "metadata": {},
   "source": [
    "**Add Food Labels, Nutri-Values + Nutri-Scores, Food Categories to df_results**"
   ]
  },
  {
   "cell_type": "code",
   "execution_count": 8,
   "id": "29adb0d8-f48c-46cd-aa8d-d4ffdd0164d0",
   "metadata": {},
   "outputs": [],
   "source": [
    "food_labels = []\n",
    "subs_labels = []\n",
    "food_scores = []\n",
    "subs_scores = []\n",
    "food_cat = []\n",
    "subs_cat = []\n",
    "\n",
    "for i, row in df_results.iterrows():\n",
    "    if(row['Food id'] in food_2_label.keys() and row['Substitution id'] in food_2_label.keys()):\n",
    "        food_labels.append(food_2_label[row['Food id']])\n",
    "        subs_labels.append(food_2_label[row['Substitution id']])\n",
    "    else:\n",
    "        food_labels.append('not found')\n",
    "        subs_labels.append('not found')\n",
    "    if(row['Food id'] in food_2_score.keys() and row['Substitution id'] in food_2_score.keys()):\n",
    "        food_scores.append(food_2_score[row['Food id']])\n",
    "        subs_scores.append(food_2_score[row['Substitution id']])\n",
    "    else:\n",
    "        food_scores.append(999)\n",
    "        subs_scores.append(999)\n",
    "    if(row['Food id'] in food_2_cat.keys() and row['Substitution id'] in food_2_cat.keys()):\n",
    "        food_cat.append(food_2_cat[row['Food id']])\n",
    "        subs_cat.append(food_2_cat[row['Substitution id']])\n",
    "    else:\n",
    "        food_cat.append('not found')\n",
    "        subs_cat.append('not found')\n",
    "        \n",
    "df_results['Food label'] = food_labels\n",
    "df_results['Substitution label'] = subs_labels\n",
    "df_results['Food Nutri-Value'] = food_scores\n",
    "df_results['Substitution Nutri-Value'] = subs_scores\n",
    "df_results['Food Category'] = food_cat\n",
    "df_results['Substitution Category'] = subs_cat"
   ]
  },
  {
   "cell_type": "code",
   "execution_count": 9,
   "id": "9b2a6e44-5fd0-4feb-942b-8b8926ea5c9c",
   "metadata": {},
   "outputs": [
    {
     "data": {
      "text/plain": [
       "93720"
      ]
     },
     "execution_count": 9,
     "metadata": {},
     "output_type": "execute_result"
    }
   ],
   "source": [
    "len(df_results)"
   ]
  },
  {
   "cell_type": "code",
   "execution_count": 10,
   "id": "4a4795e7-b8bf-4816-b328-d5d3dc51e652",
   "metadata": {},
   "outputs": [],
   "source": [
    "df_results = df_results[df_results['Food label'] != 'not found']\n",
    "df_results = df_results[df_results['Food Category'] != 'not found']"
   ]
  },
  {
   "cell_type": "markdown",
   "id": "df6c6b74-2f68-4ffc-ac40-098b87b4b09e",
   "metadata": {},
   "source": [
    "**Filter out all substitutes which have a higher Nutri-Value than their query food**"
   ]
  },
  {
   "cell_type": "code",
   "execution_count": 11,
   "id": "49f9b086-620b-4c85-97cc-e75b9587c492",
   "metadata": {},
   "outputs": [
    {
     "data": {
      "text/plain": [
       "75626"
      ]
     },
     "execution_count": 11,
     "metadata": {},
     "output_type": "execute_result"
    }
   ],
   "source": [
    "len(df_results)"
   ]
  },
  {
   "cell_type": "code",
   "execution_count": 12,
   "id": "f6401f1a-22a7-4685-8cc3-1556459fd0ec",
   "metadata": {},
   "outputs": [],
   "source": [
    "df_results = df_results[df_results['Food Nutri-Value'] > df_results['Substitution Nutri-Value']]"
   ]
  },
  {
   "cell_type": "markdown",
   "id": "35e821c0-b1bd-4272-b91d-28520f40305d",
   "metadata": {},
   "source": [
    "**Filter out substitutes which are not in the same food category than their query food, and get final dataset, which will be labelled by our Nutri-Scholars**"
   ]
  },
  {
   "cell_type": "code",
   "execution_count": 13,
   "id": "591d33ed-9d25-48ef-b85d-8e7e3dd6e392",
   "metadata": {},
   "outputs": [
    {
     "data": {
      "text/plain": [
       "35758"
      ]
     },
     "execution_count": 13,
     "metadata": {},
     "output_type": "execute_result"
    }
   ],
   "source": [
    "len(df_results)"
   ]
  },
  {
   "cell_type": "code",
   "execution_count": 14,
   "id": "1bd1c975-99fd-423c-8af6-67c6470c945b",
   "metadata": {},
   "outputs": [
    {
     "data": {
      "text/plain": [
       "7341"
      ]
     },
     "execution_count": 14,
     "metadata": {},
     "output_type": "execute_result"
    }
   ],
   "source": [
    "len(np.unique(df_results['Food id']))"
   ]
  },
  {
   "cell_type": "code",
   "execution_count": 15,
   "id": "94693274-3aa9-4542-91b3-c86269d0143e",
   "metadata": {},
   "outputs": [],
   "source": [
    "def get_subs(df_results):\n",
    "    subs_a_tot = pd.DataFrame()\n",
    "    subs_b_tot = pd.DataFrame()\n",
    "    for food in np.unique(df_results['Food id']):\n",
    "        if len(df_results[(df_results['Food id'] == food) & (df_results['Food Category'] == df_results['Substitution Category'])]) >= 2:\n",
    "            subs_a = df_results[(df_results['Food id'] == food) & \n",
    "                                (df_results['Food Category'] == df_results['Substitution Category'])].sort_values(by=['Similarity Scores', 'Substitution Nutri-Value'], ascending=[False, True]).iloc[[0]]\n",
    "            subs_b = df_results[(df_results['Food id'] == food) & \n",
    "                                (df_results['Food Category'] == df_results['Substitution Category'])].sort_values(by=['Substitution Nutri-Value', 'Similarity Scores'], ascending=[True, False]).iloc[[0]]\n",
    "            if subs_a['Substitution id'].iloc[0] != subs_b['Substitution id'].iloc[0]:\n",
    "                subs_a_tot = subs_a_tot.append(subs_a)\n",
    "                subs_b_tot = subs_b_tot.append(subs_b)\n",
    "            else: \n",
    "                subs_b = subs_a\n",
    "                subs_a = df_results[(df_results['Food id'] == food) & \n",
    "                                    (df_results['Food Category'] == df_results['Substitution Category'])].sort_values(by=['Similarity Scores', 'Substitution Nutri-Value'], ascending=[False, True]).iloc[[1]]\n",
    "                subs_a_tot = subs_a_tot.append(subs_a)\n",
    "                subs_b_tot = subs_b_tot.append(subs_b)\n",
    "    return subs_a_tot, subs_b_tot"
   ]
  },
  {
   "cell_type": "markdown",
   "id": "bde38750-892c-4646-bdac-07758ac62e41",
   "metadata": {},
   "source": [
    "**Subs A = highest similarity score, Subs B = lowest Nutri-Value**"
   ]
  },
  {
   "cell_type": "code",
   "execution_count": 16,
   "id": "3e2a3423-51c4-4f9d-b62e-0f9fdd43fd1e",
   "metadata": {},
   "outputs": [],
   "source": [
    "subs_a, subs_b = get_subs(df_results)"
   ]
  },
  {
   "cell_type": "code",
   "execution_count": 17,
   "id": "7b3b0632-82e4-4b03-810f-7d78595d0bf2",
   "metadata": {},
   "outputs": [],
   "source": [
    "subs_a = subs_a[['Food label', 'Substitution label', 'Food Nutri-Value', 'Substitution Nutri-Value']]\n",
    "subs_a.rename(columns = {'Substitution label':'Subs A', 'Substitution Nutri-Value':'Subs A Nutri-Value'}, inplace = True)"
   ]
  },
  {
   "cell_type": "code",
   "execution_count": 18,
   "id": "c2fc1bb3-bd20-4f7f-aee7-c6076da2bcf7",
   "metadata": {},
   "outputs": [],
   "source": [
    "subs_b = subs_b[['Food label', 'Substitution label', 'Food Nutri-Value', 'Substitution Nutri-Value']]\n",
    "subs_b.rename(columns = {'Substitution label':'Subs B', 'Substitution Nutri-Value':'Subs B Nutri-Value'}, inplace = True)"
   ]
  },
  {
   "cell_type": "markdown",
   "id": "d6186269-5541-445a-b060-78514acd8907",
   "metadata": {},
   "source": [
    "**Concatenate Both Datasets**"
   ]
  },
  {
   "cell_type": "code",
   "execution_count": 19,
   "id": "6ae315ab-bdd6-4b1b-9b41-096c1843c19b",
   "metadata": {},
   "outputs": [],
   "source": [
    "new_links = pd.merge(subs_a, subs_b)"
   ]
  },
  {
   "cell_type": "code",
   "execution_count": 20,
   "id": "b0a7a6a0-d646-4c57-91cb-0b2c1f20d396",
   "metadata": {},
   "outputs": [
    {
     "data": {
      "text/plain": [
       "508"
      ]
     },
     "execution_count": 20,
     "metadata": {},
     "output_type": "execute_result"
    }
   ],
   "source": [
    "len(new_links)"
   ]
  },
  {
   "cell_type": "code",
   "execution_count": 21,
   "id": "948d4411-a791-47c7-a45c-12ef3a6de3d1",
   "metadata": {},
   "outputs": [],
   "source": [
    "new_links.to_csv('../Output/new_links_before_shuffle.csv')"
   ]
  },
  {
   "cell_type": "markdown",
   "id": "690697b4-3521-4b2f-a0c7-e3c015c87bf5",
   "metadata": {},
   "source": [
    "**Shuffle Dataset for Nutri-Scholars**"
   ]
  },
  {
   "cell_type": "code",
   "execution_count": 22,
   "id": "46aa587f-577d-4ebe-810a-3c3966d1565b",
   "metadata": {},
   "outputs": [],
   "source": [
    "new_links = new_links[['Food label', 'Subs A', 'Subs B']]\n",
    "new_links['True Label'] = new_links['Subs B']"
   ]
  },
  {
   "cell_type": "code",
   "execution_count": 23,
   "id": "1749d8c5-25aa-44cb-800c-b97b000d700b",
   "metadata": {},
   "outputs": [],
   "source": [
    "shuffle = np.apply_along_axis(np.random.permutation, 1, new_links[['Subs A', 'Subs B']])\n",
    "df = pd.DataFrame(shuffle, columns = ['Subs A (shuffle)','Subs B (shuffle)'])"
   ]
  },
  {
   "cell_type": "code",
   "execution_count": 24,
   "id": "134063db-0c91-438a-94d3-e09cb6dbabe5",
   "metadata": {},
   "outputs": [],
   "source": [
    "new_links = new_links[['Food label', 'True Label']]"
   ]
  },
  {
   "cell_type": "code",
   "execution_count": 25,
   "id": "a6f28402-71c3-459c-bd69-a465bf69da20",
   "metadata": {},
   "outputs": [],
   "source": [
    "new_links['Subs A'] = df['Subs A (shuffle)']\n",
    "new_links['Subs B'] = df['Subs B (shuffle)']"
   ]
  },
  {
   "cell_type": "code",
   "execution_count": 26,
   "id": "0dd6d453-5582-4906-8932-00f7684d5b29",
   "metadata": {},
   "outputs": [],
   "source": [
    "new_links.to_csv('../Output/new_links_after_shuffle.csv')"
   ]
  }
 ],
 "metadata": {
  "kernelspec": {
   "display_name": "Python 3",
   "language": "python",
   "name": "python3"
  },
  "language_info": {
   "codemirror_mode": {
    "name": "ipython",
    "version": 3
   },
   "file_extension": ".py",
   "mimetype": "text/x-python",
   "name": "python",
   "nbconvert_exporter": "python",
   "pygments_lexer": "ipython3",
   "version": "3.8.8"
  }
 },
 "nbformat": 4,
 "nbformat_minor": 5
}
