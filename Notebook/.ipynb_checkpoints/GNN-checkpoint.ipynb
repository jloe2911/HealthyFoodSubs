{
 "cells": [
  {
   "cell_type": "markdown",
   "id": "f995d94f-c3e8-44b2-a18d-40c3eacb4f72",
   "metadata": {},
   "source": [
    "# Libraries"
   ]
  },
  {
   "cell_type": "code",
   "execution_count": 87,
   "id": "6cafaffc-55f3-46d7-b781-f6458f9d8251",
   "metadata": {},
   "outputs": [],
   "source": [
    "import pandas as pd\n",
    "import numpy as np\n",
    "import matplotlib.pyplot as plt\n",
    "\n",
    "import os\n",
    "import re\n",
    "import random\n",
    "import itertools\n",
    "import warnings\n",
    "warnings.simplefilter(\"ignore\")\n",
    "\n",
    "from sklearn import preprocessing\n",
    "\n",
    "import dgl\n",
    "from dgl.data import DGLDataset\n",
    "import dgl.nn as dglnn\n",
    "from dgl.nn import SAGEConv\n",
    "from dgl.nn import GraphConv\n",
    "import dgl.function as fn\n",
    "\n",
    "import torch\n",
    "import torch.nn as nn\n",
    "import torch.nn.functional as F\n",
    "\n",
    "import pygraphviz as pgv\n",
    "\n",
    "import scipy.sparse as sp"
   ]
  },
  {
   "cell_type": "code",
   "execution_count": 88,
   "id": "8ac8c793-8bf3-43e6-be52-d24bc04ce85f",
   "metadata": {},
   "outputs": [],
   "source": [
    "n_input_feat = 50\n",
    "n_hidden_feat = 100\n",
    "n_output_feat = 50\n",
    "\n",
    "n_epochs = 150\n",
    "\n",
    "k = 10 # for negative graph: each edge gets k negative examples"
   ]
  },
  {
   "cell_type": "markdown",
   "id": "8fdc9cfc-06b6-4a31-b458-8d21d5e04154",
   "metadata": {},
   "source": [
    "# 1) Create DGL Heterograph"
   ]
  },
  {
   "cell_type": "markdown",
   "id": "302f7e86-ed63-4fd2-a706-34a25f36510b",
   "metadata": {},
   "source": [
    "## a. Get KG"
   ]
  },
  {
   "cell_type": "code",
   "execution_count": 89,
   "id": "b9d313aa-a2a4-40d1-ae60-b546930835ef",
   "metadata": {},
   "outputs": [],
   "source": [
    "f = open('../Input Data/statements.nq', 'r')\n",
    "text = f.readlines()"
   ]
  },
  {
   "cell_type": "code",
   "execution_count": 90,
   "id": "84a9e636-4af3-48e1-ad2a-b6850f957009",
   "metadata": {},
   "outputs": [],
   "source": [
    "rows = []\n",
    "for line in text:\n",
    "  split = line.split()\n",
    "  s = split[0]\n",
    "  s = s.replace('<', '')\n",
    "  s = s.replace('>', '')\n",
    "  p = split[1]\n",
    "  p = p.replace('<', '')\n",
    "  p = p.replace('>', '')\n",
    "  o = split[2]\n",
    "  o = o.replace('<', '')\n",
    "  o = o.replace('>', '')\n",
    "  rows.append([s, p, o])"
   ]
  },
  {
   "cell_type": "code",
   "execution_count": 91,
   "id": "8b67afba-ed82-4542-9f90-0dbd98860314",
   "metadata": {},
   "outputs": [
    {
     "data": {
      "text/html": [
       "<div>\n",
       "<style scoped>\n",
       "    .dataframe tbody tr th:only-of-type {\n",
       "        vertical-align: middle;\n",
       "    }\n",
       "\n",
       "    .dataframe tbody tr th {\n",
       "        vertical-align: top;\n",
       "    }\n",
       "\n",
       "    .dataframe thead th {\n",
       "        text-align: right;\n",
       "    }\n",
       "</style>\n",
       "<table border=\"1\" class=\"dataframe\">\n",
       "  <thead>\n",
       "    <tr style=\"text-align: right;\">\n",
       "      <th></th>\n",
       "      <th>subject</th>\n",
       "      <th>predicate</th>\n",
       "      <th>object</th>\n",
       "    </tr>\n",
       "  </thead>\n",
       "  <tbody>\n",
       "    <tr>\n",
       "      <th>0</th>\n",
       "      <td>http://idea.rpi.edu/heals/kb/usda#01003</td>\n",
       "      <td>http://www.w3.org/1999/02/22-rdf-syntax-ns#type</td>\n",
       "      <td>http://idea.rpi.edu/heals/kb/usda</td>\n",
       "    </tr>\n",
       "    <tr>\n",
       "      <th>1</th>\n",
       "      <td>http://idea.rpi.edu/heals/kb/usda#01004</td>\n",
       "      <td>http://www.w3.org/1999/02/22-rdf-syntax-ns#type</td>\n",
       "      <td>http://idea.rpi.edu/heals/kb/usda</td>\n",
       "    </tr>\n",
       "    <tr>\n",
       "      <th>2</th>\n",
       "      <td>http://idea.rpi.edu/heals/kb/usda#01005</td>\n",
       "      <td>http://www.w3.org/1999/02/22-rdf-syntax-ns#type</td>\n",
       "      <td>http://idea.rpi.edu/heals/kb/usda</td>\n",
       "    </tr>\n",
       "    <tr>\n",
       "      <th>3</th>\n",
       "      <td>http://idea.rpi.edu/heals/kb/usda#01006</td>\n",
       "      <td>http://www.w3.org/1999/02/22-rdf-syntax-ns#type</td>\n",
       "      <td>http://idea.rpi.edu/heals/kb/usda</td>\n",
       "    </tr>\n",
       "    <tr>\n",
       "      <th>4</th>\n",
       "      <td>http://idea.rpi.edu/heals/kb/usda#01007</td>\n",
       "      <td>http://www.w3.org/1999/02/22-rdf-syntax-ns#type</td>\n",
       "      <td>http://idea.rpi.edu/heals/kb/usda</td>\n",
       "    </tr>\n",
       "  </tbody>\n",
       "</table>\n",
       "</div>"
      ],
      "text/plain": [
       "                                   subject  \\\n",
       "0  http://idea.rpi.edu/heals/kb/usda#01003   \n",
       "1  http://idea.rpi.edu/heals/kb/usda#01004   \n",
       "2  http://idea.rpi.edu/heals/kb/usda#01005   \n",
       "3  http://idea.rpi.edu/heals/kb/usda#01006   \n",
       "4  http://idea.rpi.edu/heals/kb/usda#01007   \n",
       "\n",
       "                                         predicate  \\\n",
       "0  http://www.w3.org/1999/02/22-rdf-syntax-ns#type   \n",
       "1  http://www.w3.org/1999/02/22-rdf-syntax-ns#type   \n",
       "2  http://www.w3.org/1999/02/22-rdf-syntax-ns#type   \n",
       "3  http://www.w3.org/1999/02/22-rdf-syntax-ns#type   \n",
       "4  http://www.w3.org/1999/02/22-rdf-syntax-ns#type   \n",
       "\n",
       "                              object  \n",
       "0  http://idea.rpi.edu/heals/kb/usda  \n",
       "1  http://idea.rpi.edu/heals/kb/usda  \n",
       "2  http://idea.rpi.edu/heals/kb/usda  \n",
       "3  http://idea.rpi.edu/heals/kb/usda  \n",
       "4  http://idea.rpi.edu/heals/kb/usda  "
      ]
     },
     "execution_count": 91,
     "metadata": {},
     "output_type": "execute_result"
    }
   ],
   "source": [
    "triples = pd.DataFrame(rows, columns=['subject', 'predicate', 'object'])\n",
    "triples.head()"
   ]
  },
  {
   "cell_type": "code",
   "execution_count": 92,
   "id": "35c394ce-ae9a-4f4b-a498-50b91f4fb59c",
   "metadata": {},
   "outputs": [
    {
     "name": "stdout",
     "output_type": "stream",
     "text": [
      "# Triples: 3022948\n"
     ]
    }
   ],
   "source": [
    "print(f'# Triples: {len(triples)}')"
   ]
  },
  {
   "cell_type": "markdown",
   "id": "ef57b8e1-e626-4862-af7a-1e647d39a3b9",
   "metadata": {},
   "source": [
    "## b. Convert KG to pd.DataFrame"
   ]
  },
  {
   "cell_type": "code",
   "execution_count": 93,
   "id": "d1d7f581-6890-4245-894a-ecb3178e8cfa",
   "metadata": {},
   "outputs": [
    {
     "data": {
      "text/plain": [
       "LabelEncoder()"
      ]
     },
     "execution_count": 93,
     "metadata": {},
     "output_type": "execute_result"
    }
   ],
   "source": [
    "all_foods = triples[(triples['subject'].str.startswith('http://idea.rpi.edu/heals/kb/usda#'))]\n",
    "le_food = preprocessing.LabelEncoder()\n",
    "le_food.fit(all_foods['subject'].tolist())"
   ]
  },
  {
   "cell_type": "code",
   "execution_count": 94,
   "id": "133c5765-635c-4980-b2ac-35baf36d1c8c",
   "metadata": {},
   "outputs": [],
   "source": [
    "def map_value_2_id(df, value, name):\n",
    "    le = preprocessing.LabelEncoder()\n",
    "    le.fit(df[value].tolist())\n",
    "    df[name] = le.transform(df[value].tolist())\n",
    "    return df, le"
   ]
  },
  {
   "cell_type": "markdown",
   "id": "86a0ed5a-e351-490b-8f1e-575b7bc302bd",
   "metadata": {},
   "source": [
    "**(Food, containsNutrient, Nutrient)**"
   ]
  },
  {
   "cell_type": "code",
   "execution_count": 95,
   "id": "83d3295d-abbe-4b42-8b45-100fea5b1054",
   "metadata": {},
   "outputs": [],
   "source": [
    "df_food_nutrient = triples[(triples['subject'].str.startswith('http://idea.rpi.edu/heals/kb/usda#')) &\n",
    "                        (triples['predicate'] == 'http://www.w3id.org/foodkg/property#contains') &\n",
    "                        (triples['object'].str.startswith('http://www.w3id.org/foodkg/usda#'))]   \n",
    "\n",
    "df_food_nutrient['source_id'] = le_food.transform(df_food_nutrient['subject'].tolist())\n",
    "df_food_nutrient, le_nutrient = map_value_2_id(df_food_nutrient, 'object', 'destination_id')"
   ]
  },
  {
   "cell_type": "markdown",
   "id": "17a2cc15-87a2-4324-a72a-e9fbde28394b",
   "metadata": {},
   "source": [
    "**(Food, hasTag, Tag)**"
   ]
  },
  {
   "cell_type": "code",
   "execution_count": 96,
   "id": "1663d63e-9a39-4abc-a07f-fc8eeeb05333",
   "metadata": {},
   "outputs": [],
   "source": [
    "df_food_tag = triples[(triples['subject'].str.startswith('http://idea.rpi.edu/heals/kb/usda#')) &\n",
    "                      (triples['predicate'] == 'http://www.w3id.org/foodb/property/hasQuality') &\n",
    "                      (triples['object'].str.startswith('https://w3id.org/foodkg/quality/high_'))]   \n",
    "\n",
    "df_food_tag['source_id'] = le_food.transform(df_food_tag['subject'].tolist())\n",
    "df_food_tag, le_tag = map_value_2_id(df_food_tag, 'object', 'destination_id')"
   ]
  },
  {
   "cell_type": "markdown",
   "id": "417bbcd6-7fb9-4dad-a70c-e1fb2bce57fd",
   "metadata": {},
   "source": [
    "**(Food, isInCategory, Category)**"
   ]
  },
  {
   "cell_type": "code",
   "execution_count": 97,
   "id": "43da95fc-47d3-4fac-99a3-366d4a5a436f",
   "metadata": {},
   "outputs": [],
   "source": [
    "df_food_cat = triples[(triples['subject'].str.startswith('http://idea.rpi.edu/heals/kb/usda#')) &\n",
    "                      (triples['predicate'] == 'http://www.w3id.org/foodb/property/hasCategory') &\n",
    "                      (triples['object'].str.startswith('http://idea.rpi.edu/heals/kb/usda#'))]   \n",
    "\n",
    "df_food_cat['source_id'] = le_food.transform(df_food_cat['subject'].tolist())\n",
    "df_food_cat, le_category = map_value_2_id(df_food_cat, 'object', 'destination_id')"
   ]
  },
  {
   "cell_type": "markdown",
   "id": "717b3fd2-47fe-475a-9340-5c7c415dced2",
   "metadata": {},
   "source": [
    "**(Food, hasFlavor, Flavor)**"
   ]
  },
  {
   "cell_type": "code",
   "execution_count": 98,
   "id": "98c5db03-6a0a-44b5-b831-4bdce4ec5ca0",
   "metadata": {},
   "outputs": [],
   "source": [
    "df_food_flavor = triples[(triples['subject'].str.startswith('http://idea.rpi.edu/heals/kb/usda#')) &\n",
    "                      (triples['predicate'] == 'http://www.w3id.org/foodb/property/hasFlavor') &\n",
    "                      (triples['object'].str.startswith('https://w3id.org/foodkg/flavor/'))]   \n",
    "\n",
    "df_food_flavor['source_id'] = le_food.transform(df_food_flavor['subject'].tolist())\n",
    "df_food_flavor, le_flavor = map_value_2_id(df_food_flavor, 'object', 'destination_id')"
   ]
  },
  {
   "cell_type": "markdown",
   "id": "6ecd3f25-ead1-4994-9b42-d47085ed4899",
   "metadata": {},
   "source": [
    "**(Product, containsIngredient, Ingredient)**"
   ]
  },
  {
   "cell_type": "code",
   "execution_count": 99,
   "id": "d321e711-ead0-410c-9086-65d2a63e0235",
   "metadata": {},
   "outputs": [],
   "source": [
    "df_product_ingredient = triples[(triples['subject'].str.startswith('https://w3id.org/um/ken4256/product/')) &\n",
    "                       (triples['predicate'] == 'https://www.bbc.co.uk/ontologies/fo/ingredients') &\n",
    "                       (triples['object'].str.startswith('https://w3id.org/um/ken4256/ingredient/'))]   \n",
    "\n",
    "df_product_ingredient, le_product = map_value_2_id(df_product_ingredient, 'subject', 'source_id')\n",
    "df_product_ingredient, le_ingredient = map_value_2_id(df_product_ingredient, 'object', 'destination_id')"
   ]
  },
  {
   "cell_type": "markdown",
   "id": "41609e16-3e9d-42ab-b0e3-5812f405d3ef",
   "metadata": {},
   "source": [
    "**(Food, isSimilarTo, Ingredient) - (Ingredient, isSimilarTo, Food)**"
   ]
  },
  {
   "cell_type": "code",
   "execution_count": 100,
   "id": "ac5b132e-ed2a-45af-a60f-4ee81aeb7589",
   "metadata": {},
   "outputs": [],
   "source": [
    "df_food_ingredient = triples[(triples['subject'].str.startswith('http://idea.rpi.edu/heals/kb/usda#')) &\n",
    "                      (triples['predicate'] == 'https://schema.org/isSimilarTo') &\n",
    "                      (triples['object'].str.startswith('https://w3id.org/um/ken4256/ingredient/'))]   \n",
    "\n",
    "df_food_ingredient['source_id'] = le_food.transform(df_food_ingredient['subject'].tolist())\n",
    "df_food_ingredient['destination_id'] = le_ingredient.transform(df_food_ingredient['object'].tolist())"
   ]
  },
  {
   "cell_type": "markdown",
   "id": "46d96d22-97af-4444-8b58-d6537497ec8e",
   "metadata": {},
   "source": [
    "## c. Get Ground Truth and convert to pd.DataFrame"
   ]
  },
  {
   "cell_type": "markdown",
   "id": "acba7290-8f26-418d-a9e4-9fc4224df941",
   "metadata": {},
   "source": [
    "**(Food, isSubstitutedBy, Food Subs) - (Food Subs, canSubstitute, Food)**"
   ]
  },
  {
   "cell_type": "code",
   "execution_count": 101,
   "id": "96a86a5c-5b85-4fa2-899e-c3bbd496b9f2",
   "metadata": {},
   "outputs": [],
   "source": [
    "df_food_subs = pd.read_csv('../Input Data/final_substitution.csv', sep=';')\n",
    "\n",
    "df_food_subs['source_id'] = le_food.transform(df_food_subs['Food id'].tolist())\n",
    "df_food_subs['destination_id'] = le_food.transform(df_food_subs['Substitution id'].tolist())"
   ]
  },
  {
   "cell_type": "markdown",
   "id": "898012d4-6b63-4699-b7bc-12c1539fb39d",
   "metadata": {},
   "source": [
    "## d. Create DGL HeteroGraph"
   ]
  },
  {
   "cell_type": "code",
   "execution_count": 102,
   "id": "3b9461fa-f336-430c-b422-aee54e86e24f",
   "metadata": {},
   "outputs": [],
   "source": [
    "g = dgl.heterograph({('Food', 'isSubstitutedBy', 'Food Subs'): (torch.tensor(df_food_subs['source_id'].tolist()), torch.tensor(df_food_subs['destination_id'].tolist())),\n",
    "                     ('Food Subs', 'substitutes', 'Food'): (torch.tensor(df_food_subs['destination_id'].tolist()), torch.tensor(df_food_subs['source_id'].tolist())),\n",
    "                     ('Food', 'containsNutrient', 'Nutrient'): (torch.tensor(df_food_nutrient['source_id'].tolist()), torch.tensor(df_food_nutrient['destination_id'].tolist())),\n",
    "                     ('Food', 'hasTag', 'Tag'): (torch.tensor(df_food_tag['source_id'].tolist()), torch.tensor(df_food_tag['destination_id'].tolist())),\n",
    "                     ('Food', 'isInCategory', 'Category'): (torch.tensor(df_food_cat['source_id'].tolist()), torch.tensor(df_food_cat['destination_id'].tolist())),\n",
    "                     ('Food', 'hasFlavor', 'Flavor'): (torch.tensor(df_food_flavor['source_id'].tolist()), torch.tensor(df_food_flavor['destination_id'].tolist())),\n",
    "                     ('Product', 'containsIngredient', 'Ingredient'): (torch.tensor(df_product_ingredient['source_id'].tolist()), torch.tensor(df_product_ingredient['destination_id'].tolist())),\n",
    "                     ('Food', 'isSimilarTo', 'Ingredient'): (torch.tensor(df_food_ingredient['source_id'].tolist()), torch.tensor(df_food_ingredient['destination_id'].tolist())),\n",
    "                     ('Ingredient', 'isSimilarTo', 'Food'): (torch.tensor(df_food_ingredient['destination_id'].tolist()), torch.tensor(df_food_ingredient['source_id'].tolist()))\n",
    "                    })"
   ]
  },
  {
   "cell_type": "code",
   "execution_count": 103,
   "id": "605cea5c-7e62-401d-abff-5d8658b739c7",
   "metadata": {},
   "outputs": [],
   "source": [
    "for node in g.ntypes:\n",
    "    g.nodes[node].data['h'] = torch.randn(g.number_of_nodes(node), n_input_feat)"
   ]
  },
  {
   "cell_type": "code",
   "execution_count": 104,
   "id": "4caae201-0069-4efa-9c18-49a1045da961",
   "metadata": {},
   "outputs": [
    {
     "data": {
      "text/plain": [
       "Graph(num_nodes={'Category': 13, 'Flavor': 272, 'Food': 9372, 'Food Subs': 6732, 'Ingredient': 125130, 'Nutrient': 63883, 'Product': 71777, 'Tag': 25},\n",
       "      num_edges={('Food', 'containsNutrient', 'Nutrient'): 300523, ('Food', 'hasFlavor', 'Flavor'): 11167, ('Food', 'hasTag', 'Tag'): 17746, ('Food', 'isInCategory', 'Category'): 1667, ('Food', 'isSimilarTo', 'Ingredient'): 681, ('Food', 'isSubstitutedBy', 'Food Subs'): 1841, ('Food Subs', 'substitutes', 'Food'): 1841, ('Ingredient', 'isSimilarTo', 'Food'): 681, ('Product', 'containsIngredient', 'Ingredient'): 890789},\n",
       "      metagraph=[('Food', 'Nutrient', 'containsNutrient'), ('Food', 'Flavor', 'hasFlavor'), ('Food', 'Tag', 'hasTag'), ('Food', 'Category', 'isInCategory'), ('Food', 'Ingredient', 'isSimilarTo'), ('Food', 'Food Subs', 'isSubstitutedBy'), ('Ingredient', 'Food', 'isSimilarTo'), ('Food Subs', 'Food', 'substitutes'), ('Product', 'Ingredient', 'containsIngredient')])"
      ]
     },
     "execution_count": 104,
     "metadata": {},
     "output_type": "execute_result"
    }
   ],
   "source": [
    "g"
   ]
  },
  {
   "cell_type": "code",
   "execution_count": 105,
   "id": "77bd642d-c74c-4ca7-b184-7c459f3a909b",
   "metadata": {},
   "outputs": [
    {
     "data": {
      "text/plain": [
       "9372"
      ]
     },
     "execution_count": 105,
     "metadata": {},
     "output_type": "execute_result"
    }
   ],
   "source": [
    "g.number_of_nodes('Food')"
   ]
  },
  {
   "cell_type": "code",
   "execution_count": 106,
   "id": "5cce9868-fb77-4eb8-a8a2-2779d972c21e",
   "metadata": {},
   "outputs": [
    {
     "data": {
      "text/plain": [
       "1841"
      ]
     },
     "execution_count": 106,
     "metadata": {},
     "output_type": "execute_result"
    }
   ],
   "source": [
    "g.number_of_edges('isSubstitutedBy')"
   ]
  },
  {
   "cell_type": "code",
   "execution_count": 107,
   "id": "add8df6c-269b-4ac2-afac-3303397f8c83",
   "metadata": {},
   "outputs": [
    {
     "data": {
      "text/plain": [
       "['Category',\n",
       " 'Flavor',\n",
       " 'Food',\n",
       " 'Food Subs',\n",
       " 'Ingredient',\n",
       " 'Nutrient',\n",
       " 'Product',\n",
       " 'Tag']"
      ]
     },
     "execution_count": 107,
     "metadata": {},
     "output_type": "execute_result"
    }
   ],
   "source": [
    "g.ntypes"
   ]
  },
  {
   "cell_type": "code",
   "execution_count": 108,
   "id": "19feda11-4e5f-42eb-a890-1e779e1f42ed",
   "metadata": {},
   "outputs": [
    {
     "data": {
      "text/plain": [
       "['containsNutrient',\n",
       " 'hasFlavor',\n",
       " 'hasTag',\n",
       " 'isInCategory',\n",
       " 'isSimilarTo',\n",
       " 'isSubstitutedBy',\n",
       " 'substitutes',\n",
       " 'isSimilarTo',\n",
       " 'containsIngredient']"
      ]
     },
     "execution_count": 108,
     "metadata": {},
     "output_type": "execute_result"
    }
   ],
   "source": [
    "g.etypes"
   ]
  },
  {
   "cell_type": "code",
   "execution_count": 109,
   "id": "86fca147-2bf4-442b-bf94-5cbb4131c971",
   "metadata": {},
   "outputs": [
    {
     "data": {
      "text/plain": [
       "[('Food', 'containsNutrient', 'Nutrient'),\n",
       " ('Food', 'hasFlavor', 'Flavor'),\n",
       " ('Food', 'hasTag', 'Tag'),\n",
       " ('Food', 'isInCategory', 'Category'),\n",
       " ('Food', 'isSimilarTo', 'Ingredient'),\n",
       " ('Food', 'isSubstitutedBy', 'Food Subs'),\n",
       " ('Food Subs', 'substitutes', 'Food'),\n",
       " ('Ingredient', 'isSimilarTo', 'Food'),\n",
       " ('Product', 'containsIngredient', 'Ingredient')]"
      ]
     },
     "execution_count": 109,
     "metadata": {},
     "output_type": "execute_result"
    }
   ],
   "source": [
    "g.canonical_etypes"
   ]
  },
  {
   "cell_type": "code",
   "execution_count": 110,
   "id": "fcf5147f-da31-481b-829c-244bc1fcebfd",
   "metadata": {},
   "outputs": [],
   "source": [
    "def plot_graph(nxg):\n",
    "    ag = pgv.AGraph(strict = False, directed = True)\n",
    "    for u, v, k in nxg.edges(keys=True):\n",
    "        ag.add_edge(u, v, label=k)\n",
    "    ag.layout('dot')\n",
    "    ag.draw('../Output/graph.png')"
   ]
  },
  {
   "cell_type": "code",
   "execution_count": 111,
   "id": "bf903a6f-d4c0-40a2-9398-650b96ab7c88",
   "metadata": {},
   "outputs": [],
   "source": [
    "plot_graph(g.metagraph())"
   ]
  },
  {
   "cell_type": "markdown",
   "id": "e0fb56a6-4dc9-4589-a64d-603b77a73358",
   "metadata": {},
   "source": [
    "## e. Split into train and test sets"
   ]
  },
  {
   "cell_type": "code",
   "execution_count": 112,
   "id": "53531a3a-6673-4164-9a89-4ae3ad788053",
   "metadata": {},
   "outputs": [],
   "source": [
    "#randomly generate training masks on 'isSubstitutedBy' edges\n",
    "g.edges['isSubstitutedBy'].data['train_mask'] = torch.zeros(g.number_of_edges('isSubstitutedBy'), dtype=torch.bool).bernoulli(0.75)"
   ]
  },
  {
   "cell_type": "code",
   "execution_count": 113,
   "id": "dfaf63f1-23ff-4e6a-9f15-ac1969481dd5",
   "metadata": {},
   "outputs": [
    {
     "data": {
      "text/plain": [
       "EdgeSpace(data={'train_mask': tensor([False,  True, False,  ...,  True,  True,  True])})"
      ]
     },
     "execution_count": 113,
     "metadata": {},
     "output_type": "execute_result"
    }
   ],
   "source": [
    "g.edges['isSubstitutedBy']"
   ]
  },
  {
   "cell_type": "code",
   "execution_count": 114,
   "id": "4c04a91e-49ec-460a-abeb-ff4ad70dec32",
   "metadata": {},
   "outputs": [],
   "source": [
    "train_eid_dict = {'eid_2_train': (g.edges['isSubstitutedBy'].data['train_mask'] == True).nonzero(as_tuple=True)[0]}\n",
    "test_eid_dict = {'eid_2_test': (g.edges['isSubstitutedBy'].data['train_mask'] == False).nonzero(as_tuple=True)[0]}"
   ]
  },
  {
   "cell_type": "code",
   "execution_count": 115,
   "id": "9dea1379-44e0-481b-adc3-79fb25eb379f",
   "metadata": {},
   "outputs": [
    {
     "data": {
      "text/plain": [
       "tensor([   1,    3,    5,  ..., 1838, 1839, 1840])"
      ]
     },
     "execution_count": 115,
     "metadata": {},
     "output_type": "execute_result"
    }
   ],
   "source": [
    "train_eid_dict['eid_2_train']"
   ]
  },
  {
   "cell_type": "code",
   "execution_count": 116,
   "id": "b28feee7-88ac-438a-820a-2e4f5ca0229d",
   "metadata": {},
   "outputs": [
    {
     "data": {
      "text/plain": [
       "tensor([   0,    2,    4,    8,   11,   13,   15,   17,   18,   23,   24,   31,\n",
       "          47,   51,   56,   59,   60,   61,   64,   69,   70,   82,   84,   86,\n",
       "          88,   89,   90,   94,   97,  105,  106,  107,  111,  113,  124,  130,\n",
       "         133,  138,  139,  140,  160,  167,  172,  176,  178,  188,  192,  193,\n",
       "         196,  203,  204,  212,  213,  218,  220,  222,  223,  230,  232,  246,\n",
       "         248,  249,  250,  253,  256,  261,  262,  263,  267,  278,  279,  280,\n",
       "         285,  288,  301,  302,  307,  313,  316,  317,  326,  328,  332,  333,\n",
       "         335,  337,  339,  346,  347,  349,  366,  370,  375,  378,  387,  391,\n",
       "         393,  400,  401,  403,  405,  406,  407,  408,  410,  411,  418,  421,\n",
       "         423,  429,  438,  442,  443,  444,  449,  452,  458,  459,  468,  470,\n",
       "         484,  485,  486,  487,  492,  493,  494,  498,  510,  524,  526,  541,\n",
       "         544,  547,  554,  558,  577,  580,  583,  584,  585,  586,  587,  591,\n",
       "         592,  604,  607,  613,  614,  630,  636,  639,  641,  648,  661,  667,\n",
       "         674,  687,  694,  696,  697,  709,  720,  724,  736,  746,  747,  748,\n",
       "         749,  751,  753,  754,  756,  760,  762,  763,  766,  768,  774,  775,\n",
       "         778,  781,  787,  790,  791,  794,  795,  798,  801,  804,  809,  810,\n",
       "         811,  816,  828,  834,  835,  836,  837,  843,  845,  850,  867,  871,\n",
       "         876,  877,  878,  879,  883,  890,  893,  894,  897,  913,  914,  915,\n",
       "         916,  922,  923,  925,  927,  928,  931,  933,  934,  946,  954,  958,\n",
       "         959,  962,  971,  972,  979,  981,  983,  984,  986,  992,  996,  999,\n",
       "        1008, 1010, 1011, 1012, 1018, 1019, 1023, 1030, 1034, 1036, 1042, 1047,\n",
       "        1048, 1061, 1064, 1069, 1071, 1082, 1083, 1086, 1088, 1089, 1093, 1096,\n",
       "        1098, 1101, 1105, 1107, 1111, 1113, 1120, 1131, 1136, 1138, 1140, 1145,\n",
       "        1148, 1149, 1150, 1151, 1153, 1161, 1163, 1174, 1177, 1186, 1202, 1205,\n",
       "        1207, 1212, 1214, 1215, 1216, 1217, 1220, 1223, 1226, 1227, 1229, 1232,\n",
       "        1238, 1242, 1246, 1248, 1251, 1256, 1260, 1270, 1271, 1276, 1284, 1287,\n",
       "        1293, 1295, 1296, 1297, 1301, 1302, 1309, 1310, 1314, 1317, 1318, 1319,\n",
       "        1325, 1326, 1327, 1328, 1330, 1331, 1332, 1336, 1356, 1359, 1362, 1363,\n",
       "        1373, 1375, 1384, 1386, 1394, 1397, 1401, 1405, 1407, 1409, 1412, 1415,\n",
       "        1416, 1417, 1418, 1424, 1426, 1427, 1428, 1433, 1449, 1451, 1452, 1458,\n",
       "        1459, 1460, 1465, 1468, 1469, 1475, 1482, 1483, 1489, 1500, 1501, 1504,\n",
       "        1505, 1515, 1518, 1519, 1524, 1527, 1528, 1532, 1536, 1538, 1543, 1545,\n",
       "        1547, 1551, 1553, 1556, 1558, 1559, 1563, 1565, 1567, 1569, 1570, 1573,\n",
       "        1578, 1582, 1585, 1586, 1591, 1597, 1601, 1602, 1607, 1617, 1619, 1620,\n",
       "        1624, 1626, 1628, 1629, 1632, 1633, 1640, 1645, 1647, 1649, 1650, 1662,\n",
       "        1664, 1671, 1672, 1682, 1687, 1690, 1695, 1697, 1698, 1701, 1703, 1713,\n",
       "        1715, 1720, 1721, 1724, 1733, 1739, 1742, 1750, 1753, 1762, 1763, 1764,\n",
       "        1771, 1773, 1791, 1801, 1802, 1804, 1805, 1807, 1814, 1815, 1822, 1826,\n",
       "        1828, 1831, 1836, 1837])"
      ]
     },
     "execution_count": 116,
     "metadata": {},
     "output_type": "execute_result"
    }
   ],
   "source": [
    "test_eid_dict['eid_2_test']"
   ]
  },
  {
   "cell_type": "code",
   "execution_count": 117,
   "id": "18dc5349-ce9d-4143-8630-978b9d526653",
   "metadata": {},
   "outputs": [
    {
     "data": {
      "text/plain": [
       "1841"
      ]
     },
     "execution_count": 117,
     "metadata": {},
     "output_type": "execute_result"
    }
   ],
   "source": [
    "g.number_of_edges('isSubstitutedBy')"
   ]
  },
  {
   "cell_type": "code",
   "execution_count": 118,
   "id": "00985850-6486-4934-bf1b-b9690640af42",
   "metadata": {},
   "outputs": [
    {
     "data": {
      "text/plain": [
       "1381"
      ]
     },
     "execution_count": 118,
     "metadata": {},
     "output_type": "execute_result"
    }
   ],
   "source": [
    "len(train_eid_dict['eid_2_train'])"
   ]
  },
  {
   "cell_type": "code",
   "execution_count": 119,
   "id": "afdc74d6-ad81-47a9-af82-a802d98317b4",
   "metadata": {},
   "outputs": [
    {
     "data": {
      "text/plain": [
       "460"
      ]
     },
     "execution_count": 119,
     "metadata": {},
     "output_type": "execute_result"
    }
   ],
   "source": [
    "len(test_eid_dict['eid_2_test'])"
   ]
  },
  {
   "cell_type": "code",
   "execution_count": 120,
   "id": "6f52050f-c380-44ef-858a-f406d692d896",
   "metadata": {},
   "outputs": [],
   "source": [
    "g_train = dgl.remove_edges(g, test_eid_dict['eid_2_test'], 'isSubstitutedBy')\n",
    "g_train = dgl.remove_edges(g_train, test_eid_dict['eid_2_test'], 'substitutes')"
   ]
  },
  {
   "cell_type": "code",
   "execution_count": 121,
   "id": "227bbce9-9c45-4177-9027-f1b6c27d1422",
   "metadata": {},
   "outputs": [
    {
     "data": {
      "text/plain": [
       "Graph(num_nodes={'Category': 13, 'Flavor': 272, 'Food': 9372, 'Food Subs': 6732, 'Ingredient': 125130, 'Nutrient': 63883, 'Product': 71777, 'Tag': 25},\n",
       "      num_edges={('Food', 'containsNutrient', 'Nutrient'): 300523, ('Food', 'hasFlavor', 'Flavor'): 11167, ('Food', 'hasTag', 'Tag'): 17746, ('Food', 'isInCategory', 'Category'): 1667, ('Food', 'isSimilarTo', 'Ingredient'): 681, ('Food', 'isSubstitutedBy', 'Food Subs'): 1381, ('Food Subs', 'substitutes', 'Food'): 1381, ('Ingredient', 'isSimilarTo', 'Food'): 681, ('Product', 'containsIngredient', 'Ingredient'): 890789},\n",
       "      metagraph=[('Food', 'Nutrient', 'containsNutrient'), ('Food', 'Flavor', 'hasFlavor'), ('Food', 'Tag', 'hasTag'), ('Food', 'Category', 'isInCategory'), ('Food', 'Ingredient', 'isSimilarTo'), ('Food', 'Food Subs', 'isSubstitutedBy'), ('Ingredient', 'Food', 'isSimilarTo'), ('Food Subs', 'Food', 'substitutes'), ('Product', 'Ingredient', 'containsIngredient')])"
      ]
     },
     "execution_count": 121,
     "metadata": {},
     "output_type": "execute_result"
    }
   ],
   "source": [
    "g_train"
   ]
  },
  {
   "cell_type": "code",
   "execution_count": 122,
   "id": "6252c58e-537a-42ee-9453-a21c49cd7afe",
   "metadata": {},
   "outputs": [
    {
     "data": {
      "text/plain": [
       "1381"
      ]
     },
     "execution_count": 122,
     "metadata": {},
     "output_type": "execute_result"
    }
   ],
   "source": [
    "g_train.number_of_edges('isSubstitutedBy')"
   ]
  },
  {
   "cell_type": "code",
   "execution_count": 123,
   "id": "be8b0e95-9187-45a8-8fd4-e1bfc87e6cc2",
   "metadata": {},
   "outputs": [
    {
     "data": {
      "text/plain": [
       "1381"
      ]
     },
     "execution_count": 123,
     "metadata": {},
     "output_type": "execute_result"
    }
   ],
   "source": [
    "g_train.number_of_edges('substitutes')"
   ]
  },
  {
   "cell_type": "code",
   "execution_count": 124,
   "id": "cdbd8447-91b6-4bb6-9b0c-b495059888ba",
   "metadata": {},
   "outputs": [],
   "source": [
    "g_test = dgl.remove_edges(g, train_eid_dict['eid_2_train'], 'isSubstitutedBy')\n",
    "g_test = dgl.remove_edges(g_test, train_eid_dict['eid_2_train'], 'substitutes')"
   ]
  },
  {
   "cell_type": "code",
   "execution_count": 125,
   "id": "77a5ba3e-9e79-410c-8c62-68b4df44d10c",
   "metadata": {},
   "outputs": [
    {
     "data": {
      "text/plain": [
       "Graph(num_nodes={'Category': 13, 'Flavor': 272, 'Food': 9372, 'Food Subs': 6732, 'Ingredient': 125130, 'Nutrient': 63883, 'Product': 71777, 'Tag': 25},\n",
       "      num_edges={('Food', 'containsNutrient', 'Nutrient'): 300523, ('Food', 'hasFlavor', 'Flavor'): 11167, ('Food', 'hasTag', 'Tag'): 17746, ('Food', 'isInCategory', 'Category'): 1667, ('Food', 'isSimilarTo', 'Ingredient'): 681, ('Food', 'isSubstitutedBy', 'Food Subs'): 460, ('Food Subs', 'substitutes', 'Food'): 460, ('Ingredient', 'isSimilarTo', 'Food'): 681, ('Product', 'containsIngredient', 'Ingredient'): 890789},\n",
       "      metagraph=[('Food', 'Nutrient', 'containsNutrient'), ('Food', 'Flavor', 'hasFlavor'), ('Food', 'Tag', 'hasTag'), ('Food', 'Category', 'isInCategory'), ('Food', 'Ingredient', 'isSimilarTo'), ('Food', 'Food Subs', 'isSubstitutedBy'), ('Ingredient', 'Food', 'isSimilarTo'), ('Food Subs', 'Food', 'substitutes'), ('Product', 'Ingredient', 'containsIngredient')])"
      ]
     },
     "execution_count": 125,
     "metadata": {},
     "output_type": "execute_result"
    }
   ],
   "source": [
    "g_test"
   ]
  },
  {
   "cell_type": "code",
   "execution_count": 126,
   "id": "0e37dd32-fbef-4357-a6ca-69221758d4cf",
   "metadata": {},
   "outputs": [
    {
     "data": {
      "text/plain": [
       "460"
      ]
     },
     "execution_count": 126,
     "metadata": {},
     "output_type": "execute_result"
    }
   ],
   "source": [
    "g_test.number_of_edges('isSubstitutedBy')"
   ]
  },
  {
   "cell_type": "code",
   "execution_count": 127,
   "id": "4b3e18c8-346a-4d2f-85e1-1ba72eafe866",
   "metadata": {},
   "outputs": [
    {
     "data": {
      "text/plain": [
       "460"
      ]
     },
     "execution_count": 127,
     "metadata": {},
     "output_type": "execute_result"
    }
   ],
   "source": [
    "g_test.number_of_edges('substitutes')"
   ]
  },
  {
   "cell_type": "markdown",
   "id": "b3d43774-c053-4a0b-bf5c-073a33a725fa",
   "metadata": {},
   "source": [
    "# 2) Train Model"
   ]
  },
  {
   "cell_type": "code",
   "execution_count": 128,
   "id": "687d8d44-eed7-4b3d-8dbc-c95021b4d8a4",
   "metadata": {},
   "outputs": [],
   "source": [
    "class RGCN(nn.Module):\n",
    "    def __init__(self, in_feats, hid_feats, out_feats, rel_names):\n",
    "        super().__init__()\n",
    "\n",
    "        self.conv1 = dglnn.HeteroGraphConv({\n",
    "            rel: dglnn.GraphConv(in_feats, hid_feats)\n",
    "            for rel in rel_names}, aggregate='sum')\n",
    "        self.conv2 = dglnn.HeteroGraphConv({\n",
    "            rel: dglnn.GraphConv(hid_feats, out_feats)\n",
    "            for rel in rel_names}, aggregate='sum')\n",
    "\n",
    "    def forward(self, graph, inputs):\n",
    "        # inputs are features/embeddings of nodes\n",
    "        h = self.conv1(graph, inputs)\n",
    "        h = {k: F.relu(v) for k, v in h.items()}\n",
    "        h = self.conv2(graph, h)\n",
    "        return h"
   ]
  },
  {
   "cell_type": "code",
   "execution_count": 129,
   "id": "76f58ff6-d1af-46af-993e-eeeeb47dd6d0",
   "metadata": {},
   "outputs": [],
   "source": [
    "class Model(nn.Module):\n",
    "    def __init__(self, in_features, hidden_features, out_features, rel_names):\n",
    "        super().__init__()\n",
    "        self.sage = RGCN(in_features, hidden_features, out_features, rel_names)\n",
    "        self.pred = HeteroDotProductPredictor()\n",
    "    def forward(self, g, neg_g, x, etype):\n",
    "        h = self.sage(g, x)\n",
    "        return h, self.pred(g, h, etype), self.pred(neg_g, h, etype)"
   ]
  },
  {
   "cell_type": "code",
   "execution_count": 130,
   "id": "3781703d-d734-4832-ad92-3e8cb1b40b73",
   "metadata": {},
   "outputs": [],
   "source": [
    "def construct_negative_graph(graph, k, etype):\n",
    "    utype, _, vtype = etype\n",
    "    src, dst = graph.edges(etype=etype)\n",
    "    neg_src = src.repeat_interleave(k)\n",
    "    neg_dst = torch.randint(0, graph.number_of_nodes(vtype), (len(src) * k,))\n",
    "    return neg_src, neg_dst, dgl.heterograph({etype: (neg_src, neg_dst)}, num_nodes_dict={ntype: graph.number_of_nodes(ntype) for ntype in graph.ntypes})"
   ]
  },
  {
   "cell_type": "code",
   "execution_count": 131,
   "id": "96af9668-5b5f-429b-83b9-e50f80c047de",
   "metadata": {},
   "outputs": [],
   "source": [
    "class HeteroDotProductPredictor(nn.Module):\n",
    "    def forward(self, graph, h, etype):\n",
    "        with graph.local_scope():\n",
    "            graph.ndata['h'] = h\n",
    "            graph.apply_edges(fn.u_dot_v('h', 'h', 'score'), etype=etype)\n",
    "            return graph.edges[etype].data['score']"
   ]
  },
  {
   "cell_type": "code",
   "execution_count": 132,
   "id": "20aa34ae-8bbe-49cb-a8b3-0be06d291900",
   "metadata": {},
   "outputs": [],
   "source": [
    "def compute_loss(pos_score, neg_score):\n",
    "    n_edges = pos_score.shape[0]\n",
    "    return (1 - neg_score.view(n_edges, -1) + pos_score.unsqueeze(1)).clamp(min=0).mean()"
   ]
  },
  {
   "cell_type": "code",
   "execution_count": 133,
   "id": "ae42ffb9-2d2c-4954-892e-f391dd88cacb",
   "metadata": {},
   "outputs": [],
   "source": [
    "node_features = {}\n",
    "for node in g.ntypes:\n",
    "    node_features[node] = g.nodes[node].data['h'] "
   ]
  },
  {
   "cell_type": "code",
   "execution_count": 134,
   "id": "4cf572ab-8de5-47c2-8e62-1d1d43725500",
   "metadata": {},
   "outputs": [
    {
     "name": "stdout",
     "output_type": "stream",
     "text": [
      "In epoch 0, loss = 0.8170\n",
      "In epoch 10, loss = 0.1408\n",
      "In epoch 20, loss = 0.1156\n",
      "In epoch 30, loss = 0.0860\n",
      "In epoch 40, loss = 0.0505\n",
      "In epoch 50, loss = 0.0416\n",
      "In epoch 60, loss = 0.0309\n",
      "In epoch 70, loss = 0.0244\n",
      "In epoch 80, loss = 0.0203\n",
      "In epoch 90, loss = 0.0170\n",
      "In epoch 100, loss = 0.0166\n",
      "In epoch 110, loss = 0.0133\n",
      "In epoch 120, loss = 0.0118\n",
      "In epoch 130, loss = 0.0110\n",
      "In epoch 140, loss = 0.0086\n"
     ]
    }
   ],
   "source": [
    "model = Model(n_input_feat, n_hidden_feat, n_output_feat, g.etypes)\n",
    "opt = torch.optim.Adam(model.parameters())\n",
    "for epoch in range(n_epochs):\n",
    "    #forward\n",
    "    neg_src_train, neg_dst_train, negative_graph_train = construct_negative_graph(g_train, k, ('Food', 'isSubstitutedBy', 'Food Subs'))\n",
    "    h_train, pos_score_train, neg_score_train = model(g_train, negative_graph_train, node_features, ('Food', 'isSubstitutedBy', 'Food Subs'))\n",
    "    \n",
    "    #loss\n",
    "    loss = compute_loss(pos_score_train, neg_score_train)\n",
    "    \n",
    "    #backward\n",
    "    opt.zero_grad()\n",
    "    loss.backward()\n",
    "    opt.step()\n",
    "    \n",
    "    if epoch % 10 == 0:\n",
    "        print(f'In epoch {epoch}, loss = {loss.item():.4f}')"
   ]
  },
  {
   "cell_type": "markdown",
   "id": "eaf3d27b-9de4-4602-812b-9475123e23e3",
   "metadata": {},
   "source": [
    "# 3) Evaluate Model"
   ]
  },
  {
   "cell_type": "markdown",
   "id": "830b4d41-0e2d-49f3-b4ba-efe092e7c06d",
   "metadata": {},
   "source": [
    "https://github.com/dglai/WWW20-Hands-on-Tutorial/blob/master/basic_tasks/3_link_predict.ipynb"
   ]
  },
  {
   "cell_type": "code",
   "execution_count": 64,
   "id": "033770b1-4915-4673-b4a5-edf125d49023",
   "metadata": {},
   "outputs": [],
   "source": [
    "with torch.no_grad():\n",
    "    neg_src_test, neg_dst_test, negative_graph_test = construct_negative_graph(g_test, k, ('Food', 'isSubstitutedBy', 'Food Subs'))\n",
    "    h_test, pos_score_test, neg_score_test = model(g_test, negative_graph_test, node_features, ('Food', 'isSubstitutedBy', 'Food Subs'))\n",
    "    loss = compute_loss(pos_score_test, neg_score_test)"
   ]
  },
  {
   "cell_type": "code",
   "execution_count": 65,
   "id": "b76c6ac1-c025-48f5-adff-662c75470ca7",
   "metadata": {},
   "outputs": [],
   "source": [
    "# get postive test edges\n",
    "df_food_subs_test = df_food_subs[df_food_subs.index.isin(test_eid_dict['eid_2_test'].tolist())]\n",
    "test_pos_u = df_food_subs_test['source_id'].tolist()\n",
    "test_pos_v = df_food_subs_test['destination_id'].tolist()"
   ]
  },
  {
   "cell_type": "code",
   "execution_count": 66,
   "id": "63fbeef0-99f3-417d-8fdf-28c776745d83",
   "metadata": {},
   "outputs": [],
   "source": [
    "# get negative test edges\n",
    "test_neg_u = neg_src_test\n",
    "test_neg_v = neg_dst_test"
   ]
  },
  {
   "cell_type": "code",
   "execution_count": 67,
   "id": "b563e95c-a212-4faf-a3c1-cb585242d5ac",
   "metadata": {},
   "outputs": [],
   "source": [
    "# get all test edges\n",
    "test_u = torch.cat([torch.as_tensor(test_pos_u), torch.as_tensor(test_neg_u)])\n",
    "test_v = torch.cat([torch.as_tensor(test_pos_v), torch.as_tensor(test_neg_v)])"
   ]
  },
  {
   "cell_type": "code",
   "execution_count": 68,
   "id": "78e8e341-ce0c-4174-89e9-a6ebcf46174b",
   "metadata": {},
   "outputs": [],
   "source": [
    "# get y_true \n",
    "y_true = torch.cat([torch.zeros(len(pos_score_test)), torch.ones(len(neg_score_test))])"
   ]
  },
  {
   "cell_type": "code",
   "execution_count": 69,
   "id": "8db7588e-84fb-4a93-95b1-5d2dbdbc7025",
   "metadata": {},
   "outputs": [
    {
     "name": "stdout",
     "output_type": "stream",
     "text": [
      "Accuracy = 0.9880\n"
     ]
    }
   ],
   "source": [
    "# get predictions\n",
    "predictions = torch.cat([torch.as_tensor(pos_score_test.reshape(pos_score_test.shape[0])), torch.as_tensor(neg_score_test.reshape(neg_score_test.shape[0]))])\n",
    "predictions = torch.sigmoid(predictions)\n",
    "print(f'Accuracy = {(((predictions >= 0.5) == y_true).sum().item() / len(predictions)):.4f}')"
   ]
  },
  {
   "cell_type": "code",
   "execution_count": 70,
   "id": "516b34e0-b957-4f3f-8172-11fff4d3ae75",
   "metadata": {},
   "outputs": [],
   "source": [
    "# get y_pred\n",
    "y_pred = []\n",
    "for pred in predictions:\n",
    "    if pred >= 0.5:\n",
    "        y_pred.append(1)\n",
    "    else:\n",
    "        y_pred.append(0)"
   ]
  },
  {
   "cell_type": "code",
   "execution_count": 71,
   "id": "c4dd14b2-16d8-4516-a8a7-eae76505634b",
   "metadata": {},
   "outputs": [],
   "source": [
    "results = pd.DataFrame()\n",
    "results['u'] = test_u\n",
    "results['v'] = test_v\n",
    "results['Food id'] = le_food.inverse_transform(results['u'])\n",
    "results['Substitution id'] = le_food.inverse_transform(results['v'])\n",
    "results['predictions'] = predictions\n",
    "results['label_pred'] = y_pred\n",
    "results['label_true'] = y_true"
   ]
  },
  {
   "cell_type": "code",
   "execution_count": 139,
   "id": "981c4d44-d5ac-47be-b211-b0274dac941a",
   "metadata": {},
   "outputs": [],
   "source": [
    "results['check'] = results['label_pred'] - results['label_true']"
   ]
  },
  {
   "cell_type": "code",
   "execution_count": 73,
   "id": "2b3cd8aa-5caa-40b5-a13a-ef453a17b09e",
   "metadata": {},
   "outputs": [],
   "source": [
    "results.to_csv('../Output/results.csv')"
   ]
  },
  {
   "cell_type": "code",
   "execution_count": 74,
   "id": "36bd7740-41ea-492e-b7b0-dee08ff1d144",
   "metadata": {},
   "outputs": [
    {
     "data": {
      "text/plain": [
       "(array([0.93298969, 1.        ]),\n",
       " array([1.        , 0.98563536]),\n",
       " array([0.96533333, 0.99276572]),\n",
       " array([181, 905], dtype=int64))"
      ]
     },
     "execution_count": 74,
     "metadata": {},
     "output_type": "execute_result"
    }
   ],
   "source": [
    "from sklearn.metrics import precision_recall_fscore_support\n",
    "precision_recall_fscore_support(y_true, y_pred, average=None)"
   ]
  },
  {
   "cell_type": "markdown",
   "id": "e1b14c7a-26b4-4070-8f20-68b750fdff98",
   "metadata": {},
   "source": [
    "# 4) Save Embeddings to RDF2Vec Format"
   ]
  },
  {
   "cell_type": "code",
   "execution_count": 135,
   "id": "df221574-0996-4880-8316-31546b0d3ddc",
   "metadata": {},
   "outputs": [],
   "source": [
    "foods = le_food.inverse_transform(g_test.nodes('Food'))"
   ]
  },
  {
   "cell_type": "code",
   "execution_count": 136,
   "id": "67c4e101-aef0-4a76-b0b4-7add44dd8029",
   "metadata": {},
   "outputs": [],
   "source": [
    "food_embeddings = dict(zip(foods, h_test['Food']))"
   ]
  },
  {
   "cell_type": "code",
   "execution_count": 138,
   "id": "c43ad741-c25c-4d7e-9f8c-3cb381b8ac66",
   "metadata": {},
   "outputs": [],
   "source": [
    "fw = open('../Output/food_embeddings.txt','w')\n",
    "fw.write(str(len(foods))+' '+str(len(h_test['Food'][0]))+'\\n')\n",
    "for food in foods:\n",
    "    p\n",
    "    fw.write(food+' ')\n",
    "    for i in range(len(h_test['Food'][0])):\n",
    "        value = str(food_embeddings[food][i].item()).strip()\n",
    "        fw.write(value+' ')\n",
    "    fw.write('\\n')"
   ]
  }
 ],
 "metadata": {
  "kernelspec": {
   "display_name": "Python 3",
   "language": "python",
   "name": "python3"
  },
  "language_info": {
   "codemirror_mode": {
    "name": "ipython",
    "version": 3
   },
   "file_extension": ".py",
   "mimetype": "text/x-python",
   "name": "python",
   "nbconvert_exporter": "python",
   "pygments_lexer": "ipython3",
   "version": "3.8.8"
  }
 },
 "nbformat": 4,
 "nbformat_minor": 5
}
