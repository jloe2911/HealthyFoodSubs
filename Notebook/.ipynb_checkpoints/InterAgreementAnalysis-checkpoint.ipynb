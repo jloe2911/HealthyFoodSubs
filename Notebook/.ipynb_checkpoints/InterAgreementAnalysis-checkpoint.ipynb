{
 "cells": [
  {
   "cell_type": "markdown",
   "id": "d7941bf8-b911-4dea-9861-048c288b94c0",
   "metadata": {},
   "source": [
    "**------------------------------------------------------------------------------------------------------------------------------------------------------**\n",
    "\n",
    "**Input: Annotated Datasets**\n",
    "\n",
    "**Computes the Kappa-Score + Confidence Levels**\n",
    "\n",
    "**Output: Kappa-Score + Confidence Levels**\n",
    "\n",
    "**------------------------------------------------------------------------------------------------------------------------------------------------------**"
   ]
  },
  {
   "cell_type": "markdown",
   "id": "1425b399-c3d5-4b57-8f1e-e33961d6ece4",
   "metadata": {},
   "source": [
    "# Libraries"
   ]
  },
  {
   "cell_type": "code",
   "execution_count": 1,
   "id": "3d195f36-0eca-4590-b7d4-04d0eb05cb63",
   "metadata": {},
   "outputs": [],
   "source": [
    "import pandas as pd\n",
    "import numpy as np\n",
    "from sklearn.metrics import cohen_kappa_score\n",
    "from collections import Counter"
   ]
  },
  {
   "cell_type": "markdown",
   "id": "eea43165-1c8a-406e-a304-0a3b8d648d8c",
   "metadata": {},
   "source": [
    "**Get True Label**"
   ]
  },
  {
   "cell_type": "code",
   "execution_count": 2,
   "id": "af200b82-8841-47a5-9380-563fb24dbdf0",
   "metadata": {},
   "outputs": [],
   "source": [
    "df = pd.read_csv('../Output/new_links_after_shuffle_labelled.csv')"
   ]
  },
  {
   "cell_type": "code",
   "execution_count": 3,
   "id": "c5aaea89-2639-4931-b6c8-a792b4913e47",
   "metadata": {},
   "outputs": [
    {
     "name": "stdout",
     "output_type": "stream",
     "text": [
      "# Query Foods: 1187\n"
     ]
    }
   ],
   "source": [
    "print(f'# Query Foods: {len(df)}')"
   ]
  },
  {
   "cell_type": "markdown",
   "id": "363729ab-9f9a-4c98-a051-78a7d1daccff",
   "metadata": {},
   "source": [
    "**Get Annotated Datasets**"
   ]
  },
  {
   "cell_type": "code",
   "execution_count": 4,
   "id": "fd61a4c9-6fdd-454d-a492-0a6bdc954323",
   "metadata": {},
   "outputs": [],
   "source": [
    "df_alie = pd.read_excel('../Input Data/Dataset_2_annotate_Alie.xlsx', sheet_name='Dataset_2_annotate')"
   ]
  },
  {
   "cell_type": "code",
   "execution_count": 5,
   "id": "ba43c5bc-d3ce-42d7-8645-306190ac55c4",
   "metadata": {},
   "outputs": [
    {
     "name": "stdout",
     "output_type": "stream",
     "text": [
      "# Query Foods: 1187\n"
     ]
    }
   ],
   "source": [
    "print(f'# Query Foods: {len(df_alie)}')"
   ]
  },
  {
   "cell_type": "code",
   "execution_count": 6,
   "id": "04e38454-ee82-490d-83c3-1a45c3fe09ae",
   "metadata": {},
   "outputs": [],
   "source": [
    "df_ilse = pd.read_excel('../Input Data/Dataset_2_annotate_Ilse.xlsx', sheet_name='Dataset_2_annotate')"
   ]
  },
  {
   "cell_type": "code",
   "execution_count": 7,
   "id": "69dc8a76-aa82-497f-a6d0-5e2c1b79afb0",
   "metadata": {},
   "outputs": [
    {
     "name": "stdout",
     "output_type": "stream",
     "text": [
      "# Query Foods: 1187\n"
     ]
    }
   ],
   "source": [
    "print(f'# Query Foods: {len(df_ilse)}')"
   ]
  },
  {
   "cell_type": "markdown",
   "id": "2ab8a905-2e34-4a99-8cc0-ee54e6a8f73c",
   "metadata": {},
   "source": [
    "**Merge all datasets into one**"
   ]
  },
  {
   "cell_type": "code",
   "execution_count": 8,
   "id": "351da3cc-155f-4cde-9c8d-cb1ef9904727",
   "metadata": {},
   "outputs": [
    {
     "data": {
      "text/html": [
       "<div>\n",
       "<style scoped>\n",
       "    .dataframe tbody tr th:only-of-type {\n",
       "        vertical-align: middle;\n",
       "    }\n",
       "\n",
       "    .dataframe tbody tr th {\n",
       "        vertical-align: top;\n",
       "    }\n",
       "\n",
       "    .dataframe thead th {\n",
       "        text-align: right;\n",
       "    }\n",
       "</style>\n",
       "<table border=\"1\" class=\"dataframe\">\n",
       "  <thead>\n",
       "    <tr style=\"text-align: right;\">\n",
       "      <th></th>\n",
       "      <th>Unnamed: 0</th>\n",
       "      <th>Food label</th>\n",
       "      <th>Subs A</th>\n",
       "      <th>Subs B</th>\n",
       "      <th>True label</th>\n",
       "      <th>Healthiness_Alie</th>\n",
       "      <th>Healthiness_Ilse</th>\n",
       "    </tr>\n",
       "  </thead>\n",
       "  <tbody>\n",
       "    <tr>\n",
       "      <th>0</th>\n",
       "      <td>0</td>\n",
       "      <td>BUTTER OIL,ANHYDROUS</td>\n",
       "      <td>CHEESE,MEXICAN,QUESO CHIHUAHUA</td>\n",
       "      <td>CHEESE,LOW-SODIUM,CHEDDAR OR COLBY</td>\n",
       "      <td>Sub B</td>\n",
       "      <td>Sub B</td>\n",
       "      <td>Sub B</td>\n",
       "    </tr>\n",
       "    <tr>\n",
       "      <th>1</th>\n",
       "      <td>1</td>\n",
       "      <td>CHEESE,BRICK</td>\n",
       "      <td>CHEESE,MOZZARELLA,WHL MILK</td>\n",
       "      <td>CHEESE,LOW-SODIUM,CHEDDAR OR COLBY</td>\n",
       "      <td>Sub B</td>\n",
       "      <td>Sub A</td>\n",
       "      <td>Sub A</td>\n",
       "    </tr>\n",
       "    <tr>\n",
       "      <th>2</th>\n",
       "      <td>2</td>\n",
       "      <td>CHEESE,CHEDDAR</td>\n",
       "      <td>CHEESE,COLBY</td>\n",
       "      <td>EGG,WHL,RAW,FRSH</td>\n",
       "      <td>Sub B</td>\n",
       "      <td>NaN</td>\n",
       "      <td>Sub B</td>\n",
       "    </tr>\n",
       "    <tr>\n",
       "      <th>3</th>\n",
       "      <td>3</td>\n",
       "      <td>CHEESE,FETA</td>\n",
       "      <td>CHEESE,SWISS</td>\n",
       "      <td>CHEESE,FONTINA</td>\n",
       "      <td>Sub A</td>\n",
       "      <td>Sub B</td>\n",
       "      <td>Sub B</td>\n",
       "    </tr>\n",
       "    <tr>\n",
       "      <th>4</th>\n",
       "      <td>4</td>\n",
       "      <td>CHEESE,FONTINA</td>\n",
       "      <td>CHEESE,BRIE</td>\n",
       "      <td>CHEESE,SWISS</td>\n",
       "      <td>Sub B</td>\n",
       "      <td>Sub B</td>\n",
       "      <td>Sub B</td>\n",
       "    </tr>\n",
       "  </tbody>\n",
       "</table>\n",
       "</div>"
      ],
      "text/plain": [
       "   Unnamed: 0            Food label                          Subs A  \\\n",
       "0           0  BUTTER OIL,ANHYDROUS  CHEESE,MEXICAN,QUESO CHIHUAHUA   \n",
       "1           1          CHEESE,BRICK      CHEESE,MOZZARELLA,WHL MILK   \n",
       "2           2        CHEESE,CHEDDAR                    CHEESE,COLBY   \n",
       "3           3           CHEESE,FETA                    CHEESE,SWISS   \n",
       "4           4        CHEESE,FONTINA                     CHEESE,BRIE   \n",
       "\n",
       "                               Subs B True label Healthiness_Alie  \\\n",
       "0  CHEESE,LOW-SODIUM,CHEDDAR OR COLBY      Sub B            Sub B   \n",
       "1  CHEESE,LOW-SODIUM,CHEDDAR OR COLBY      Sub B            Sub A   \n",
       "2                    EGG,WHL,RAW,FRSH      Sub B              NaN   \n",
       "3                      CHEESE,FONTINA      Sub A            Sub B   \n",
       "4                        CHEESE,SWISS      Sub B            Sub B   \n",
       "\n",
       "  Healthiness_Ilse  \n",
       "0            Sub B  \n",
       "1            Sub A  \n",
       "2            Sub B  \n",
       "3            Sub B  \n",
       "4            Sub B  "
      ]
     },
     "execution_count": 8,
     "metadata": {},
     "output_type": "execute_result"
    }
   ],
   "source": [
    "df['Healthiness_Alie'] = df_alie['Healthiness']\n",
    "df['Healthiness_Ilse'] = df_ilse['Healthiness']\n",
    "df.head(5)"
   ]
  },
  {
   "cell_type": "markdown",
   "id": "fee6a9b0-f140-4ba4-9c35-43d45f52adba",
   "metadata": {},
   "source": [
    "**Preprocess dataset**"
   ]
  },
  {
   "cell_type": "code",
   "execution_count": 9,
   "id": "5768dd04-1ccf-4965-b6f3-d3254ec85f3a",
   "metadata": {},
   "outputs": [
    {
     "name": "stdout",
     "output_type": "stream",
     "text": [
      "Counter({nan: 1065, 'Sub A': 58, 'Sub B': 33, 'NC': 28, '? Sub A': 1, '? Sub B': 1, 'Sub A ': 1})\n",
      "Counter({nan: 790, 'NC': 195, 'Sub B': 103, 'Sub A': 99})\n"
     ]
    }
   ],
   "source": [
    "print(Counter(df['Healthiness_Alie']))\n",
    "print(Counter(df['Healthiness_Ilse']))"
   ]
  },
  {
   "cell_type": "code",
   "execution_count": 10,
   "id": "f03460b8-48a0-4589-ac5a-bae0dc354d2a",
   "metadata": {},
   "outputs": [],
   "source": [
    "#If any NA values are present, drop that row.\n",
    "df_filtered = df.dropna(subset=['Healthiness_Alie', 'Healthiness_Ilse'], how='any')"
   ]
  },
  {
   "cell_type": "code",
   "execution_count": 11,
   "id": "de0e43c4-58ab-46df-94ca-1bab52c28e22",
   "metadata": {},
   "outputs": [
    {
     "name": "stdout",
     "output_type": "stream",
     "text": [
      "Counter({'Sub A': 29, 'NC': 25, 'Sub B': 18})\n",
      "Counter({'Sub A': 27, 'NC': 23, 'Sub B': 22})\n"
     ]
    }
   ],
   "source": [
    "print(Counter(df_filtered['Healthiness_Alie']))\n",
    "print(Counter(df_filtered['Healthiness_Ilse']))"
   ]
  },
  {
   "cell_type": "markdown",
   "id": "34fdae8a-e97e-49e7-ad40-de5ad6cf5e55",
   "metadata": {},
   "source": [
    "**Compute Kappa-Score**"
   ]
  },
  {
   "cell_type": "code",
   "execution_count": 12,
   "id": "5aef5542-3bfa-4706-8a23-3f39ae69a4e9",
   "metadata": {},
   "outputs": [
    {
     "data": {
      "text/plain": [
       "0.6431486880466473"
      ]
     },
     "execution_count": 12,
     "metadata": {},
     "output_type": "execute_result"
    }
   ],
   "source": [
    "cohen_kappa_score(df_filtered['Healthiness_Alie'], df_filtered['Healthiness_Ilse'])"
   ]
  },
  {
   "cell_type": "code",
   "execution_count": 13,
   "id": "016e241c-f2bd-4d25-af38-36daa652770f",
   "metadata": {},
   "outputs": [
    {
     "name": "stdout",
     "output_type": "stream",
     "text": [
      "# Matches between Nutri-Scholars: 55\n"
     ]
    }
   ],
   "source": [
    "match = df_filtered[df_filtered['Healthiness_Alie'] == df_filtered['Healthiness_Ilse']]\n",
    "num_match = len(match)\n",
    "print(f'# Matches between Nutri-Scholars: {num_match}')"
   ]
  },
  {
   "cell_type": "code",
   "execution_count": 14,
   "id": "9b1c1502-119d-49b1-a518-a7bc1a778478",
   "metadata": {},
   "outputs": [
    {
     "name": "stdout",
     "output_type": "stream",
     "text": [
      "# Dataset (after removing NA): 72\n"
     ]
    }
   ],
   "source": [
    "print(f'# Dataset (after removing NA): {len(df_filtered)}')"
   ]
  },
  {
   "cell_type": "code",
   "execution_count": 15,
   "id": "0c0297ee-26c0-4e9d-ac02-a3354d672aba",
   "metadata": {},
   "outputs": [
    {
     "data": {
      "text/plain": [
       "0.7638888888888888"
      ]
     },
     "execution_count": 15,
     "metadata": {},
     "output_type": "execute_result"
    }
   ],
   "source": [
    "num_match/len(df_filtered)"
   ]
  },
  {
   "cell_type": "markdown",
   "id": "f30c99c3-ab64-46c0-8602-0ccd79ac32e3",
   "metadata": {},
   "source": [
    "**Compare to True Label**"
   ]
  },
  {
   "cell_type": "code",
   "execution_count": 16,
   "id": "630abcca-c6cf-4311-9839-a029dbd08035",
   "metadata": {},
   "outputs": [
    {
     "name": "stdout",
     "output_type": "stream",
     "text": [
      "# Matches between True Label and Nutri-Scholars: 17\n"
     ]
    }
   ],
   "source": [
    "match2 = match[match['True label'] == match['Healthiness_Ilse']]\n",
    "num_match2 = len(match2)\n",
    "print(f'# Matches between True Label and Nutri-Scholars: {num_match2}')"
   ]
  },
  {
   "cell_type": "code",
   "execution_count": 17,
   "id": "e1a791d4-4155-45c1-bbae-a78fc9f9c3d9",
   "metadata": {},
   "outputs": [
    {
     "name": "stdout",
     "output_type": "stream",
     "text": [
      "# Dataset (after removing NC and by taking only the rows in which the two domain expters agree to each other): 35\n"
     ]
    }
   ],
   "source": [
    "#Delete NC options.\n",
    "df_filterd2 = match[(match['Healthiness_Alie'].str.contains('NC')==False) | (match['Healthiness_Ilse'].str.contains('NC')==False)]\n",
    "print(f'# Dataset (after removing NC and by taking only the rows in which the two domain expters agree to each other): {len(df_filterd2)}')"
   ]
  },
  {
   "cell_type": "code",
   "execution_count": 18,
   "id": "36e5cd42-3931-4c5a-9666-5de54d81f79f",
   "metadata": {},
   "outputs": [
    {
     "data": {
      "text/plain": [
       "0.4857142857142857"
      ]
     },
     "execution_count": 18,
     "metadata": {},
     "output_type": "execute_result"
    }
   ],
   "source": [
    "num_match2/len(df_filterd2)"
   ]
  }
 ],
 "metadata": {
  "kernelspec": {
   "display_name": "Python 3",
   "language": "python",
   "name": "python3"
  },
  "language_info": {
   "codemirror_mode": {
    "name": "ipython",
    "version": 3
   },
   "file_extension": ".py",
   "mimetype": "text/x-python",
   "name": "python",
   "nbconvert_exporter": "python",
   "pygments_lexer": "ipython3",
   "version": "3.8.8"
  }
 },
 "nbformat": 4,
 "nbformat_minor": 5
}
