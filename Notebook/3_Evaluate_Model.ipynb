{
 "cells": [
  {
   "cell_type": "markdown",
   "id": "256b7ea7-c3ec-4bd5-bc58-fe85eade4f93",
   "metadata": {},
   "source": [
    "**------------------------------------------------------------------------------------------------------------------------------------------------------**\n",
    "\n",
    "**Input: \"Food\" Embeddings**\n",
    "\n",
    "**Evaluates Model by calculating MAP, MRR, and RR@[5, 10]**\n",
    "\n",
    "**Output: Metrics**\n",
    "\n",
    "**------------------------------------------------------------------------------------------------------------------------------------------------------**"
   ]
  },
  {
   "cell_type": "markdown",
   "id": "226e0f58-40b8-45b0-8a61-88f8a7814664",
   "metadata": {},
   "source": [
    "# Libraries"
   ]
  },
  {
   "cell_type": "code",
   "execution_count": 1,
   "id": "c129c818-732b-4941-ad4f-c19096f93b7d",
   "metadata": {},
   "outputs": [
    {
     "name": "stderr",
     "output_type": "stream",
     "text": [
      "C:\\Users\\julie\\anaconda3\\lib\\site-packages\\gensim\\similarities\\__init__.py:15: UserWarning: The gensim.similarities.levenshtein submodule is disabled, because the optional Levenshtein package <https://pypi.org/project/python-Levenshtein/> is unavailable. Install Levenhstein (e.g. `pip install python-Levenshtein`) to suppress this warning.\n",
      "  warnings.warn(msg)\n"
     ]
    }
   ],
   "source": [
    "import pandas as pd\n",
    "import numpy as np\n",
    "import random\n",
    "import ast\n",
    "from gensim.models import KeyedVectors\n",
    "from gensim.test.utils import datapath\n",
    "import warnings\n",
    "warnings.simplefilter(\"ignore\")"
   ]
  },
  {
   "cell_type": "code",
   "execution_count": 2,
   "id": "2831231d-4d25-4abf-b00a-0d87ed9e7a83",
   "metadata": {},
   "outputs": [],
   "source": [
    "#Model = 'GraphSAGE'\n",
    "vModel = 'GAT'"
   ]
  },
  {
   "cell_type": "code",
   "execution_count": 5,
   "id": "e00bbeed-daf2-41ae-b008-1fd25b8b1e02",
   "metadata": {},
   "outputs": [
    {
     "data": {
      "text/plain": [
       "[('http://idea.rpi.edu/heals/kb/usda#09201', 0.9915021657943726),\n",
       " ('http://idea.rpi.edu/heals/kb/usda#07010', 0.9912489652633667),\n",
       " ('http://idea.rpi.edu/heals/kb/usda#09152', 0.98865807056427),\n",
       " ('http://idea.rpi.edu/heals/kb/usda#10864', 0.9885743856430054),\n",
       " ('http://idea.rpi.edu/heals/kb/usda#04582', 0.9872804880142212)]"
      ]
     },
     "execution_count": 5,
     "metadata": {},
     "output_type": "execute_result"
    }
   ],
   "source": [
    "word_vectors = KeyedVectors.load_word2vec_format(f'../Output/k_fold_5_kg/{vModel}/{vModel}_0_food_embeddings.txt', binary=False)\n",
    "word_vectors.most_similar('http://idea.rpi.edu/heals/kb/usda#01001', topn=5)"
   ]
  },
  {
   "cell_type": "markdown",
   "id": "8fac59e1-d773-4ec6-828d-3e4c22a0abea",
   "metadata": {},
   "source": [
    "**Get Food Categories**"
   ]
  },
  {
   "cell_type": "code",
   "execution_count": 6,
   "id": "54a1f48e-4d19-4f5e-ae6d-da5ccce19808",
   "metadata": {},
   "outputs": [],
   "source": [
    "df = pd.read_csv('../Input Data/food_category.csv')\n",
    "df['NDB_No'] = df['NDB_No'].astype(str).str.rjust(5,'0')"
   ]
  },
  {
   "cell_type": "code",
   "execution_count": 7,
   "id": "a086a1a2-540a-4b6a-8b3a-3469dc6b7971",
   "metadata": {},
   "outputs": [],
   "source": [
    "food2cat = {}\n",
    "food_label_map = {}\n",
    "food_id_map = {}\n",
    "for i, row in df.iterrows():\n",
    "    uri = 'http://idea.rpi.edu/heals/kb/usda#' + row['NDB_No']\n",
    "    label = row['Long_Desc'].strip()\n",
    "    cat = row['FdGrp_Desc']\n",
    "    food2cat[uri] = cat\n",
    "    food_label_map[uri] = label\n",
    "    food_id_map[label] = uri"
   ]
  },
  {
   "cell_type": "markdown",
   "id": "6feff732-f988-461c-a6b0-4ac15330d713",
   "metadata": {},
   "source": [
    "**Utils to Evaluate Model**"
   ]
  },
  {
   "cell_type": "code",
   "execution_count": 8,
   "id": "c48d9b30-0332-41b8-9dac-5d86cee00568",
   "metadata": {},
   "outputs": [],
   "source": [
    "def get_simscore_ingrank_category_multisamerank(query_food, subs):\n",
    "    # return rank based on KG embedding + foods' category\n",
    "    TOPK = len(list(word_vectors.index_to_key))\n",
    "    mostSimilar = word_vectors.most_similar(query_food, topn=TOPK)\n",
    "    i = 0\n",
    "    for e, sim in mostSimilar:\n",
    "        if e not in food2cat or food2cat[subs] != food2cat[e]: continue\n",
    "        if e == subs:\n",
    "            return i+1 \n",
    "        i+=1\n",
    "    return TOPK"
   ]
  },
  {
   "cell_type": "code",
   "execution_count": 9,
   "id": "b0e8a670-0385-460d-a381-8137317476ae",
   "metadata": {},
   "outputs": [],
   "source": [
    "def evaluate_model(scraped_subs_dict):    \n",
    "    top_5_food = []\n",
    "    low_5_food = []\n",
    "    \n",
    "    rank_scores = []\n",
    "    ave_p = []\n",
    "    in_top_5 = 0\n",
    "    in_top_10 = 0\n",
    "    print('number of ings: ',len(scraped_subs_dict.keys()))\n",
    "\n",
    "    for query_food in sorted(scraped_subs_dict.keys()):\n",
    "        relevant_ranks = []\n",
    "        min_rank = 9999999999999999\n",
    "        for subs in scraped_subs_dict[query_food]:\n",
    "            rank = get_simscore_ingrank_category_multisamerank(query_food, subs)   \n",
    "            relevant_ranks.append(rank)\n",
    "            if rank < min_rank:\n",
    "                min_rank = rank\n",
    "        rank = min_rank\n",
    "        rank_scores.append(1.0/rank)\n",
    "        if min_rank <= 5:\n",
    "            in_top_5 += 1\n",
    "            top_5_food.append(query_food)\n",
    "        if min_rank <= 10:\n",
    "            in_top_10 += 1\n",
    "        if min_rank > 10:\n",
    "            low_5_food.append(query_food)\n",
    "        precisions = []\n",
    "        for rank in relevant_ranks:\n",
    "            good_docs = len([r for r in relevant_ranks if r <= rank])\n",
    "            precisions.append(good_docs/rank)\n",
    "        if len(precisions) == 0:\n",
    "            precisions = [0]\n",
    "        ave_p.append(np.mean(precisions))\n",
    "        \n",
    "    print(f'MAP: {(np.mean(ave_p)):.3f}')\n",
    "    print(f'MRR: {(np.mean(rank_scores)):.3f}')\n",
    "    print(f'RR@5: {(in_top_5/len(scraped_subs_dict.keys())):.3f}')\n",
    "    print(f'RR@10: {(in_top_10/len(scraped_subs_dict.keys())):.3f}')\n",
    "    \n",
    "    return top_5_food, low_5_food"
   ]
  },
  {
   "cell_type": "markdown",
   "id": "9d0f8904-553e-4430-a13b-ffb8be07eccd",
   "metadata": {},
   "source": [
    "**Get Ground Truth**"
   ]
  },
  {
   "cell_type": "code",
   "execution_count": 10,
   "id": "97f22ae8-3387-4849-b58b-1f50d949d61b",
   "metadata": {},
   "outputs": [],
   "source": [
    "subs_df = pd.read_csv('../Input Data/final_substitution.csv', sep=';')\n",
    "subs_df['Food id'] = subs_df['Food id']\n",
    "subs_df['Substitution id'] = subs_df['Substitution id']"
   ]
  },
  {
   "cell_type": "code",
   "execution_count": 11,
   "id": "d370a574-8708-4eb3-8996-ebcd474034da",
   "metadata": {},
   "outputs": [],
   "source": [
    "scraped_subs_dict = dict()\n",
    "\n",
    "for i,row in subs_df.iterrows():\n",
    "    food = row['Food id']\n",
    "    subs = row['Substitution id']\n",
    "    if food in word_vectors and subs in word_vectors and food in food2cat and subs in food2cat:\n",
    "        if food not in scraped_subs_dict:\n",
    "            scraped_subs_dict[food]= set()\n",
    "      \n",
    "        scraped_subs_dict[food].add(subs)\n",
    "    else:\n",
    "        print (food, subs, 'not in embeddings')"
   ]
  },
  {
   "cell_type": "markdown",
   "id": "be22a58f-ec5f-4acb-9760-c94c882815ad",
   "metadata": {},
   "source": [
    "**Evaluate Model (+by comparing to a ground truth that only contains the foods that were also in the test set)**"
   ]
  },
  {
   "cell_type": "code",
   "execution_count": 12,
   "id": "1cfd01e3-2a5a-4651-80c3-4c793b8ee49b",
   "metadata": {},
   "outputs": [],
   "source": [
    "foods = pd.read_csv(f'../Output/k_fold_5_kg/{vModel}/{vModel}_0_foods_2_test.csv')\n",
    "\n",
    "new_scraped_subs_dict = dict()\n",
    "for food in np.unique(np.array(foods['id'])):\n",
    "    if food in scraped_subs_dict:\n",
    "        new_scraped_subs_dict[food] = scraped_subs_dict[food]\n",
    "    else:\n",
    "        print (food, 'not in ground truth')"
   ]
  },
  {
   "cell_type": "markdown",
   "id": "e6297e95-48e1-440c-8940-92c3ea29fef2",
   "metadata": {},
   "source": [
    "**Get Nutri-Scores + Nutri-Values**"
   ]
  },
  {
   "cell_type": "code",
   "execution_count": 13,
   "id": "bdfc7a86-fb28-47b1-8ec6-5801b7053058",
   "metadata": {},
   "outputs": [],
   "source": [
    "nutri_scores = pd.read_csv('../Output/nutri_scores.csv')\n",
    "food_2_score = dict()\n",
    "\n",
    "for i, row in nutri_scores.iterrows():\n",
    "    food = row['NDB_No']\n",
    "    score = row['nutri_values']\n",
    "    food_2_score[food] = score"
   ]
  },
  {
   "cell_type": "markdown",
   "id": "a8c626e3-90e9-4ea9-b165-829fc55a1c9a",
   "metadata": {},
   "source": [
    "**Get some Examples**"
   ]
  },
  {
   "cell_type": "code",
   "execution_count": 14,
   "id": "1f4baeb6-bfbe-404e-8c14-92caaacd24c0",
   "metadata": {},
   "outputs": [
    {
     "name": "stdout",
     "output_type": "stream",
     "text": [
      "number of ings:  121\n",
      "MAP: 0.331\n",
      "MRR: 0.508\n",
      "RR@5: 0.645\n",
      "RR@10: 0.678\n"
     ]
    }
   ],
   "source": [
    "top_5_food, low_5_food = evaluate_model(new_scraped_subs_dict)"
   ]
  },
  {
   "cell_type": "code",
   "execution_count": 19,
   "id": "b16b1c74-7221-4dce-bf0a-f971c234d965",
   "metadata": {},
   "outputs": [
    {
     "data": {
      "text/plain": [
       "['http://idea.rpi.edu/heals/kb/usda#01001',\n",
       " 'http://idea.rpi.edu/heals/kb/usda#01004',\n",
       " 'http://idea.rpi.edu/heals/kb/usda#01006',\n",
       " 'http://idea.rpi.edu/heals/kb/usda#01011',\n",
       " 'http://idea.rpi.edu/heals/kb/usda#01020']"
      ]
     },
     "execution_count": 19,
     "metadata": {},
     "output_type": "execute_result"
    }
   ],
   "source": [
    "top_5_food[:5]"
   ]
  },
  {
   "cell_type": "code",
   "execution_count": 20,
   "id": "900cc50a-0e7d-483f-877f-4d45db2bdd48",
   "metadata": {},
   "outputs": [
    {
     "data": {
      "text/plain": [
       "['http://idea.rpi.edu/heals/kb/usda#01184',\n",
       " 'http://idea.rpi.edu/heals/kb/usda#01238',\n",
       " 'http://idea.rpi.edu/heals/kb/usda#04641',\n",
       " 'http://idea.rpi.edu/heals/kb/usda#06080',\n",
       " 'http://idea.rpi.edu/heals/kb/usda#06116']"
      ]
     },
     "execution_count": 20,
     "metadata": {},
     "output_type": "execute_result"
    }
   ],
   "source": [
    "low_5_food[:5]"
   ]
  },
  {
   "cell_type": "code",
   "execution_count": 24,
   "id": "18d74f1a-1ad5-4b60-84c0-8faa8c33d348",
   "metadata": {},
   "outputs": [],
   "source": [
    "query_food = 'http://idea.rpi.edu/heals/kb/usda#01001'"
   ]
  },
  {
   "cell_type": "code",
   "execution_count": 25,
   "id": "c3dff4e1-bd18-40ae-bf03-41274b0ea1a3",
   "metadata": {},
   "outputs": [
    {
     "data": {
      "text/plain": [
       "25"
      ]
     },
     "execution_count": 25,
     "metadata": {},
     "output_type": "execute_result"
    }
   ],
   "source": [
    "food_2_score[query_food]"
   ]
  },
  {
   "cell_type": "code",
   "execution_count": 26,
   "id": "53989dc7-2cda-4fa5-a8f1-337421a62ff7",
   "metadata": {},
   "outputs": [
    {
     "data": {
      "text/plain": [
       "['http://idea.rpi.edu/heals/kb/usda#04053',\n",
       " 'http://idea.rpi.edu/heals/kb/usda#04668',\n",
       " 'http://idea.rpi.edu/heals/kb/usda#04034',\n",
       " 'http://idea.rpi.edu/heals/kb/usda#04615',\n",
       " 'http://idea.rpi.edu/heals/kb/usda#04518',\n",
       " 'http://idea.rpi.edu/heals/kb/usda#04556',\n",
       " 'http://idea.rpi.edu/heals/kb/usda#04582',\n",
       " 'http://idea.rpi.edu/heals/kb/usda#04073',\n",
       " 'http://idea.rpi.edu/heals/kb/usda#04128',\n",
       " 'http://idea.rpi.edu/heals/kb/usda#04669',\n",
       " 'http://idea.rpi.edu/heals/kb/usda#04047',\n",
       " 'http://idea.rpi.edu/heals/kb/usda#04581',\n",
       " 'http://idea.rpi.edu/heals/kb/usda#04060',\n",
       " 'http://idea.rpi.edu/heals/kb/usda#04601',\n",
       " 'http://idea.rpi.edu/heals/kb/usda#04679']"
      ]
     },
     "execution_count": 26,
     "metadata": {},
     "output_type": "execute_result"
    }
   ],
   "source": [
    "#Ground Truth\n",
    "list(new_scraped_subs_dict[query_food])"
   ]
  },
  {
   "cell_type": "code",
   "execution_count": 27,
   "id": "db875276-465f-4529-b06e-f6a64379a083",
   "metadata": {},
   "outputs": [
    {
     "name": "stdout",
     "output_type": "stream",
     "text": [
      "http://idea.rpi.edu/heals/kb/usda#04053 - 3\n",
      "http://idea.rpi.edu/heals/kb/usda#04668 - 25\n",
      "http://idea.rpi.edu/heals/kb/usda#04034 - 109\n",
      "http://idea.rpi.edu/heals/kb/usda#04615 - 7\n",
      "http://idea.rpi.edu/heals/kb/usda#04518 - 9\n",
      "http://idea.rpi.edu/heals/kb/usda#04556 - 1\n",
      "http://idea.rpi.edu/heals/kb/usda#04582 - 4\n",
      "http://idea.rpi.edu/heals/kb/usda#04073 - 5\n",
      "http://idea.rpi.edu/heals/kb/usda#04128 - 80\n",
      "http://idea.rpi.edu/heals/kb/usda#04669 - 10\n",
      "http://idea.rpi.edu/heals/kb/usda#04047 - 6\n",
      "http://idea.rpi.edu/heals/kb/usda#04581 - 27\n",
      "http://idea.rpi.edu/heals/kb/usda#04060 - 22\n",
      "http://idea.rpi.edu/heals/kb/usda#04601 - 13\n",
      "http://idea.rpi.edu/heals/kb/usda#04679 - 14\n"
     ]
    }
   ],
   "source": [
    "#Get Rank\n",
    "for subs in scraped_subs_dict[query_food]:\n",
    "    rank = get_simscore_ingrank_category_multisamerank(query_food, subs)  \n",
    "    print(str(subs) + ' - ' + str(rank))"
   ]
  },
  {
   "cell_type": "code",
   "execution_count": 28,
   "id": "15201bd5-d7fb-4d8d-afb7-e637db11ef02",
   "metadata": {},
   "outputs": [
    {
     "name": "stdout",
     "output_type": "stream",
     "text": [
      "http://idea.rpi.edu/heals/kb/usda#01012 - 1\n",
      "http://idea.rpi.edu/heals/kb/usda#01036 - 5\n",
      "http://idea.rpi.edu/heals/kb/usda#01156 - 14\n",
      "http://idea.rpi.edu/heals/kb/usda#01004 - 19\n",
      "http://idea.rpi.edu/heals/kb/usda#01011 - 15\n",
      "http://idea.rpi.edu/heals/kb/usda#01095 - 16\n",
      "http://idea.rpi.edu/heals/kb/usda#01019 - 18\n",
      "http://idea.rpi.edu/heals/kb/usda#01020 - 17\n",
      "http://idea.rpi.edu/heals/kb/usda#01118 - -2\n",
      "http://idea.rpi.edu/heals/kb/usda#01023 - 17\n",
      "http://idea.rpi.edu/heals/kb/usda#01088 - 1\n",
      "http://idea.rpi.edu/heals/kb/usda#01009 - 17\n",
      "http://idea.rpi.edu/heals/kb/usda#01090 - 23\n",
      "http://idea.rpi.edu/heals/kb/usda#01085 - -1\n",
      "http://idea.rpi.edu/heals/kb/usda#01096 - 4\n",
      "http://idea.rpi.edu/heals/kb/usda#01179 - 5\n",
      "http://idea.rpi.edu/heals/kb/usda#01052 - 12\n",
      "http://idea.rpi.edu/heals/kb/usda#01032 - 20\n",
      "http://idea.rpi.edu/heals/kb/usda#01040 - 9\n",
      "http://idea.rpi.edu/heals/kb/usda#01056 - 11\n",
      "http://idea.rpi.edu/heals/kb/usda#01256 - -5\n",
      "http://idea.rpi.edu/heals/kb/usda#01059 - -2\n",
      "http://idea.rpi.edu/heals/kb/usda#01123 - 0\n",
      "http://idea.rpi.edu/heals/kb/usda#01050 - 11\n"
     ]
    }
   ],
   "source": [
    "#Get Top 5 of our algorithm\n",
    "mostSimilar = word_vectors.most_similar(query_food, topn=200)\n",
    "i = 0\n",
    "for e, sim in mostSimilar:\n",
    "    if e not in food2cat or food2cat[query_food] != food2cat[e]: \n",
    "        continue\n",
    "    if food_2_score[e] >= food_2_score[query_food]:\n",
    "        continue\n",
    "    print(str(e) + ' - ' + str(food_2_score[e]))"
   ]
  }
 ],
 "metadata": {
  "kernelspec": {
   "display_name": "Python 3",
   "language": "python",
   "name": "python3"
  },
  "language_info": {
   "codemirror_mode": {
    "name": "ipython",
    "version": 3
   },
   "file_extension": ".py",
   "mimetype": "text/x-python",
   "name": "python",
   "nbconvert_exporter": "python",
   "pygments_lexer": "ipython3",
   "version": "3.8.8"
  }
 },
 "nbformat": 4,
 "nbformat_minor": 5
}
