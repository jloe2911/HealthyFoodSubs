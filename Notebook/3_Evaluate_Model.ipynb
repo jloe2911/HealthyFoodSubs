{
 "cells": [
  {
   "cell_type": "markdown",
   "id": "256b7ea7-c3ec-4bd5-bc58-fe85eade4f93",
   "metadata": {},
   "source": [
    "**------------------------------------------------------------------------------------------------------------------------------------------------------**\n",
    "\n",
    "**Input: \"Food\" Embeddings**\n",
    "\n",
    "**Evaluates Model by calculating MAP, MRR, and RR@[5, 10]**\n",
    "\n",
    "**Output: Metrics**\n",
    "\n",
    "**------------------------------------------------------------------------------------------------------------------------------------------------------**"
   ]
  },
  {
   "cell_type": "markdown",
   "id": "226e0f58-40b8-45b0-8a61-88f8a7814664",
   "metadata": {},
   "source": [
    "# Libraries"
   ]
  },
  {
   "cell_type": "code",
   "execution_count": null,
   "id": "c129c818-732b-4941-ad4f-c19096f93b7d",
   "metadata": {},
   "outputs": [],
   "source": [
    "import pandas as pd\n",
    "import numpy as np\n",
    "import random\n",
    "import ast\n",
    "from gensim.models import KeyedVectors\n",
    "from gensim.test.utils import datapath\n",
    "import warnings\n",
    "warnings.simplefilter(\"ignore\")"
   ]
  },
  {
   "cell_type": "code",
   "execution_count": null,
   "id": "2831231d-4d25-4abf-b00a-0d87ed9e7a83",
   "metadata": {},
   "outputs": [],
   "source": [
    "#Model = 'GraphSAGE'\n",
    "vModel = 'GAT'"
   ]
  },
  {
   "cell_type": "code",
   "execution_count": null,
   "id": "e00bbeed-daf2-41ae-b008-1fd25b8b1e02",
   "metadata": {},
   "outputs": [],
   "source": [
    "word_vectors = KeyedVectors.load_word2vec_format(f'../Output/{vModel}_food_embeddings.txt', binary=False)\n",
    "word_vectors.most_similar('http://idea.rpi.edu/heals/kb/usda#01001', topn=5)"
   ]
  },
  {
   "cell_type": "markdown",
   "id": "8fac59e1-d773-4ec6-828d-3e4c22a0abea",
   "metadata": {},
   "source": [
    "**Get Food Categories**"
   ]
  },
  {
   "cell_type": "code",
   "execution_count": null,
   "id": "54a1f48e-4d19-4f5e-ae6d-da5ccce19808",
   "metadata": {},
   "outputs": [],
   "source": [
    "df = pd.read_csv('../Input Data/food_category.csv')\n",
    "df['NDB_No'] = df['NDB_No'].astype(str).str.rjust(5,'0')"
   ]
  },
  {
   "cell_type": "code",
   "execution_count": null,
   "id": "a086a1a2-540a-4b6a-8b3a-3469dc6b7971",
   "metadata": {},
   "outputs": [],
   "source": [
    "food2cat = {}\n",
    "food_label_map = {}\n",
    "food_id_map = {}\n",
    "for i, row in df.iterrows():\n",
    "    uri = 'http://idea.rpi.edu/heals/kb/usda#' + row['NDB_No']\n",
    "    label = row['Long_Desc'].strip()\n",
    "    cat = row['FdGrp_Desc']\n",
    "    food2cat[uri] = cat\n",
    "    food_label_map[uri] = label\n",
    "    food_id_map[label] = uri"
   ]
  },
  {
   "cell_type": "markdown",
   "id": "6feff732-f988-461c-a6b0-4ac15330d713",
   "metadata": {},
   "source": [
    "**Utils to Evaluate Model**"
   ]
  },
  {
   "cell_type": "code",
   "execution_count": null,
   "id": "343cd759-7270-4e3c-bf0b-06e65396c1c7",
   "metadata": {},
   "outputs": [],
   "source": [
    "def get_simscore_ingrank_multisamerank(query_food, subs):\n",
    "    # return rank based on KG embedding \n",
    "    TOPK =  len(list(word_vectors.index_to_key))\n",
    "    mostSimilar = word_vectors.most_similar(query_food, topn=TOPK)\n",
    "    for i,(e, sim) in enumerate(mostSimilar):\n",
    "        if e == subs:\n",
    "            return i+1    \n",
    "    return TOPK"
   ]
  },
  {
   "cell_type": "code",
   "execution_count": null,
   "id": "c48d9b30-0332-41b8-9dac-5d86cee00568",
   "metadata": {},
   "outputs": [],
   "source": [
    "def get_simscore_ingrank_category_multisamerank(query_food, subs):\n",
    "    # return rank based on KG embedding + foods' category\n",
    "    TOPK = len(list(word_vectors.index_to_key))\n",
    "    mostSimilar = word_vectors.most_similar(query_food, topn=TOPK)\n",
    "    i = 0\n",
    "    for e, sim in mostSimilar:\n",
    "        if e not in food2cat or food2cat[subs] != food2cat[e]: continue\n",
    "        if e == subs:\n",
    "            return i+1 \n",
    "        i+=1\n",
    "    return TOPK"
   ]
  },
  {
   "cell_type": "code",
   "execution_count": null,
   "id": "b0e8a670-0385-460d-a381-8137317476ae",
   "metadata": {},
   "outputs": [],
   "source": [
    "def evaluate_model(scraped_subs_dict):    \n",
    "    \n",
    "    rank_scores = []\n",
    "    ave_p = []\n",
    "    in_top_5 = 0\n",
    "    in_top_10 = 0\n",
    "    print('number of ings: ',len(scraped_subs_dict.keys()))\n",
    "\n",
    "    for query_food in sorted(scraped_subs_dict.keys()):\n",
    "        relevant_ranks = []\n",
    "        min_rank = 9999999999999999\n",
    "        for subs in scraped_subs_dict[query_food]:\n",
    "            rank = get_simscore_ingrank_category_multisamerank(query_food, subs)   \n",
    "            relevant_ranks.append(rank)\n",
    "            if rank < min_rank:\n",
    "                min_rank = rank\n",
    "        rank = min_rank\n",
    "        rank_scores.append(1.0/rank)\n",
    "        if min_rank <= 5:\n",
    "            in_top_5 += 1\n",
    "        if min_rank <= 10:\n",
    "            in_top_10 += 1\n",
    "        precisions = []\n",
    "        for rank in relevant_ranks:\n",
    "            good_docs = len([r for r in relevant_ranks if r <= rank])\n",
    "            precisions.append(good_docs/rank)\n",
    "        if len(precisions) == 0:\n",
    "            precisions = [0]\n",
    "        ave_p.append(np.mean(precisions))\n",
    "        \n",
    "    print(f'MAP: {(np.mean(ave_p)):.3f}')\n",
    "    print(f'MRR: {(np.mean(rank_scores)):.3f}')\n",
    "    print(f'RR@5: {(in_top_5/len(scraped_subs_dict.keys())):.3f}')\n",
    "    print(f'RR@10: {(in_top_10/len(scraped_subs_dict.keys())):.3f}')"
   ]
  },
  {
   "cell_type": "markdown",
   "id": "9d0f8904-553e-4430-a13b-ffb8be07eccd",
   "metadata": {},
   "source": [
    "**Get Ground Truth**"
   ]
  },
  {
   "cell_type": "code",
   "execution_count": null,
   "id": "97f22ae8-3387-4849-b58b-1f50d949d61b",
   "metadata": {},
   "outputs": [],
   "source": [
    "subs_df = pd.read_csv('../Input Data/final_substitution.csv', sep=';')\n",
    "subs_df['Food id'] = subs_df['Food id']\n",
    "subs_df['Substitution id'] = subs_df['Substitution id']"
   ]
  },
  {
   "cell_type": "code",
   "execution_count": null,
   "id": "d370a574-8708-4eb3-8996-ebcd474034da",
   "metadata": {},
   "outputs": [],
   "source": [
    "scraped_subs_dict = dict()\n",
    "\n",
    "for i,row in subs_df.iterrows():\n",
    "    food = row['Food id']\n",
    "    subs = row['Substitution id']\n",
    "    if food in word_vectors and subs in word_vectors and food in food2cat and subs in food2cat:\n",
    "        if food not in scraped_subs_dict:\n",
    "            scraped_subs_dict[food]= set()\n",
    "      \n",
    "        scraped_subs_dict[food].add(subs)\n",
    "    else:\n",
    "        print (food, subs, 'not in embeddings')"
   ]
  },
  {
   "cell_type": "markdown",
   "id": "be22a58f-ec5f-4acb-9760-c94c882815ad",
   "metadata": {},
   "source": [
    "**Evaluate Model (+by comparing to a ground truth that only contains the foods that were also in the test set)**"
   ]
  },
  {
   "cell_type": "code",
   "execution_count": null,
   "id": "1cfd01e3-2a5a-4651-80c3-4c793b8ee49b",
   "metadata": {},
   "outputs": [],
   "source": [
    "foods = pd.read_csv(f'../Output/{vModel}_foods_2_test.csv')\n",
    "\n",
    "new_scraped_subs_dict = dict()\n",
    "for food in np.unique(np.array(foods['id'])):\n",
    "    if food in scraped_subs_dict:\n",
    "        new_scraped_subs_dict[food] = scraped_subs_dict[food]\n",
    "    else:\n",
    "        print (food, 'not in ground truth')"
   ]
  },
  {
   "cell_type": "markdown",
   "id": "e6297e95-48e1-440c-8940-92c3ea29fef2",
   "metadata": {},
   "source": [
    "**Get Nutri-Scores + Nutri-Values**"
   ]
  },
  {
   "cell_type": "code",
   "execution_count": null,
   "id": "bdfc7a86-fb28-47b1-8ec6-5801b7053058",
   "metadata": {},
   "outputs": [],
   "source": [
    "nutri_scores = pd.read_csv('../Output/nutri_scores.csv')\n",
    "food_2_score = dict()\n",
    "\n",
    "for i, row in nutri_scores.iterrows():\n",
    "    food = row['NDB_No']\n",
    "    score = row['nutri_values']\n",
    "    food_2_score[food] = score"
   ]
  },
  {
   "cell_type": "markdown",
   "id": "759bef50-5dea-4fcb-91e1-e490ed2359fc",
   "metadata": {},
   "source": [
    "**Evaluate**"
   ]
  },
  {
   "cell_type": "code",
   "execution_count": null,
   "id": "1f4baeb6-bfbe-404e-8c14-92caaacd24c0",
   "metadata": {},
   "outputs": [],
   "source": [
    "evaluate_model(new_scraped_subs_dict)"
   ]
  },
  {
   "cell_type": "markdown",
   "id": "f2b254a7-c3a3-434b-b237-77390ee1ec86",
   "metadata": {},
   "source": [
    "**Get Example**"
   ]
  },
  {
   "cell_type": "code",
   "execution_count": null,
   "id": "18d74f1a-1ad5-4b60-84c0-8faa8c33d348",
   "metadata": {},
   "outputs": [],
   "source": [
    "#Define query food\n",
    "query_food = 'http://idea.rpi.edu/heals/kb/usda#01001'"
   ]
  },
  {
   "cell_type": "code",
   "execution_count": null,
   "id": "c3dff4e1-bd18-40ae-bf03-41274b0ea1a3",
   "metadata": {},
   "outputs": [],
   "source": [
    "#Nutri-Score of query food\n",
    "food_2_score[query_food]"
   ]
  },
  {
   "cell_type": "code",
   "execution_count": null,
   "id": "53989dc7-2cda-4fa5-a8f1-337421a62ff7",
   "metadata": {},
   "outputs": [],
   "source": [
    "#Ground Truth\n",
    "list(new_scraped_subs_dict[query_food])"
   ]
  },
  {
   "cell_type": "code",
   "execution_count": null,
   "id": "db875276-465f-4529-b06e-f6a64379a083",
   "metadata": {},
   "outputs": [],
   "source": [
    "#Get Rank with or without filtered ranking using food category\n",
    "for subs in scraped_subs_dict[query_food]:\n",
    "    rank = get_simscore_ingrank_category_multisamerank(query_food, subs)  \n",
    "    #rank = get_simscore_ingrank_multisamerank(query_food, subs)\n",
    "    print(str(subs) + ' - ' + str(rank))"
   ]
  },
  {
   "cell_type": "code",
   "execution_count": null,
   "id": "15201bd5-d7fb-4d8d-afb7-e637db11ef02",
   "metadata": {},
   "outputs": [],
   "source": [
    "#Get Top 5 of our algorithm with filtered ranking using food category and Nutri-Score\n",
    "mostSimilar = word_vectors.most_similar(query_food, topn=100)\n",
    "i = 0\n",
    "for e, sim in mostSimilar:\n",
    "    if e not in food2cat or food2cat[query_food] != food2cat[e]: \n",
    "        continue\n",
    "    if food_2_score[e] >= food_2_score[query_food]:\n",
    "        continue\n",
    "    print(str(e) + ' - ' + str(food_2_score[e]))"
   ]
  }
 ],
 "metadata": {
  "kernelspec": {
   "display_name": "Python 3 (ipykernel)",
   "language": "python",
   "name": "python3"
  },
  "language_info": {
   "codemirror_mode": {
    "name": "ipython",
    "version": 3
   },
   "file_extension": ".py",
   "mimetype": "text/x-python",
   "name": "python",
   "nbconvert_exporter": "python",
   "pygments_lexer": "ipython3",
   "version": "3.8.16"
  }
 },
 "nbformat": 4,
 "nbformat_minor": 5
}
