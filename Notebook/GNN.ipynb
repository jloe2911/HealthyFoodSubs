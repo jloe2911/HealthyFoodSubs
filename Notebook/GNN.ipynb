{
 "cells": [
  {
   "cell_type": "markdown",
   "id": "f995d94f-c3e8-44b2-a18d-40c3eacb4f72",
   "metadata": {},
   "source": [
    "# Libraries"
   ]
  },
  {
   "cell_type": "code",
   "execution_count": 168,
   "id": "6cafaffc-55f3-46d7-b781-f6458f9d8251",
   "metadata": {},
   "outputs": [],
   "source": [
    "import pandas as pd\n",
    "import numpy as np\n",
    "import matplotlib.pyplot as plt\n",
    "\n",
    "import os\n",
    "import re\n",
    "import random\n",
    "import itertools\n",
    "import warnings\n",
    "warnings.simplefilter(\"ignore\")\n",
    "\n",
    "from sklearn import preprocessing\n",
    "\n",
    "import dgl\n",
    "from dgl.data import DGLDataset\n",
    "import dgl.nn as dglnn\n",
    "from dgl.nn import GraphConv, SAGEConv, GATConv\n",
    "import dgl.function as fn\n",
    "\n",
    "import torch\n",
    "import torch.nn as nn\n",
    "import torch.nn.functional as F\n",
    "\n",
    "import pygraphviz as pgv\n",
    "\n",
    "import scipy.sparse as sp"
   ]
  },
  {
   "cell_type": "code",
   "execution_count": 169,
   "id": "8ac8c793-8bf3-43e6-be52-d24bc04ce85f",
   "metadata": {},
   "outputs": [],
   "source": [
    "n_input_feat = 10\n",
    "n_hidden_feat = 20\n",
    "n_output_feat = 10\n",
    "\n",
    "k = 10 # for negative graph: each edge gets k negative examples - 'negative sampling'"
   ]
  },
  {
   "cell_type": "code",
   "execution_count": 170,
   "id": "36ed0806-3812-485d-b115-f962875a474c",
   "metadata": {},
   "outputs": [],
   "source": [
    "vModel = 'GCN'"
   ]
  },
  {
   "cell_type": "code",
   "execution_count": 171,
   "id": "b4ee7a44-c1f5-4c29-9484-220154e4185b",
   "metadata": {},
   "outputs": [],
   "source": [
    "if vModel == 'GCN':\n",
    "    n_epochs = 201\n",
    "elif vModel == 'SAGE':\n",
    "    n_epochs = 601"
   ]
  },
  {
   "cell_type": "markdown",
   "id": "8fdc9cfc-06b6-4a31-b458-8d21d5e04154",
   "metadata": {},
   "source": [
    "# 1) Create DGL Heterograph"
   ]
  },
  {
   "cell_type": "markdown",
   "id": "302f7e86-ed63-4fd2-a706-34a25f36510b",
   "metadata": {},
   "source": [
    "## a. Get KG"
   ]
  },
  {
   "cell_type": "code",
   "execution_count": 172,
   "id": "b9d313aa-a2a4-40d1-ae60-b546930835ef",
   "metadata": {},
   "outputs": [],
   "source": [
    "f = open('../Input Data/statements.nq', 'r')\n",
    "text = f.readlines()"
   ]
  },
  {
   "cell_type": "code",
   "execution_count": 173,
   "id": "84a9e636-4af3-48e1-ad2a-b6850f957009",
   "metadata": {},
   "outputs": [],
   "source": [
    "rows = []\n",
    "for line in text:\n",
    "  split = line.split()\n",
    "  s = split[0]\n",
    "  s = s.replace('<', '')\n",
    "  s = s.replace('>', '')\n",
    "  p = split[1]\n",
    "  p = p.replace('<', '')\n",
    "  p = p.replace('>', '')\n",
    "  o = split[2]\n",
    "  o = o.replace('<', '')\n",
    "  o = o.replace('>', '')\n",
    "  rows.append([s, p, o])"
   ]
  },
  {
   "cell_type": "code",
   "execution_count": 174,
   "id": "8b67afba-ed82-4542-9f90-0dbd98860314",
   "metadata": {},
   "outputs": [
    {
     "data": {
      "text/html": [
       "<div>\n",
       "<style scoped>\n",
       "    .dataframe tbody tr th:only-of-type {\n",
       "        vertical-align: middle;\n",
       "    }\n",
       "\n",
       "    .dataframe tbody tr th {\n",
       "        vertical-align: top;\n",
       "    }\n",
       "\n",
       "    .dataframe thead th {\n",
       "        text-align: right;\n",
       "    }\n",
       "</style>\n",
       "<table border=\"1\" class=\"dataframe\">\n",
       "  <thead>\n",
       "    <tr style=\"text-align: right;\">\n",
       "      <th></th>\n",
       "      <th>subject</th>\n",
       "      <th>predicate</th>\n",
       "      <th>object</th>\n",
       "    </tr>\n",
       "  </thead>\n",
       "  <tbody>\n",
       "    <tr>\n",
       "      <th>0</th>\n",
       "      <td>http://idea.rpi.edu/heals/kb/usda#01003</td>\n",
       "      <td>http://www.w3.org/1999/02/22-rdf-syntax-ns#type</td>\n",
       "      <td>http://idea.rpi.edu/heals/kb/usda</td>\n",
       "    </tr>\n",
       "    <tr>\n",
       "      <th>1</th>\n",
       "      <td>http://idea.rpi.edu/heals/kb/usda#01004</td>\n",
       "      <td>http://www.w3.org/1999/02/22-rdf-syntax-ns#type</td>\n",
       "      <td>http://idea.rpi.edu/heals/kb/usda</td>\n",
       "    </tr>\n",
       "    <tr>\n",
       "      <th>2</th>\n",
       "      <td>http://idea.rpi.edu/heals/kb/usda#01005</td>\n",
       "      <td>http://www.w3.org/1999/02/22-rdf-syntax-ns#type</td>\n",
       "      <td>http://idea.rpi.edu/heals/kb/usda</td>\n",
       "    </tr>\n",
       "    <tr>\n",
       "      <th>3</th>\n",
       "      <td>http://idea.rpi.edu/heals/kb/usda#01006</td>\n",
       "      <td>http://www.w3.org/1999/02/22-rdf-syntax-ns#type</td>\n",
       "      <td>http://idea.rpi.edu/heals/kb/usda</td>\n",
       "    </tr>\n",
       "    <tr>\n",
       "      <th>4</th>\n",
       "      <td>http://idea.rpi.edu/heals/kb/usda#01007</td>\n",
       "      <td>http://www.w3.org/1999/02/22-rdf-syntax-ns#type</td>\n",
       "      <td>http://idea.rpi.edu/heals/kb/usda</td>\n",
       "    </tr>\n",
       "  </tbody>\n",
       "</table>\n",
       "</div>"
      ],
      "text/plain": [
       "                                   subject  \\\n",
       "0  http://idea.rpi.edu/heals/kb/usda#01003   \n",
       "1  http://idea.rpi.edu/heals/kb/usda#01004   \n",
       "2  http://idea.rpi.edu/heals/kb/usda#01005   \n",
       "3  http://idea.rpi.edu/heals/kb/usda#01006   \n",
       "4  http://idea.rpi.edu/heals/kb/usda#01007   \n",
       "\n",
       "                                         predicate  \\\n",
       "0  http://www.w3.org/1999/02/22-rdf-syntax-ns#type   \n",
       "1  http://www.w3.org/1999/02/22-rdf-syntax-ns#type   \n",
       "2  http://www.w3.org/1999/02/22-rdf-syntax-ns#type   \n",
       "3  http://www.w3.org/1999/02/22-rdf-syntax-ns#type   \n",
       "4  http://www.w3.org/1999/02/22-rdf-syntax-ns#type   \n",
       "\n",
       "                              object  \n",
       "0  http://idea.rpi.edu/heals/kb/usda  \n",
       "1  http://idea.rpi.edu/heals/kb/usda  \n",
       "2  http://idea.rpi.edu/heals/kb/usda  \n",
       "3  http://idea.rpi.edu/heals/kb/usda  \n",
       "4  http://idea.rpi.edu/heals/kb/usda  "
      ]
     },
     "execution_count": 174,
     "metadata": {},
     "output_type": "execute_result"
    }
   ],
   "source": [
    "triples = pd.DataFrame(rows, columns=['subject', 'predicate', 'object'])\n",
    "triples.head()"
   ]
  },
  {
   "cell_type": "code",
   "execution_count": 175,
   "id": "35c394ce-ae9a-4f4b-a498-50b91f4fb59c",
   "metadata": {},
   "outputs": [
    {
     "name": "stdout",
     "output_type": "stream",
     "text": [
      "# Triples: 3022948\n"
     ]
    }
   ],
   "source": [
    "print(f'# Triples: {len(triples)}')"
   ]
  },
  {
   "cell_type": "markdown",
   "id": "ef57b8e1-e626-4862-af7a-1e647d39a3b9",
   "metadata": {},
   "source": [
    "## b. Convert KG to pd.DataFrame"
   ]
  },
  {
   "cell_type": "code",
   "execution_count": 176,
   "id": "d1d7f581-6890-4245-894a-ecb3178e8cfa",
   "metadata": {},
   "outputs": [
    {
     "data": {
      "text/plain": [
       "LabelEncoder()"
      ]
     },
     "execution_count": 176,
     "metadata": {},
     "output_type": "execute_result"
    }
   ],
   "source": [
    "all_foods = triples[(triples['subject'].str.startswith('http://idea.rpi.edu/heals/kb/usda#'))]\n",
    "le_food = preprocessing.LabelEncoder()\n",
    "le_food.fit(all_foods['subject'].tolist())"
   ]
  },
  {
   "cell_type": "code",
   "execution_count": 177,
   "id": "133c5765-635c-4980-b2ac-35baf36d1c8c",
   "metadata": {},
   "outputs": [],
   "source": [
    "def map_value_2_id(df, value, name):\n",
    "    le = preprocessing.LabelEncoder()\n",
    "    le.fit(df[value].tolist())\n",
    "    df[name] = le.transform(df[value].tolist())\n",
    "    return df, le"
   ]
  },
  {
   "cell_type": "markdown",
   "id": "86a0ed5a-e351-490b-8f1e-575b7bc302bd",
   "metadata": {},
   "source": [
    "**(Food, containsNutrient, Nutrient)**"
   ]
  },
  {
   "cell_type": "code",
   "execution_count": 178,
   "id": "83d3295d-abbe-4b42-8b45-100fea5b1054",
   "metadata": {},
   "outputs": [],
   "source": [
    "df_food_nutrient = triples[(triples['subject'].str.startswith('http://idea.rpi.edu/heals/kb/usda#')) &\n",
    "                        (triples['predicate'] == 'http://www.w3id.org/foodkg/property#contains') &\n",
    "                        (triples['object'].str.startswith('http://www.w3id.org/foodkg/usda#'))]   \n",
    "\n",
    "df_food_nutrient['source_id'] = le_food.transform(df_food_nutrient['subject'].tolist())\n",
    "df_food_nutrient, le_nutrient = map_value_2_id(df_food_nutrient, 'object', 'destination_id')"
   ]
  },
  {
   "cell_type": "markdown",
   "id": "17a2cc15-87a2-4324-a72a-e9fbde28394b",
   "metadata": {},
   "source": [
    "**(Food, hasTag, Tag)**"
   ]
  },
  {
   "cell_type": "code",
   "execution_count": 179,
   "id": "1663d63e-9a39-4abc-a07f-fc8eeeb05333",
   "metadata": {},
   "outputs": [],
   "source": [
    "df_food_tag = triples[(triples['subject'].str.startswith('http://idea.rpi.edu/heals/kb/usda#')) &\n",
    "                      (triples['predicate'] == 'http://www.w3id.org/foodb/property/hasQuality') &\n",
    "                      (triples['object'].str.startswith('https://w3id.org/foodkg/quality/high_'))]   \n",
    "\n",
    "df_food_tag['source_id'] = le_food.transform(df_food_tag['subject'].tolist())\n",
    "df_food_tag, le_tag = map_value_2_id(df_food_tag, 'object', 'destination_id')"
   ]
  },
  {
   "cell_type": "markdown",
   "id": "417bbcd6-7fb9-4dad-a70c-e1fb2bce57fd",
   "metadata": {},
   "source": [
    "**(Food, isInCategory, Category)**"
   ]
  },
  {
   "cell_type": "code",
   "execution_count": 180,
   "id": "43da95fc-47d3-4fac-99a3-366d4a5a436f",
   "metadata": {},
   "outputs": [],
   "source": [
    "df_food_cat = triples[(triples['subject'].str.startswith('http://idea.rpi.edu/heals/kb/usda#')) &\n",
    "                      (triples['predicate'] == 'http://www.w3id.org/foodb/property/hasCategory') &\n",
    "                      (triples['object'].str.startswith('http://idea.rpi.edu/heals/kb/usda#'))]   \n",
    "\n",
    "df_food_cat['source_id'] = le_food.transform(df_food_cat['subject'].tolist())\n",
    "df_food_cat, le_category = map_value_2_id(df_food_cat, 'object', 'destination_id')"
   ]
  },
  {
   "cell_type": "markdown",
   "id": "717b3fd2-47fe-475a-9340-5c7c415dced2",
   "metadata": {},
   "source": [
    "**(Food, hasFlavor, Flavor)**"
   ]
  },
  {
   "cell_type": "code",
   "execution_count": 181,
   "id": "98c5db03-6a0a-44b5-b831-4bdce4ec5ca0",
   "metadata": {},
   "outputs": [],
   "source": [
    "df_food_flavor = triples[(triples['subject'].str.startswith('http://idea.rpi.edu/heals/kb/usda#')) &\n",
    "                      (triples['predicate'] == 'http://www.w3id.org/foodb/property/hasFlavor') &\n",
    "                      (triples['object'].str.startswith('https://w3id.org/foodkg/flavor/'))]   \n",
    "\n",
    "df_food_flavor['source_id'] = le_food.transform(df_food_flavor['subject'].tolist())\n",
    "df_food_flavor, le_flavor = map_value_2_id(df_food_flavor, 'object', 'destination_id')"
   ]
  },
  {
   "cell_type": "markdown",
   "id": "6ecd3f25-ead1-4994-9b42-d47085ed4899",
   "metadata": {},
   "source": [
    "**(Product, containsIngredient, Ingredient)**"
   ]
  },
  {
   "cell_type": "code",
   "execution_count": 182,
   "id": "d321e711-ead0-410c-9086-65d2a63e0235",
   "metadata": {},
   "outputs": [],
   "source": [
    "df_product_ingredient = triples[(triples['subject'].str.startswith('https://w3id.org/um/ken4256/product/')) &\n",
    "                       (triples['predicate'] == 'https://www.bbc.co.uk/ontologies/fo/ingredients') &\n",
    "                       (triples['object'].str.startswith('https://w3id.org/um/ken4256/ingredient/'))]   \n",
    "\n",
    "df_product_ingredient, le_product = map_value_2_id(df_product_ingredient, 'subject', 'source_id')\n",
    "df_product_ingredient, le_ingredient = map_value_2_id(df_product_ingredient, 'object', 'destination_id')"
   ]
  },
  {
   "cell_type": "markdown",
   "id": "41609e16-3e9d-42ab-b0e3-5812f405d3ef",
   "metadata": {},
   "source": [
    "**(Food, isSimilarTo, Ingredient) - (Ingredient, isSimilarTo, Food)**"
   ]
  },
  {
   "cell_type": "code",
   "execution_count": 183,
   "id": "ac5b132e-ed2a-45af-a60f-4ee81aeb7589",
   "metadata": {},
   "outputs": [],
   "source": [
    "df_food_ingredient = triples[(triples['subject'].str.startswith('http://idea.rpi.edu/heals/kb/usda#')) &\n",
    "                      (triples['predicate'] == 'https://schema.org/isSimilarTo') &\n",
    "                      (triples['object'].str.startswith('https://w3id.org/um/ken4256/ingredient/'))]   \n",
    "\n",
    "df_food_ingredient['source_id'] = le_food.transform(df_food_ingredient['subject'].tolist())\n",
    "df_food_ingredient['destination_id'] = le_ingredient.transform(df_food_ingredient['object'].tolist())"
   ]
  },
  {
   "cell_type": "markdown",
   "id": "46d96d22-97af-4444-8b58-d6537497ec8e",
   "metadata": {},
   "source": [
    "## c. Get Ground Truth and convert to pd.DataFrame"
   ]
  },
  {
   "cell_type": "markdown",
   "id": "acba7290-8f26-418d-a9e4-9fc4224df941",
   "metadata": {},
   "source": [
    "**(Food, isSubstitutedBy, Food Subs) - (Food Subs, canSubstitute, Food)**"
   ]
  },
  {
   "cell_type": "code",
   "execution_count": 184,
   "id": "96a86a5c-5b85-4fa2-899e-c3bbd496b9f2",
   "metadata": {},
   "outputs": [],
   "source": [
    "df_food_subs = pd.read_csv('../Input Data/final_substitution.csv', sep=';')\n",
    "\n",
    "df_food_subs['source_id'] = le_food.transform(df_food_subs['Food id'].tolist())\n",
    "df_food_subs['destination_id'] = le_food.transform(df_food_subs['Substitution id'].tolist())"
   ]
  },
  {
   "cell_type": "markdown",
   "id": "898012d4-6b63-4699-b7bc-12c1539fb39d",
   "metadata": {},
   "source": [
    "## d. Create DGL HeteroGraph"
   ]
  },
  {
   "cell_type": "code",
   "execution_count": 185,
   "id": "3b9461fa-f336-430c-b422-aee54e86e24f",
   "metadata": {},
   "outputs": [],
   "source": [
    "g = dgl.heterograph({('Food', 'isSubstitutedBy', 'Food'): (torch.tensor(df_food_subs['source_id'].tolist()), torch.tensor(df_food_subs['destination_id'].tolist())),\n",
    "                     ('Food', 'substitutes', 'Food'): (torch.tensor(df_food_subs['destination_id'].tolist()), torch.tensor(df_food_subs['source_id'].tolist())),\n",
    "                     ('Food', 'containsNutrient', 'Nutrient'): (torch.tensor(df_food_nutrient['source_id'].tolist()), torch.tensor(df_food_nutrient['destination_id'].tolist())),\n",
    "                     ('Food', 'hasTag', 'Tag'): (torch.tensor(df_food_tag['source_id'].tolist()), torch.tensor(df_food_tag['destination_id'].tolist())),\n",
    "                     ('Food', 'isInCategory', 'Category'): (torch.tensor(df_food_cat['source_id'].tolist()), torch.tensor(df_food_cat['destination_id'].tolist())),\n",
    "                     ('Food', 'hasFlavor', 'Flavor'): (torch.tensor(df_food_flavor['source_id'].tolist()), torch.tensor(df_food_flavor['destination_id'].tolist())),\n",
    "                     ('Product', 'containsIngredient', 'Ingredient'): (torch.tensor(df_product_ingredient['source_id'].tolist()), torch.tensor(df_product_ingredient['destination_id'].tolist())),\n",
    "                     ('Food', 'sameAs', 'Ingredient'): (torch.tensor(df_food_ingredient['source_id'].tolist()), torch.tensor(df_food_ingredient['destination_id'].tolist())),\n",
    "                     ('Ingredient', 'sameAs', 'Food'): (torch.tensor(df_food_ingredient['destination_id'].tolist()), torch.tensor(df_food_ingredient['source_id'].tolist()))\n",
    "                    })"
   ]
  },
  {
   "cell_type": "code",
   "execution_count": 186,
   "id": "29cf0e31-bf3a-40e1-9487-f0c61414637b",
   "metadata": {},
   "outputs": [],
   "source": [
    "for node in g.ntypes:\n",
    "    g.nodes[node].data['h'] = torch.randn(g.number_of_nodes(node), n_input_feat)"
   ]
  },
  {
   "cell_type": "code",
   "execution_count": 187,
   "id": "4caae201-0069-4efa-9c18-49a1045da961",
   "metadata": {},
   "outputs": [
    {
     "data": {
      "text/plain": [
       "Graph(num_nodes={'Category': 13, 'Flavor': 272, 'Food': 9372, 'Ingredient': 125130, 'Nutrient': 63883, 'Product': 71777, 'Tag': 25},\n",
       "      num_edges={('Food', 'containsNutrient', 'Nutrient'): 300523, ('Food', 'hasFlavor', 'Flavor'): 11167, ('Food', 'hasTag', 'Tag'): 17746, ('Food', 'isInCategory', 'Category'): 1667, ('Food', 'isSubstitutedBy', 'Food'): 1841, ('Food', 'sameAs', 'Ingredient'): 681, ('Food', 'substitutes', 'Food'): 1841, ('Ingredient', 'sameAs', 'Food'): 681, ('Product', 'containsIngredient', 'Ingredient'): 890789},\n",
       "      metagraph=[('Food', 'Nutrient', 'containsNutrient'), ('Food', 'Flavor', 'hasFlavor'), ('Food', 'Tag', 'hasTag'), ('Food', 'Category', 'isInCategory'), ('Food', 'Food', 'isSubstitutedBy'), ('Food', 'Food', 'substitutes'), ('Food', 'Ingredient', 'sameAs'), ('Ingredient', 'Food', 'sameAs'), ('Product', 'Ingredient', 'containsIngredient')])"
      ]
     },
     "execution_count": 187,
     "metadata": {},
     "output_type": "execute_result"
    }
   ],
   "source": [
    "g"
   ]
  },
  {
   "cell_type": "code",
   "execution_count": 188,
   "id": "77bd642d-c74c-4ca7-b184-7c459f3a909b",
   "metadata": {},
   "outputs": [
    {
     "data": {
      "text/plain": [
       "9372"
      ]
     },
     "execution_count": 188,
     "metadata": {},
     "output_type": "execute_result"
    }
   ],
   "source": [
    "g.number_of_nodes('Food')"
   ]
  },
  {
   "cell_type": "code",
   "execution_count": 189,
   "id": "5cce9868-fb77-4eb8-a8a2-2779d972c21e",
   "metadata": {},
   "outputs": [
    {
     "data": {
      "text/plain": [
       "1841"
      ]
     },
     "execution_count": 189,
     "metadata": {},
     "output_type": "execute_result"
    }
   ],
   "source": [
    "g.number_of_edges('isSubstitutedBy')"
   ]
  },
  {
   "cell_type": "code",
   "execution_count": 190,
   "id": "add8df6c-269b-4ac2-afac-3303397f8c83",
   "metadata": {},
   "outputs": [
    {
     "data": {
      "text/plain": [
       "['Category', 'Flavor', 'Food', 'Ingredient', 'Nutrient', 'Product', 'Tag']"
      ]
     },
     "execution_count": 190,
     "metadata": {},
     "output_type": "execute_result"
    }
   ],
   "source": [
    "g.ntypes"
   ]
  },
  {
   "cell_type": "code",
   "execution_count": 191,
   "id": "19feda11-4e5f-42eb-a890-1e779e1f42ed",
   "metadata": {},
   "outputs": [
    {
     "data": {
      "text/plain": [
       "['containsNutrient',\n",
       " 'hasFlavor',\n",
       " 'hasTag',\n",
       " 'isInCategory',\n",
       " 'isSubstitutedBy',\n",
       " 'sameAs',\n",
       " 'substitutes',\n",
       " 'sameAs',\n",
       " 'containsIngredient']"
      ]
     },
     "execution_count": 191,
     "metadata": {},
     "output_type": "execute_result"
    }
   ],
   "source": [
    "g.etypes"
   ]
  },
  {
   "cell_type": "code",
   "execution_count": 192,
   "id": "86fca147-2bf4-442b-bf94-5cbb4131c971",
   "metadata": {},
   "outputs": [
    {
     "data": {
      "text/plain": [
       "[('Food', 'containsNutrient', 'Nutrient'),\n",
       " ('Food', 'hasFlavor', 'Flavor'),\n",
       " ('Food', 'hasTag', 'Tag'),\n",
       " ('Food', 'isInCategory', 'Category'),\n",
       " ('Food', 'isSubstitutedBy', 'Food'),\n",
       " ('Food', 'sameAs', 'Ingredient'),\n",
       " ('Food', 'substitutes', 'Food'),\n",
       " ('Ingredient', 'sameAs', 'Food'),\n",
       " ('Product', 'containsIngredient', 'Ingredient')]"
      ]
     },
     "execution_count": 192,
     "metadata": {},
     "output_type": "execute_result"
    }
   ],
   "source": [
    "g.canonical_etypes"
   ]
  },
  {
   "cell_type": "code",
   "execution_count": 193,
   "id": "fcf5147f-da31-481b-829c-244bc1fcebfd",
   "metadata": {},
   "outputs": [],
   "source": [
    "def plot_graph(nxg):\n",
    "    ag = pgv.AGraph(strict = False, directed = True)\n",
    "    for u, v, k in nxg.edges(keys=True):\n",
    "        ag.add_edge(u, v, label=k)\n",
    "    ag.layout('dot')\n",
    "    ag.draw('../Output/graph.png')"
   ]
  },
  {
   "cell_type": "code",
   "execution_count": 194,
   "id": "bf903a6f-d4c0-40a2-9398-650b96ab7c88",
   "metadata": {},
   "outputs": [],
   "source": [
    "plot_graph(g.metagraph())"
   ]
  },
  {
   "cell_type": "markdown",
   "id": "e0fb56a6-4dc9-4589-a64d-603b77a73358",
   "metadata": {},
   "source": [
    "## e. Split into train and test sets"
   ]
  },
  {
   "cell_type": "code",
   "execution_count": 195,
   "id": "53531a3a-6673-4164-9a89-4ae3ad788053",
   "metadata": {},
   "outputs": [],
   "source": [
    "#randomly generate training masks on 'isSubstitutedBy' edges\n",
    "g.edges['isSubstitutedBy'].data['train_mask'] = torch.zeros(g.number_of_edges('isSubstitutedBy'), dtype=torch.bool).bernoulli(0.75)"
   ]
  },
  {
   "cell_type": "code",
   "execution_count": 196,
   "id": "dfaf63f1-23ff-4e6a-9f15-ac1969481dd5",
   "metadata": {},
   "outputs": [
    {
     "data": {
      "text/plain": [
       "EdgeSpace(data={'train_mask': tensor([True, True, True,  ..., True, True, True])})"
      ]
     },
     "execution_count": 196,
     "metadata": {},
     "output_type": "execute_result"
    }
   ],
   "source": [
    "g.edges['isSubstitutedBy']"
   ]
  },
  {
   "cell_type": "code",
   "execution_count": 197,
   "id": "4c04a91e-49ec-460a-abeb-ff4ad70dec32",
   "metadata": {},
   "outputs": [],
   "source": [
    "train_eid_dict = {'eid_2_train': (g.edges['isSubstitutedBy'].data['train_mask'] == True).nonzero(as_tuple=True)[0]}\n",
    "test_eid_dict = {'eid_2_test': (g.edges['isSubstitutedBy'].data['train_mask'] == False).nonzero(as_tuple=True)[0]}"
   ]
  },
  {
   "cell_type": "code",
   "execution_count": 198,
   "id": "9dea1379-44e0-481b-adc3-79fb25eb379f",
   "metadata": {},
   "outputs": [
    {
     "data": {
      "text/plain": [
       "tensor([   0,    1,    2,  ..., 1838, 1839, 1840])"
      ]
     },
     "execution_count": 198,
     "metadata": {},
     "output_type": "execute_result"
    }
   ],
   "source": [
    "train_eid_dict['eid_2_train']"
   ]
  },
  {
   "cell_type": "code",
   "execution_count": 199,
   "id": "b28feee7-88ac-438a-820a-2e4f5ca0229d",
   "metadata": {},
   "outputs": [
    {
     "data": {
      "text/plain": [
       "tensor([  11,   18,   19,   24,   25,   33,   34,   35,   36,   37,   40,   41,\n",
       "          42,   46,   60,   61,   62,   65,   67,   68,   71,   72,   74,   77,\n",
       "          79,   80,   88,   96,   99,  103,  104,  106,  107,  117,  128,  130,\n",
       "         139,  142,  143,  145,  146,  147,  151,  152,  158,  161,  169,  173,\n",
       "         174,  176,  180,  185,  187,  199,  210,  215,  226,  228,  235,  238,\n",
       "         241,  243,  253,  254,  258,  259,  260,  262,  269,  275,  285,  286,\n",
       "         290,  294,  302,  305,  306,  311,  314,  316,  317,  318,  322,  323,\n",
       "         325,  329,  332,  335,  337,  342,  349,  353,  355,  357,  358,  361,\n",
       "         362,  365,  368,  370,  373,  374,  377,  380,  386,  387,  388,  391,\n",
       "         394,  396,  398,  403,  405,  410,  412,  413,  414,  416,  418,  419,\n",
       "         420,  429,  430,  432,  436,  445,  446,  451,  453,  454,  455,  456,\n",
       "         461,  465,  466,  470,  474,  476,  481,  482,  485,  486,  488,  490,\n",
       "         493,  501,  503,  507,  513,  514,  515,  524,  542,  545,  547,  554,\n",
       "         558,  560,  565,  568,  577,  582,  584,  589,  594,  595,  603,  608,\n",
       "         610,  613,  619,  629,  631,  632,  633,  654,  656,  661,  664,  666,\n",
       "         669,  676,  679,  683,  687,  694,  698,  700,  704,  714,  715,  716,\n",
       "         719,  722,  723,  728,  736,  738,  739,  742,  745,  746,  752,  753,\n",
       "         757,  760,  761,  762,  778,  791,  796,  800,  812,  814,  823,  825,\n",
       "         829,  835,  843,  848,  852,  853,  875,  879,  880,  886,  890,  892,\n",
       "         898,  903,  923,  927,  931,  932,  936,  937,  940,  943,  944,  952,\n",
       "         953,  955,  963,  973,  983,  984,  986,  988,  989,  997, 1005, 1009,\n",
       "        1023, 1029, 1034, 1035, 1038, 1040, 1041, 1047, 1049, 1056, 1057, 1067,\n",
       "        1069, 1074, 1075, 1081, 1082, 1086, 1091, 1092, 1095, 1096, 1102, 1112,\n",
       "        1115, 1123, 1133, 1144, 1147, 1148, 1150, 1153, 1155, 1157, 1158, 1161,\n",
       "        1168, 1170, 1173, 1182, 1183, 1184, 1193, 1202, 1203, 1220, 1227, 1230,\n",
       "        1233, 1237, 1238, 1240, 1243, 1244, 1256, 1259, 1265, 1269, 1270, 1274,\n",
       "        1276, 1280, 1284, 1287, 1291, 1295, 1297, 1298, 1302, 1310, 1315, 1317,\n",
       "        1326, 1335, 1338, 1339, 1342, 1349, 1366, 1368, 1369, 1371, 1377, 1378,\n",
       "        1381, 1382, 1390, 1391, 1392, 1397, 1411, 1418, 1419, 1421, 1427, 1436,\n",
       "        1437, 1440, 1461, 1468, 1472, 1474, 1477, 1480, 1482, 1483, 1487, 1490,\n",
       "        1493, 1495, 1497, 1501, 1504, 1505, 1513, 1518, 1523, 1527, 1528, 1529,\n",
       "        1531, 1533, 1535, 1540, 1541, 1549, 1558, 1561, 1563, 1566, 1574, 1576,\n",
       "        1577, 1582, 1585, 1594, 1603, 1606, 1607, 1608, 1612, 1613, 1618, 1629,\n",
       "        1631, 1632, 1633, 1643, 1646, 1659, 1668, 1669, 1670, 1672, 1679, 1680,\n",
       "        1682, 1690, 1698, 1702, 1703, 1704, 1708, 1712, 1717, 1718, 1719, 1721,\n",
       "        1724, 1725, 1730, 1731, 1732, 1736, 1738, 1741, 1763, 1764, 1776, 1777,\n",
       "        1789, 1791, 1794, 1795, 1797, 1798, 1799, 1803, 1805, 1811, 1812, 1813,\n",
       "        1814, 1816, 1817, 1821, 1826, 1828])"
      ]
     },
     "execution_count": 199,
     "metadata": {},
     "output_type": "execute_result"
    }
   ],
   "source": [
    "test_eid_dict['eid_2_test']"
   ]
  },
  {
   "cell_type": "code",
   "execution_count": 200,
   "id": "18dc5349-ce9d-4143-8630-978b9d526653",
   "metadata": {},
   "outputs": [
    {
     "data": {
      "text/plain": [
       "1841"
      ]
     },
     "execution_count": 200,
     "metadata": {},
     "output_type": "execute_result"
    }
   ],
   "source": [
    "g.number_of_edges('isSubstitutedBy')"
   ]
  },
  {
   "cell_type": "code",
   "execution_count": 201,
   "id": "00985850-6486-4934-bf1b-b9690640af42",
   "metadata": {},
   "outputs": [
    {
     "data": {
      "text/plain": [
       "1391"
      ]
     },
     "execution_count": 201,
     "metadata": {},
     "output_type": "execute_result"
    }
   ],
   "source": [
    "len(train_eid_dict['eid_2_train'])"
   ]
  },
  {
   "cell_type": "code",
   "execution_count": 202,
   "id": "afdc74d6-ad81-47a9-af82-a802d98317b4",
   "metadata": {},
   "outputs": [
    {
     "data": {
      "text/plain": [
       "450"
      ]
     },
     "execution_count": 202,
     "metadata": {},
     "output_type": "execute_result"
    }
   ],
   "source": [
    "len(test_eid_dict['eid_2_test'])"
   ]
  },
  {
   "cell_type": "code",
   "execution_count": 203,
   "id": "6f52050f-c380-44ef-858a-f406d692d896",
   "metadata": {},
   "outputs": [],
   "source": [
    "g_train = dgl.remove_edges(g, test_eid_dict['eid_2_test'], 'isSubstitutedBy')\n",
    "g_train = dgl.remove_edges(g_train, test_eid_dict['eid_2_test'], 'substitutes')"
   ]
  },
  {
   "cell_type": "code",
   "execution_count": 204,
   "id": "227bbce9-9c45-4177-9027-f1b6c27d1422",
   "metadata": {},
   "outputs": [
    {
     "data": {
      "text/plain": [
       "Graph(num_nodes={'Category': 13, 'Flavor': 272, 'Food': 9372, 'Ingredient': 125130, 'Nutrient': 63883, 'Product': 71777, 'Tag': 25},\n",
       "      num_edges={('Food', 'containsNutrient', 'Nutrient'): 300523, ('Food', 'hasFlavor', 'Flavor'): 11167, ('Food', 'hasTag', 'Tag'): 17746, ('Food', 'isInCategory', 'Category'): 1667, ('Food', 'isSubstitutedBy', 'Food'): 1391, ('Food', 'sameAs', 'Ingredient'): 681, ('Food', 'substitutes', 'Food'): 1391, ('Ingredient', 'sameAs', 'Food'): 681, ('Product', 'containsIngredient', 'Ingredient'): 890789},\n",
       "      metagraph=[('Food', 'Nutrient', 'containsNutrient'), ('Food', 'Flavor', 'hasFlavor'), ('Food', 'Tag', 'hasTag'), ('Food', 'Category', 'isInCategory'), ('Food', 'Food', 'isSubstitutedBy'), ('Food', 'Food', 'substitutes'), ('Food', 'Ingredient', 'sameAs'), ('Ingredient', 'Food', 'sameAs'), ('Product', 'Ingredient', 'containsIngredient')])"
      ]
     },
     "execution_count": 204,
     "metadata": {},
     "output_type": "execute_result"
    }
   ],
   "source": [
    "g_train"
   ]
  },
  {
   "cell_type": "code",
   "execution_count": 205,
   "id": "6252c58e-537a-42ee-9453-a21c49cd7afe",
   "metadata": {},
   "outputs": [
    {
     "data": {
      "text/plain": [
       "1391"
      ]
     },
     "execution_count": 205,
     "metadata": {},
     "output_type": "execute_result"
    }
   ],
   "source": [
    "g_train.number_of_edges('isSubstitutedBy')"
   ]
  },
  {
   "cell_type": "code",
   "execution_count": 206,
   "id": "be8b0e95-9187-45a8-8fd4-e1bfc87e6cc2",
   "metadata": {},
   "outputs": [
    {
     "data": {
      "text/plain": [
       "1391"
      ]
     },
     "execution_count": 206,
     "metadata": {},
     "output_type": "execute_result"
    }
   ],
   "source": [
    "g_train.number_of_edges('substitutes')"
   ]
  },
  {
   "cell_type": "code",
   "execution_count": 207,
   "id": "cdbd8447-91b6-4bb6-9b0c-b495059888ba",
   "metadata": {},
   "outputs": [],
   "source": [
    "g_test = dgl.remove_edges(g, train_eid_dict['eid_2_train'], 'isSubstitutedBy')\n",
    "g_test = dgl.remove_edges(g_test, train_eid_dict['eid_2_train'], 'substitutes')"
   ]
  },
  {
   "cell_type": "code",
   "execution_count": 208,
   "id": "77a5ba3e-9e79-410c-8c62-68b4df44d10c",
   "metadata": {},
   "outputs": [
    {
     "data": {
      "text/plain": [
       "Graph(num_nodes={'Category': 13, 'Flavor': 272, 'Food': 9372, 'Ingredient': 125130, 'Nutrient': 63883, 'Product': 71777, 'Tag': 25},\n",
       "      num_edges={('Food', 'containsNutrient', 'Nutrient'): 300523, ('Food', 'hasFlavor', 'Flavor'): 11167, ('Food', 'hasTag', 'Tag'): 17746, ('Food', 'isInCategory', 'Category'): 1667, ('Food', 'isSubstitutedBy', 'Food'): 450, ('Food', 'sameAs', 'Ingredient'): 681, ('Food', 'substitutes', 'Food'): 450, ('Ingredient', 'sameAs', 'Food'): 681, ('Product', 'containsIngredient', 'Ingredient'): 890789},\n",
       "      metagraph=[('Food', 'Nutrient', 'containsNutrient'), ('Food', 'Flavor', 'hasFlavor'), ('Food', 'Tag', 'hasTag'), ('Food', 'Category', 'isInCategory'), ('Food', 'Food', 'isSubstitutedBy'), ('Food', 'Food', 'substitutes'), ('Food', 'Ingredient', 'sameAs'), ('Ingredient', 'Food', 'sameAs'), ('Product', 'Ingredient', 'containsIngredient')])"
      ]
     },
     "execution_count": 208,
     "metadata": {},
     "output_type": "execute_result"
    }
   ],
   "source": [
    "g_test"
   ]
  },
  {
   "cell_type": "code",
   "execution_count": 209,
   "id": "0e37dd32-fbef-4357-a6ca-69221758d4cf",
   "metadata": {},
   "outputs": [
    {
     "data": {
      "text/plain": [
       "450"
      ]
     },
     "execution_count": 209,
     "metadata": {},
     "output_type": "execute_result"
    }
   ],
   "source": [
    "g_test.number_of_edges('isSubstitutedBy')"
   ]
  },
  {
   "cell_type": "code",
   "execution_count": 210,
   "id": "4b3e18c8-346a-4d2f-85e1-1ba72eafe866",
   "metadata": {},
   "outputs": [
    {
     "data": {
      "text/plain": [
       "450"
      ]
     },
     "execution_count": 210,
     "metadata": {},
     "output_type": "execute_result"
    }
   ],
   "source": [
    "g_test.number_of_edges('substitutes')"
   ]
  },
  {
   "cell_type": "markdown",
   "id": "b3d43774-c053-4a0b-bf5c-073a33a725fa",
   "metadata": {},
   "source": [
    "# 2) Train Model"
   ]
  },
  {
   "cell_type": "markdown",
   "id": "d7ffae4e-d9ce-4344-aa34-8f180e337bff",
   "metadata": {},
   "source": [
    "**Hetero-GCN**"
   ]
  },
  {
   "cell_type": "code",
   "execution_count": 211,
   "id": "687d8d44-eed7-4b3d-8dbc-c95021b4d8a4",
   "metadata": {},
   "outputs": [],
   "source": [
    "class HGCN(nn.Module):\n",
    "    def __init__(self, in_feats, hid_feats, out_feats, rel_names):\n",
    "        super().__init__()\n",
    "\n",
    "        self.conv1 = dglnn.HeteroGraphConv({\n",
    "            rel: dglnn.GraphConv(in_feats, hid_feats)\n",
    "            for rel in rel_names}, aggregate='sum')\n",
    "        self.conv2 = dglnn.HeteroGraphConv({\n",
    "            rel: dglnn.GraphConv(hid_feats, out_feats)\n",
    "            for rel in rel_names}, aggregate='sum')\n",
    "\n",
    "    def forward(self, graph, inputs):\n",
    "        # inputs are features/embeddings of nodes\n",
    "        h = self.conv1(graph, inputs)\n",
    "        h = {k: F.relu(v) for k, v in h.items()}\n",
    "        h = self.conv2(graph, h)\n",
    "        return h"
   ]
  },
  {
   "cell_type": "code",
   "execution_count": 212,
   "id": "76f58ff6-d1af-46af-993e-eeeeb47dd6d0",
   "metadata": {},
   "outputs": [],
   "source": [
    "class ModelHGCN(nn.Module):\n",
    "    def __init__(self, in_features, hidden_features, out_features, rel_names):\n",
    "        super().__init__()\n",
    "        self.sage = HGCN(in_features, hidden_features, out_features, rel_names)\n",
    "        self.pred = HeteroDotProductPredictor()\n",
    "    def forward(self, g, neg_g, x, etype):\n",
    "        h = self.sage(g, x)\n",
    "        return h, self.pred(g, h, etype), self.pred(neg_g, h, etype)"
   ]
  },
  {
   "cell_type": "markdown",
   "id": "6dc99578-fb56-4930-a1f4-1d1f26cda4a2",
   "metadata": {},
   "source": [
    "**Hetero-SAGE**"
   ]
  },
  {
   "cell_type": "code",
   "execution_count": 213,
   "id": "e8c59fd5-9758-45fc-86b1-d14b8ed50f05",
   "metadata": {},
   "outputs": [],
   "source": [
    "class HSAGE(nn.Module):\n",
    "    def __init__(self, in_feats, hid_feats, out_feats, rel_names):\n",
    "        super().__init__()\n",
    "\n",
    "        self.conv1 = dglnn.HeteroGraphConv({\n",
    "            rel: dglnn.SAGEConv(in_feats, hid_feats, 'mean')\n",
    "            for rel in rel_names}, aggregate='sum')\n",
    "        self.conv2 = dglnn.HeteroGraphConv({\n",
    "            rel: dglnn.SAGEConv(hid_feats, out_feats, 'mean')\n",
    "            for rel in rel_names}, aggregate='sum')\n",
    "\n",
    "    def forward(self, graph, inputs):\n",
    "        # inputs are features/embeddings of nodes\n",
    "        h = self.conv1(graph, inputs)\n",
    "        h = {k: F.relu(v) for k, v in h.items()}\n",
    "        h = self.conv2(graph, h)\n",
    "        return h"
   ]
  },
  {
   "cell_type": "code",
   "execution_count": 214,
   "id": "70281c65-4574-420b-a2f9-3dee4c16cfde",
   "metadata": {},
   "outputs": [],
   "source": [
    "class ModelHSAGE(nn.Module):\n",
    "    def __init__(self, in_features, hidden_features, out_features, rel_names):\n",
    "        super().__init__()\n",
    "        self.sage = HSAGE(in_features, hidden_features, out_features, rel_names)\n",
    "        self.pred = HeteroDotProductPredictor()\n",
    "    def forward(self, g, neg_g, x, etype):\n",
    "        h = self.sage(g, x)\n",
    "        return h, self.pred(g, h, etype), self.pred(neg_g, h, etype)"
   ]
  },
  {
   "cell_type": "code",
   "execution_count": 215,
   "id": "3781703d-d734-4832-ad92-3e8cb1b40b73",
   "metadata": {},
   "outputs": [],
   "source": [
    "def construct_negative_graph(graph, k, etype):\n",
    "    utype, _, vtype = etype\n",
    "    src, dst = graph.edges(etype=etype)\n",
    "    neg_src = src.repeat_interleave(k)\n",
    "    neg_dst = torch.randint(0, graph.number_of_nodes(vtype), (len(src) * k,))\n",
    "    return neg_src, neg_dst, dgl.heterograph({etype: (neg_src, neg_dst)}, num_nodes_dict={ntype: graph.number_of_nodes(ntype) for ntype in graph.ntypes})"
   ]
  },
  {
   "cell_type": "code",
   "execution_count": 216,
   "id": "96af9668-5b5f-429b-83b9-e50f80c047de",
   "metadata": {},
   "outputs": [],
   "source": [
    "class HeteroDotProductPredictor(nn.Module):\n",
    "    def forward(self, graph, h, etype):\n",
    "        with graph.local_scope():\n",
    "            graph.ndata['h'] = h\n",
    "            graph.apply_edges(fn.u_dot_v('h', 'h', 'score'), etype=etype)\n",
    "            return graph.edges[etype].data['score']"
   ]
  },
  {
   "cell_type": "code",
   "execution_count": 217,
   "id": "20aa34ae-8bbe-49cb-a8b3-0be06d291900",
   "metadata": {},
   "outputs": [],
   "source": [
    "def compute_loss(pos_score, neg_score):\n",
    "    n_edges = pos_score.shape[0]\n",
    "    return (1 - neg_score.view(n_edges, -1) + pos_score.unsqueeze(1)).clamp(min=0).mean()"
   ]
  },
  {
   "cell_type": "code",
   "execution_count": 218,
   "id": "ae42ffb9-2d2c-4954-892e-f391dd88cacb",
   "metadata": {},
   "outputs": [],
   "source": [
    "node_features = {}\n",
    "for node in g.ntypes:\n",
    "    node_features[node] = g.nodes[node].data['h'] "
   ]
  },
  {
   "cell_type": "code",
   "execution_count": 219,
   "id": "4cf572ab-8de5-47c2-8e62-1d1d43725500",
   "metadata": {},
   "outputs": [
    {
     "name": "stdout",
     "output_type": "stream",
     "text": [
      "In epoch 0, loss = 5.2723\n",
      "In epoch 100, loss = 0.8152\n",
      "In epoch 200, loss = 0.4927\n"
     ]
    }
   ],
   "source": [
    "if vModel == 'GCN':\n",
    "    model = ModelHGCN(n_input_feat, n_hidden_feat, n_output_feat, g.etypes)\n",
    "elif vModel == 'SAGE':\n",
    "    model = ModelHSAGE(n_input_feat, n_hidden_feat, n_output_feat, g.etypes)\n",
    "\n",
    "opt = torch.optim.Adam(model.parameters())\n",
    "for epoch in range(n_epochs):\n",
    "    \n",
    "    #forward\n",
    "    neg_src_train, neg_dst_train, negative_graph_train = construct_negative_graph(g_train, k, ('Food', 'isSubstitutedBy', 'Food'))\n",
    "    h_train, pos_score_train, neg_score_train = model(g_train, negative_graph_train, node_features, ('Food', 'isSubstitutedBy', 'Food'))\n",
    "    \n",
    "    #loss\n",
    "    loss = compute_loss(pos_score_train, neg_score_train)\n",
    "    \n",
    "    #backward\n",
    "    opt.zero_grad()\n",
    "    loss.backward()\n",
    "    opt.step()\n",
    "    \n",
    "    if epoch % 100 == 0:\n",
    "        print(f'In epoch {epoch}, loss = {loss.item():.4f}')"
   ]
  },
  {
   "cell_type": "markdown",
   "id": "eaf3d27b-9de4-4602-812b-9475123e23e3",
   "metadata": {},
   "source": [
    "# 3) Evaluate Model (based on positive edges that are in the test set)"
   ]
  },
  {
   "cell_type": "markdown",
   "id": "1ef8f625-477e-4045-8bb8-160a8b614351",
   "metadata": {},
   "source": [
    "https://github.com/dglai/WWW20-Hands-on-Tutorial/blob/master/basic_tasks/3_link_predict.ipynb"
   ]
  },
  {
   "cell_type": "code",
   "execution_count": 220,
   "id": "033770b1-4915-4673-b4a5-edf125d49023",
   "metadata": {},
   "outputs": [],
   "source": [
    "with torch.no_grad():\n",
    "    model.eval()\n",
    "    neg_src_test, neg_dst_test, negative_graph_test = construct_negative_graph(g_test, k, ('Food', 'isSubstitutedBy', 'Food'))\n",
    "    h_test, pos_score_test, neg_score_test = model(g_test, negative_graph_test, node_features, ('Food', 'isSubstitutedBy', 'Food'))\n",
    "    loss = compute_loss(pos_score_test, neg_score_test)"
   ]
  },
  {
   "cell_type": "code",
   "execution_count": 221,
   "id": "b76c6ac1-c025-48f5-adff-662c75470ca7",
   "metadata": {},
   "outputs": [],
   "source": [
    "# get postive test edges\n",
    "test_pos_u, test_pos_v = g_test['isSubstitutedBy'].edges()"
   ]
  },
  {
   "cell_type": "code",
   "execution_count": 222,
   "id": "8db7588e-84fb-4a93-95b1-5d2dbdbc7025",
   "metadata": {},
   "outputs": [],
   "source": [
    "# get predictions\n",
    "predictions_pos = torch.as_tensor(pos_score_test.reshape(pos_score_test.shape[0]))\n",
    "predictions_pos = torch.sigmoid(predictions_pos)"
   ]
  },
  {
   "cell_type": "code",
   "execution_count": 223,
   "id": "516b34e0-b957-4f3f-8172-11fff4d3ae75",
   "metadata": {},
   "outputs": [],
   "source": [
    "# get y_pred\n",
    "y_pred_pos = []\n",
    "for pred in predictions_pos:\n",
    "    if pred >= 0.5:\n",
    "        y_pred_pos.append(1)\n",
    "    else:\n",
    "        y_pred_pos.append(0)"
   ]
  },
  {
   "cell_type": "code",
   "execution_count": 224,
   "id": "c0ec3e02-4dcb-459c-a2fa-8ac00a5fac24",
   "metadata": {},
   "outputs": [],
   "source": [
    "# get y_true \n",
    "y_true_pos = torch.ones(len(pos_score_test))"
   ]
  },
  {
   "cell_type": "code",
   "execution_count": 225,
   "id": "36bd7740-41ea-492e-b7b0-dee08ff1d144",
   "metadata": {},
   "outputs": [],
   "source": [
    "from sklearn.metrics import accuracy_score, precision_score, recall_score, f1_score"
   ]
  },
  {
   "cell_type": "code",
   "execution_count": 226,
   "id": "d5703203-9f8d-41f6-a018-8a2e27c85178",
   "metadata": {},
   "outputs": [
    {
     "name": "stdout",
     "output_type": "stream",
     "text": [
      "Accuracy: 0.5289\n"
     ]
    }
   ],
   "source": [
    "print('Accuracy: %.4f' % accuracy_score(y_true_pos, y_pred_pos))"
   ]
  },
  {
   "cell_type": "code",
   "execution_count": 227,
   "id": "c7a77474-bcfc-4112-987e-5af14bdca82f",
   "metadata": {},
   "outputs": [
    {
     "name": "stdout",
     "output_type": "stream",
     "text": [
      "Precision: 1.0000\n"
     ]
    }
   ],
   "source": [
    "print('Precision: %.4f' % precision_score(y_true_pos, y_pred_pos))"
   ]
  },
  {
   "cell_type": "code",
   "execution_count": 228,
   "id": "ca723e60-3f50-4544-b6ee-da0e1ad2e078",
   "metadata": {},
   "outputs": [
    {
     "name": "stdout",
     "output_type": "stream",
     "text": [
      "Recall: 0.5289\n"
     ]
    }
   ],
   "source": [
    "print('Recall: %.4f' % recall_score(y_true_pos, y_pred_pos))"
   ]
  },
  {
   "cell_type": "code",
   "execution_count": 229,
   "id": "05bb50bc-8339-4839-b048-861aeb444259",
   "metadata": {},
   "outputs": [
    {
     "name": "stdout",
     "output_type": "stream",
     "text": [
      "F-1: 0.6919\n"
     ]
    }
   ],
   "source": [
    "print('F-1: %.4f' % f1_score(y_true_pos, y_pred_pos))"
   ]
  },
  {
   "cell_type": "code",
   "execution_count": 230,
   "id": "e8615ffe-05d2-49db-be15-c5b6ff3e88ac",
   "metadata": {},
   "outputs": [],
   "source": [
    "foods_2_test = pd.DataFrame()\n",
    "foods_2_test['id'] = le_food.inverse_transform(test_pos_u)\n",
    "foods_2_test.to_csv('../Output/foods_2_test.csv')"
   ]
  },
  {
   "cell_type": "markdown",
   "id": "e1b14c7a-26b4-4070-8f20-68b750fdff98",
   "metadata": {},
   "source": [
    "# 4) Save 'Food' Embeddings to RDF2Vec Format"
   ]
  },
  {
   "cell_type": "code",
   "execution_count": 231,
   "id": "df221574-0996-4880-8316-31546b0d3ddc",
   "metadata": {},
   "outputs": [],
   "source": [
    "foods = le_food.inverse_transform(g_test.nodes('Food')).tolist()"
   ]
  },
  {
   "cell_type": "code",
   "execution_count": 232,
   "id": "67c4e101-aef0-4a76-b0b4-7add44dd8029",
   "metadata": {},
   "outputs": [],
   "source": [
    "food_embeddings = dict(zip(foods, h_test['Food']))"
   ]
  },
  {
   "cell_type": "code",
   "execution_count": 251,
   "id": "c43ad741-c25c-4d7e-9f8c-3cb381b8ac66",
   "metadata": {},
   "outputs": [],
   "source": [
    "fw = open('../Output/food_embeddings.txt','w')\n",
    "fw.write(str(len(foods))+' '+str(len(h_test['Food'][0]))+'\\n')\n",
    "for food in foods:\n",
    "    fw.write(food+' ')\n",
    "    for i in range(len(h_test['Food'][0])):\n",
    "        value = str(food_embeddings[food][i].item()).strip()\n",
    "        fw.write(value+' ')\n",
    "    fw.write('\\n')"
   ]
  },
  {
   "cell_type": "markdown",
   "id": "52145095-6c9d-4351-9f16-de9a2f60f38b",
   "metadata": {},
   "source": [
    "# 5) Predict new links (based on negative edges that are in the train and test sets)"
   ]
  },
  {
   "cell_type": "code",
   "execution_count": 273,
   "id": "42118902-b52e-46a8-9ec0-5f9a358822b0",
   "metadata": {},
   "outputs": [],
   "source": [
    "df = pd.DataFrame()\n",
    "df['u'] = torch.cat([torch.as_tensor(neg_src_train), torch.as_tensor(neg_src_test)])\n",
    "df['v'] = torch.cat([torch.as_tensor(neg_dst_train), torch.as_tensor(neg_dst_test)])\n",
    "df['Food id'] = le_food.inverse_transform(df['u'])\n",
    "df['Substitution id'] = le_food.inverse_transform(df['v'])\n",
    "df['Scores'] = torch.cat([torch.as_tensor(neg_score_train), torch.as_tensor(neg_score_test)]).detach().numpy()\n",
    "df['Scores (Sigmoid)'] = torch.sigmoid(torch.cat([torch.as_tensor(neg_score_train), torch.as_tensor(neg_score_test)])).detach().numpy()"
   ]
  },
  {
   "cell_type": "markdown",
   "id": "b36a904c-ba0c-496d-9df4-655d11bdc1c8",
   "metadata": {},
   "source": [
    "**Get Food Labels**"
   ]
  },
  {
   "cell_type": "code",
   "execution_count": 274,
   "id": "99a1b1da-0790-45df-9917-da01f673bce2",
   "metadata": {},
   "outputs": [],
   "source": [
    "food_labels = pd.read_excel('../Input Data/ABBREV.xlsx', sheet_name='ABBREV')\n",
    "food_labels.NDB_No = 'http://idea.rpi.edu/heals/kb/usda#' + food_labels.NDB_No.astype(str).str.rjust(5,'0')\n",
    "food_2_label = dict()\n",
    "\n",
    "for i, row in food_labels.iterrows():\n",
    "    food = row['NDB_No']\n",
    "    label = row['Shrt_Desc']\n",
    "    food_2_label[food] = label"
   ]
  },
  {
   "cell_type": "markdown",
   "id": "208094df-0c74-4fb3-9cd9-628efde92c73",
   "metadata": {},
   "source": [
    "**Get Nutri-Values + Nutri-Scores**"
   ]
  },
  {
   "cell_type": "code",
   "execution_count": 275,
   "id": "4be98f90-4ea7-4e14-adf2-3ccd96b85bde",
   "metadata": {},
   "outputs": [],
   "source": [
    "nutri_scores = pd.read_csv('../Output/nutri_scores.csv')\n",
    "food_2_score = dict()\n",
    "\n",
    "for i, row in nutri_scores.iterrows():\n",
    "    food = row['NDB_No']\n",
    "    score = row['nutri_values']\n",
    "    food_2_score[food] = score"
   ]
  },
  {
   "cell_type": "markdown",
   "id": "7149736c-7c31-43e9-ad7d-39a4dedf3a7f",
   "metadata": {},
   "source": [
    "**Get Food Categories**"
   ]
  },
  {
   "cell_type": "code",
   "execution_count": 276,
   "id": "ba277444-66d6-45d2-9246-4b755c1f47d2",
   "metadata": {},
   "outputs": [],
   "source": [
    "food_cat = pd.read_csv('../Input Data/food_category.csv')\n",
    "food_cat['NDB_No'] = food_cat['NDB_No'].astype(str).str.rjust(5,'0')\n",
    "food_2_cat = dict()\n",
    "\n",
    "for i, row in food_cat.iterrows():\n",
    "    food = 'http://idea.rpi.edu/heals/kb/usda#' + row['NDB_No']\n",
    "    cat = row['FdGrp_Desc']\n",
    "    food_2_cat[food] = cat"
   ]
  },
  {
   "cell_type": "markdown",
   "id": "8fbb202d-ab6f-4fbe-ad34-7f09da3cb706",
   "metadata": {},
   "source": [
    "**Add Food Labels, Nutri-Values + Nutri-Scores, Food Categories**"
   ]
  },
  {
   "cell_type": "code",
   "execution_count": 277,
   "id": "85bf6e75-8734-458a-bd7f-82c60ac6cc62",
   "metadata": {},
   "outputs": [],
   "source": [
    "food_labels = []\n",
    "subs_labels = []\n",
    "food_scores = []\n",
    "subs_scores = []\n",
    "food_cat = []\n",
    "subs_cat = []\n",
    "\n",
    "for i, row in df.iterrows():\n",
    "    if(row['Food id'] in food_2_label.keys() and row['Substitution id'] in food_2_label.keys()):\n",
    "        food_labels.append(food_2_label[row['Food id']])\n",
    "        subs_labels.append(food_2_label[row['Substitution id']])\n",
    "    else:\n",
    "        food_labels.append('not found')\n",
    "        subs_labels.append('not found')\n",
    "    if(row['Food id'] in food_2_score.keys() and row['Substitution id'] in food_2_score.keys()):\n",
    "        food_scores.append(food_2_score[row['Food id']])\n",
    "        subs_scores.append(food_2_score[row['Substitution id']])\n",
    "    else:\n",
    "        food_scores.append(999)\n",
    "        subs_scores.append(999)\n",
    "    if(row['Food id'] in food_2_cat.keys() and row['Substitution id'] in food_2_cat.keys()):\n",
    "        food_cat.append(food_2_cat[row['Food id']])\n",
    "        subs_cat.append(food_2_cat[row['Substitution id']])\n",
    "    else:\n",
    "        food_cat.append('not found')\n",
    "        subs_cat.append('not found')\n",
    "        \n",
    "df['Food label'] = food_labels\n",
    "df['Substitution label'] = subs_labels\n",
    "df['Food Nutri-Value'] = food_scores\n",
    "df['Substitution Nutri-Value'] = subs_scores\n",
    "df['Food Category'] = food_cat\n",
    "df['Substitution Category'] = subs_cat"
   ]
  },
  {
   "cell_type": "markdown",
   "id": "0cb20538-27ff-4aca-adef-59cca86bb23e",
   "metadata": {},
   "source": [
    "**Filter out all substitutes which can't be found, and which have a higher Nutri-Value than their query food**"
   ]
  },
  {
   "cell_type": "code",
   "execution_count": 278,
   "id": "182e739e-e636-4b3b-996a-e23e564afe82",
   "metadata": {},
   "outputs": [
    {
     "data": {
      "text/plain": [
       "18410"
      ]
     },
     "execution_count": 278,
     "metadata": {},
     "output_type": "execute_result"
    }
   ],
   "source": [
    "len(df)"
   ]
  },
  {
   "cell_type": "code",
   "execution_count": 279,
   "id": "83219f8b-6474-4f6a-b317-afeb42b90b33",
   "metadata": {},
   "outputs": [],
   "source": [
    "df = df[df['Food label'] != 'not found']\n",
    "df = df[df['Food Category'] != 'not found']"
   ]
  },
  {
   "cell_type": "code",
   "execution_count": 280,
   "id": "d9f2d821-c4bd-4659-b416-f00833774ff5",
   "metadata": {},
   "outputs": [
    {
     "data": {
      "text/plain": [
       "16536"
      ]
     },
     "execution_count": 280,
     "metadata": {},
     "output_type": "execute_result"
    }
   ],
   "source": [
    "len(df)"
   ]
  },
  {
   "cell_type": "code",
   "execution_count": 281,
   "id": "06869c61-110b-41de-b71c-6a584610409e",
   "metadata": {},
   "outputs": [],
   "source": [
    "df = df[df['Food Nutri-Value'] >= df['Substitution Nutri-Value']]"
   ]
  },
  {
   "cell_type": "code",
   "execution_count": 282,
   "id": "ea2473a2-a7c5-4af3-90a1-aed3861eb594",
   "metadata": {},
   "outputs": [
    {
     "data": {
      "text/plain": [
       "7150"
      ]
     },
     "execution_count": 282,
     "metadata": {},
     "output_type": "execute_result"
    }
   ],
   "source": [
    "len(df)"
   ]
  },
  {
   "cell_type": "markdown",
   "id": "476bdce4-ea17-42a5-959c-505a3b31fbc3",
   "metadata": {},
   "source": [
    "**Get final dataset (by filtering out substitutes which are not in the same food category than their query food), which will be labelled by our Nutri-Scholars**"
   ]
  },
  {
   "cell_type": "code",
   "execution_count": 331,
   "id": "fa817063-3a33-4aad-8e8d-a5372441e762",
   "metadata": {},
   "outputs": [
    {
     "data": {
      "text/plain": [
       "328"
      ]
     },
     "execution_count": 331,
     "metadata": {},
     "output_type": "execute_result"
    }
   ],
   "source": [
    "len(np.unique(df['Food id']))"
   ]
  },
  {
   "cell_type": "code",
   "execution_count": 332,
   "id": "f66278c5-b37b-460a-8fe8-b05a48f8014f",
   "metadata": {},
   "outputs": [],
   "source": [
    "df_results = pd.DataFrame()\n",
    "\n",
    "for food in np.unique(df['Food id']):\n",
    "    if len(df[(df['Food id'] == food) & (df['Food Category'] == df['Substitution Category'])]) >= 2:\n",
    "        subs_a = df[(df['Food id'] == food) & (df['Food Category'] == df['Substitution Category'])].sort_values(by=['Scores (Sigmoid)', 'Substitution Nutri-Value'], ascending=[False, True]).head(1)\n",
    "        df_results = df_results.append(subs_a)\n",
    "        subs_b = df[(df['Food id'] == food) & (df['Food Category'] == df['Substitution Category'])].sort_values(by=['Substitution Nutri-Value', 'Scores (Sigmoid)'], ascending=[True, False]).head(1)\n",
    "        if subs_a['Substitution id'].iloc[0] != subs_b['Substitution id'].iloc[0]:\n",
    "            df_results = df_results.append(subs_b)\n",
    "        else: \n",
    "            df_results = df_results.append(df[(df['Food id'] == food) & (df['Food Category'] == df['Substitution Category'])].sort_values(by=['Substitution Nutri-Value', 'Scores (Sigmoid)'], ascending=[True, False]).head(2))"
   ]
  },
  {
   "cell_type": "code",
   "execution_count": 333,
   "id": "bbddd127-349b-4ca7-b7bb-84f280fb0a02",
   "metadata": {},
   "outputs": [],
   "source": [
    "df_results = df_results.drop_duplicates()"
   ]
  },
  {
   "cell_type": "code",
   "execution_count": 334,
   "id": "973ce9d0-5e21-45e5-8952-fc5176f08c9a",
   "metadata": {},
   "outputs": [
    {
     "data": {
      "text/plain": [
       "77"
      ]
     },
     "execution_count": 334,
     "metadata": {},
     "output_type": "execute_result"
    }
   ],
   "source": [
    "len(np.unique(df_results['Food id']))"
   ]
  },
  {
   "cell_type": "code",
   "execution_count": 335,
   "id": "5ee73576-90e2-4249-86bd-bec629f92f93",
   "metadata": {},
   "outputs": [],
   "source": [
    "df_results = df_results[['Food label', 'Substitution label']]"
   ]
  },
  {
   "cell_type": "code",
   "execution_count": 336,
   "id": "37061b65-c841-4773-a534-0aba8344fa3a",
   "metadata": {},
   "outputs": [],
   "source": [
    "df_results.to_csv('../Output/results.csv')"
   ]
  }
 ],
 "metadata": {
  "kernelspec": {
   "display_name": "Python 3",
   "language": "python",
   "name": "python3"
  },
  "language_info": {
   "codemirror_mode": {
    "name": "ipython",
    "version": 3
   },
   "file_extension": ".py",
   "mimetype": "text/x-python",
   "name": "python",
   "nbconvert_exporter": "python",
   "pygments_lexer": "ipython3",
   "version": "3.8.8"
  }
 },
 "nbformat": 4,
 "nbformat_minor": 5
}
