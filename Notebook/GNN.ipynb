{
 "cells": [
  {
   "cell_type": "markdown",
   "id": "f995d94f-c3e8-44b2-a18d-40c3eacb4f72",
   "metadata": {},
   "source": [
    "# Libraries"
   ]
  },
  {
   "cell_type": "code",
   "execution_count": 1,
   "id": "6cafaffc-55f3-46d7-b781-f6458f9d8251",
   "metadata": {},
   "outputs": [
    {
     "name": "stderr",
     "output_type": "stream",
     "text": [
      "Using backend: pytorch\n"
     ]
    }
   ],
   "source": [
    "import pandas as pd\n",
    "import numpy as np\n",
    "import matplotlib.pyplot as plt\n",
    "\n",
    "import os\n",
    "import re\n",
    "import random\n",
    "import itertools\n",
    "import warnings\n",
    "warnings.simplefilter(\"ignore\")\n",
    "\n",
    "from sklearn import preprocessing\n",
    "\n",
    "import dgl\n",
    "from dgl.data import DGLDataset\n",
    "import dgl.nn as dglnn\n",
    "from dgl.nn import GraphConv, SAGEConv, GATConv\n",
    "import dgl.function as fn\n",
    "\n",
    "import torch\n",
    "import torch.nn as nn\n",
    "import torch.nn.functional as F\n",
    "\n",
    "import pygraphviz as pgv\n",
    "\n",
    "import scipy.sparse as sp"
   ]
  },
  {
   "cell_type": "code",
   "execution_count": 2,
   "id": "8ac8c793-8bf3-43e6-be52-d24bc04ce85f",
   "metadata": {},
   "outputs": [],
   "source": [
    "n_input_feat = 10\n",
    "n_hidden_feat = 20\n",
    "n_output_feat = 10\n",
    "\n",
    "k = 5 # for negative graph: each edge gets k negative examples - 'negative sampling'"
   ]
  },
  {
   "cell_type": "code",
   "execution_count": 3,
   "id": "36ed0806-3812-485d-b115-f962875a474c",
   "metadata": {},
   "outputs": [],
   "source": [
    "vModel = 'GCN'"
   ]
  },
  {
   "cell_type": "code",
   "execution_count": 4,
   "id": "b4ee7a44-c1f5-4c29-9484-220154e4185b",
   "metadata": {},
   "outputs": [],
   "source": [
    "if vModel == 'GCN':\n",
    "    n_epochs = 201\n",
    "elif vModel == 'SAGE':\n",
    "    n_epochs = 601"
   ]
  },
  {
   "cell_type": "markdown",
   "id": "8fdc9cfc-06b6-4a31-b458-8d21d5e04154",
   "metadata": {},
   "source": [
    "# 1) Create DGL Heterograph"
   ]
  },
  {
   "cell_type": "markdown",
   "id": "302f7e86-ed63-4fd2-a706-34a25f36510b",
   "metadata": {},
   "source": [
    "## a. Get KG"
   ]
  },
  {
   "cell_type": "code",
   "execution_count": 5,
   "id": "b9d313aa-a2a4-40d1-ae60-b546930835ef",
   "metadata": {},
   "outputs": [],
   "source": [
    "f = open('../Input Data/statements.nq', 'r')\n",
    "text = f.readlines()"
   ]
  },
  {
   "cell_type": "code",
   "execution_count": 6,
   "id": "84a9e636-4af3-48e1-ad2a-b6850f957009",
   "metadata": {},
   "outputs": [],
   "source": [
    "rows = []\n",
    "for line in text:\n",
    "  split = line.split()\n",
    "  s = split[0]\n",
    "  s = s.replace('<', '')\n",
    "  s = s.replace('>', '')\n",
    "  p = split[1]\n",
    "  p = p.replace('<', '')\n",
    "  p = p.replace('>', '')\n",
    "  o = split[2]\n",
    "  o = o.replace('<', '')\n",
    "  o = o.replace('>', '')\n",
    "  rows.append([s, p, o])"
   ]
  },
  {
   "cell_type": "code",
   "execution_count": 7,
   "id": "8b67afba-ed82-4542-9f90-0dbd98860314",
   "metadata": {},
   "outputs": [
    {
     "data": {
      "text/html": [
       "<div>\n",
       "<style scoped>\n",
       "    .dataframe tbody tr th:only-of-type {\n",
       "        vertical-align: middle;\n",
       "    }\n",
       "\n",
       "    .dataframe tbody tr th {\n",
       "        vertical-align: top;\n",
       "    }\n",
       "\n",
       "    .dataframe thead th {\n",
       "        text-align: right;\n",
       "    }\n",
       "</style>\n",
       "<table border=\"1\" class=\"dataframe\">\n",
       "  <thead>\n",
       "    <tr style=\"text-align: right;\">\n",
       "      <th></th>\n",
       "      <th>subject</th>\n",
       "      <th>predicate</th>\n",
       "      <th>object</th>\n",
       "    </tr>\n",
       "  </thead>\n",
       "  <tbody>\n",
       "    <tr>\n",
       "      <th>0</th>\n",
       "      <td>http://idea.rpi.edu/heals/kb/usda#01003</td>\n",
       "      <td>http://www.w3.org/1999/02/22-rdf-syntax-ns#type</td>\n",
       "      <td>http://idea.rpi.edu/heals/kb/usda</td>\n",
       "    </tr>\n",
       "    <tr>\n",
       "      <th>1</th>\n",
       "      <td>http://idea.rpi.edu/heals/kb/usda#01004</td>\n",
       "      <td>http://www.w3.org/1999/02/22-rdf-syntax-ns#type</td>\n",
       "      <td>http://idea.rpi.edu/heals/kb/usda</td>\n",
       "    </tr>\n",
       "    <tr>\n",
       "      <th>2</th>\n",
       "      <td>http://idea.rpi.edu/heals/kb/usda#01005</td>\n",
       "      <td>http://www.w3.org/1999/02/22-rdf-syntax-ns#type</td>\n",
       "      <td>http://idea.rpi.edu/heals/kb/usda</td>\n",
       "    </tr>\n",
       "    <tr>\n",
       "      <th>3</th>\n",
       "      <td>http://idea.rpi.edu/heals/kb/usda#01006</td>\n",
       "      <td>http://www.w3.org/1999/02/22-rdf-syntax-ns#type</td>\n",
       "      <td>http://idea.rpi.edu/heals/kb/usda</td>\n",
       "    </tr>\n",
       "    <tr>\n",
       "      <th>4</th>\n",
       "      <td>http://idea.rpi.edu/heals/kb/usda#01007</td>\n",
       "      <td>http://www.w3.org/1999/02/22-rdf-syntax-ns#type</td>\n",
       "      <td>http://idea.rpi.edu/heals/kb/usda</td>\n",
       "    </tr>\n",
       "  </tbody>\n",
       "</table>\n",
       "</div>"
      ],
      "text/plain": [
       "                                   subject  \\\n",
       "0  http://idea.rpi.edu/heals/kb/usda#01003   \n",
       "1  http://idea.rpi.edu/heals/kb/usda#01004   \n",
       "2  http://idea.rpi.edu/heals/kb/usda#01005   \n",
       "3  http://idea.rpi.edu/heals/kb/usda#01006   \n",
       "4  http://idea.rpi.edu/heals/kb/usda#01007   \n",
       "\n",
       "                                         predicate  \\\n",
       "0  http://www.w3.org/1999/02/22-rdf-syntax-ns#type   \n",
       "1  http://www.w3.org/1999/02/22-rdf-syntax-ns#type   \n",
       "2  http://www.w3.org/1999/02/22-rdf-syntax-ns#type   \n",
       "3  http://www.w3.org/1999/02/22-rdf-syntax-ns#type   \n",
       "4  http://www.w3.org/1999/02/22-rdf-syntax-ns#type   \n",
       "\n",
       "                              object  \n",
       "0  http://idea.rpi.edu/heals/kb/usda  \n",
       "1  http://idea.rpi.edu/heals/kb/usda  \n",
       "2  http://idea.rpi.edu/heals/kb/usda  \n",
       "3  http://idea.rpi.edu/heals/kb/usda  \n",
       "4  http://idea.rpi.edu/heals/kb/usda  "
      ]
     },
     "execution_count": 7,
     "metadata": {},
     "output_type": "execute_result"
    }
   ],
   "source": [
    "triples = pd.DataFrame(rows, columns=['subject', 'predicate', 'object'])\n",
    "triples.head()"
   ]
  },
  {
   "cell_type": "code",
   "execution_count": 8,
   "id": "35c394ce-ae9a-4f4b-a498-50b91f4fb59c",
   "metadata": {},
   "outputs": [
    {
     "name": "stdout",
     "output_type": "stream",
     "text": [
      "# Triples: 3022948\n"
     ]
    }
   ],
   "source": [
    "print(f'# Triples: {len(triples)}')"
   ]
  },
  {
   "cell_type": "markdown",
   "id": "ef57b8e1-e626-4862-af7a-1e647d39a3b9",
   "metadata": {},
   "source": [
    "## b. Convert KG to pd.DataFrame"
   ]
  },
  {
   "cell_type": "code",
   "execution_count": 9,
   "id": "d1d7f581-6890-4245-894a-ecb3178e8cfa",
   "metadata": {},
   "outputs": [
    {
     "data": {
      "text/plain": [
       "LabelEncoder()"
      ]
     },
     "execution_count": 9,
     "metadata": {},
     "output_type": "execute_result"
    }
   ],
   "source": [
    "all_foods = triples[(triples['subject'].str.startswith('http://idea.rpi.edu/heals/kb/usda#'))]\n",
    "le_food = preprocessing.LabelEncoder()\n",
    "le_food.fit(all_foods['subject'].tolist())"
   ]
  },
  {
   "cell_type": "code",
   "execution_count": 10,
   "id": "133c5765-635c-4980-b2ac-35baf36d1c8c",
   "metadata": {},
   "outputs": [],
   "source": [
    "def map_value_2_id(df, value, name):\n",
    "    le = preprocessing.LabelEncoder()\n",
    "    le.fit(df[value].tolist())\n",
    "    df[name] = le.transform(df[value].tolist())\n",
    "    return df, le"
   ]
  },
  {
   "cell_type": "markdown",
   "id": "86a0ed5a-e351-490b-8f1e-575b7bc302bd",
   "metadata": {},
   "source": [
    "**(Food, containsNutrient, Nutrient)**"
   ]
  },
  {
   "cell_type": "code",
   "execution_count": 11,
   "id": "83d3295d-abbe-4b42-8b45-100fea5b1054",
   "metadata": {},
   "outputs": [],
   "source": [
    "df_food_nutrient = triples[(triples['subject'].str.startswith('http://idea.rpi.edu/heals/kb/usda#')) &\n",
    "                        (triples['predicate'] == 'http://www.w3id.org/foodkg/property#contains') &\n",
    "                        (triples['object'].str.startswith('http://www.w3id.org/foodkg/usda#'))]   \n",
    "\n",
    "df_food_nutrient['source_id'] = le_food.transform(df_food_nutrient['subject'].tolist())\n",
    "df_food_nutrient, le_nutrient = map_value_2_id(df_food_nutrient, 'object', 'destination_id')"
   ]
  },
  {
   "cell_type": "markdown",
   "id": "17a2cc15-87a2-4324-a72a-e9fbde28394b",
   "metadata": {},
   "source": [
    "**(Food, hasTag, Tag)**"
   ]
  },
  {
   "cell_type": "code",
   "execution_count": 12,
   "id": "1663d63e-9a39-4abc-a07f-fc8eeeb05333",
   "metadata": {},
   "outputs": [],
   "source": [
    "df_food_tag = triples[(triples['subject'].str.startswith('http://idea.rpi.edu/heals/kb/usda#')) &\n",
    "                      (triples['predicate'] == 'http://www.w3id.org/foodb/property/hasQuality') &\n",
    "                      (triples['object'].str.startswith('https://w3id.org/foodkg/quality/high_'))]   \n",
    "\n",
    "df_food_tag['source_id'] = le_food.transform(df_food_tag['subject'].tolist())\n",
    "df_food_tag, le_tag = map_value_2_id(df_food_tag, 'object', 'destination_id')"
   ]
  },
  {
   "cell_type": "markdown",
   "id": "417bbcd6-7fb9-4dad-a70c-e1fb2bce57fd",
   "metadata": {},
   "source": [
    "**(Food, isInCategory, Category)**"
   ]
  },
  {
   "cell_type": "code",
   "execution_count": 13,
   "id": "43da95fc-47d3-4fac-99a3-366d4a5a436f",
   "metadata": {},
   "outputs": [],
   "source": [
    "df_food_cat = triples[(triples['subject'].str.startswith('http://idea.rpi.edu/heals/kb/usda#')) &\n",
    "                      (triples['predicate'] == 'http://www.w3id.org/foodb/property/hasCategory') &\n",
    "                      (triples['object'].str.startswith('http://idea.rpi.edu/heals/kb/usda#'))]   \n",
    "\n",
    "df_food_cat['source_id'] = le_food.transform(df_food_cat['subject'].tolist())\n",
    "df_food_cat, le_category = map_value_2_id(df_food_cat, 'object', 'destination_id')"
   ]
  },
  {
   "cell_type": "markdown",
   "id": "717b3fd2-47fe-475a-9340-5c7c415dced2",
   "metadata": {},
   "source": [
    "**(Food, hasFlavor, Flavor)**"
   ]
  },
  {
   "cell_type": "code",
   "execution_count": 14,
   "id": "98c5db03-6a0a-44b5-b831-4bdce4ec5ca0",
   "metadata": {},
   "outputs": [],
   "source": [
    "df_food_flavor = triples[(triples['subject'].str.startswith('http://idea.rpi.edu/heals/kb/usda#')) &\n",
    "                      (triples['predicate'] == 'http://www.w3id.org/foodb/property/hasFlavor') &\n",
    "                      (triples['object'].str.startswith('https://w3id.org/foodkg/flavor/'))]   \n",
    "\n",
    "df_food_flavor['source_id'] = le_food.transform(df_food_flavor['subject'].tolist())\n",
    "df_food_flavor, le_flavor = map_value_2_id(df_food_flavor, 'object', 'destination_id')"
   ]
  },
  {
   "cell_type": "markdown",
   "id": "6ecd3f25-ead1-4994-9b42-d47085ed4899",
   "metadata": {},
   "source": [
    "**(Product, containsIngredient, Ingredient)**"
   ]
  },
  {
   "cell_type": "code",
   "execution_count": 15,
   "id": "d321e711-ead0-410c-9086-65d2a63e0235",
   "metadata": {},
   "outputs": [],
   "source": [
    "df_product_ingredient = triples[(triples['subject'].str.startswith('https://w3id.org/um/ken4256/product/')) &\n",
    "                       (triples['predicate'] == 'https://www.bbc.co.uk/ontologies/fo/ingredients') &\n",
    "                       (triples['object'].str.startswith('https://w3id.org/um/ken4256/ingredient/'))]   \n",
    "\n",
    "df_product_ingredient, le_product = map_value_2_id(df_product_ingredient, 'subject', 'source_id')\n",
    "df_product_ingredient, le_ingredient = map_value_2_id(df_product_ingredient, 'object', 'destination_id')"
   ]
  },
  {
   "cell_type": "markdown",
   "id": "41609e16-3e9d-42ab-b0e3-5812f405d3ef",
   "metadata": {},
   "source": [
    "**(Food, isSimilarTo, Ingredient) - (Ingredient, isSimilarTo, Food)**"
   ]
  },
  {
   "cell_type": "code",
   "execution_count": 16,
   "id": "ac5b132e-ed2a-45af-a60f-4ee81aeb7589",
   "metadata": {},
   "outputs": [],
   "source": [
    "df_food_ingredient = triples[(triples['subject'].str.startswith('http://idea.rpi.edu/heals/kb/usda#')) &\n",
    "                      (triples['predicate'] == 'https://schema.org/isSimilarTo') &\n",
    "                      (triples['object'].str.startswith('https://w3id.org/um/ken4256/ingredient/'))]   \n",
    "\n",
    "df_food_ingredient['source_id'] = le_food.transform(df_food_ingredient['subject'].tolist())\n",
    "df_food_ingredient['destination_id'] = le_ingredient.transform(df_food_ingredient['object'].tolist())"
   ]
  },
  {
   "cell_type": "markdown",
   "id": "46d96d22-97af-4444-8b58-d6537497ec8e",
   "metadata": {},
   "source": [
    "## c. Get Ground Truth and convert to pd.DataFrame"
   ]
  },
  {
   "cell_type": "markdown",
   "id": "acba7290-8f26-418d-a9e4-9fc4224df941",
   "metadata": {},
   "source": [
    "**(Food, isSubstitutedBy, Food Subs) - (Food Subs, canSubstitute, Food)**"
   ]
  },
  {
   "cell_type": "code",
   "execution_count": 17,
   "id": "96a86a5c-5b85-4fa2-899e-c3bbd496b9f2",
   "metadata": {},
   "outputs": [],
   "source": [
    "df_food_subs = pd.read_csv('../Input Data/final_substitution.csv', sep=';')\n",
    "\n",
    "df_food_subs['source_id'] = le_food.transform(df_food_subs['Food id'].tolist())\n",
    "df_food_subs['destination_id'] = le_food.transform(df_food_subs['Substitution id'].tolist())"
   ]
  },
  {
   "cell_type": "markdown",
   "id": "898012d4-6b63-4699-b7bc-12c1539fb39d",
   "metadata": {},
   "source": [
    "## d. Create DGL HeteroGraph"
   ]
  },
  {
   "cell_type": "code",
   "execution_count": 18,
   "id": "3b9461fa-f336-430c-b422-aee54e86e24f",
   "metadata": {},
   "outputs": [],
   "source": [
    "g = dgl.heterograph({('Food', 'isSubstitutedBy', 'Food'): (torch.tensor(df_food_subs['source_id'].tolist()), torch.tensor(df_food_subs['destination_id'].tolist())),\n",
    "                     ('Food', 'substitutes', 'Food'): (torch.tensor(df_food_subs['destination_id'].tolist()), torch.tensor(df_food_subs['source_id'].tolist())),\n",
    "                     ('Food', 'containsNutrient', 'Nutrient'): (torch.tensor(df_food_nutrient['source_id'].tolist()), torch.tensor(df_food_nutrient['destination_id'].tolist())),\n",
    "                     ('Food', 'hasTag', 'Tag'): (torch.tensor(df_food_tag['source_id'].tolist()), torch.tensor(df_food_tag['destination_id'].tolist())),\n",
    "                     ('Food', 'isInCategory', 'Category'): (torch.tensor(df_food_cat['source_id'].tolist()), torch.tensor(df_food_cat['destination_id'].tolist())),\n",
    "                     ('Food', 'hasFlavor', 'Flavor'): (torch.tensor(df_food_flavor['source_id'].tolist()), torch.tensor(df_food_flavor['destination_id'].tolist())),\n",
    "                     ('Product', 'containsIngredient', 'Ingredient'): (torch.tensor(df_product_ingredient['source_id'].tolist()), torch.tensor(df_product_ingredient['destination_id'].tolist())),\n",
    "                     ('Food', 'sameAs', 'Ingredient'): (torch.tensor(df_food_ingredient['source_id'].tolist()), torch.tensor(df_food_ingredient['destination_id'].tolist())),\n",
    "                     ('Ingredient', 'sameAs', 'Food'): (torch.tensor(df_food_ingredient['destination_id'].tolist()), torch.tensor(df_food_ingredient['source_id'].tolist()))\n",
    "                    })"
   ]
  },
  {
   "cell_type": "code",
   "execution_count": 19,
   "id": "29cf0e31-bf3a-40e1-9487-f0c61414637b",
   "metadata": {},
   "outputs": [],
   "source": [
    "for node in g.ntypes:\n",
    "    g.nodes[node].data['h'] = torch.randn(g.number_of_nodes(node), n_input_feat)"
   ]
  },
  {
   "cell_type": "code",
   "execution_count": 20,
   "id": "4caae201-0069-4efa-9c18-49a1045da961",
   "metadata": {},
   "outputs": [
    {
     "data": {
      "text/plain": [
       "Graph(num_nodes={'Category': 13, 'Flavor': 272, 'Food': 9372, 'Ingredient': 125130, 'Nutrient': 63883, 'Product': 71777, 'Tag': 25},\n",
       "      num_edges={('Food', 'containsNutrient', 'Nutrient'): 300523, ('Food', 'hasFlavor', 'Flavor'): 11167, ('Food', 'hasTag', 'Tag'): 17746, ('Food', 'isInCategory', 'Category'): 1667, ('Food', 'isSubstitutedBy', 'Food'): 1841, ('Food', 'sameAs', 'Ingredient'): 681, ('Food', 'substitutes', 'Food'): 1841, ('Ingredient', 'sameAs', 'Food'): 681, ('Product', 'containsIngredient', 'Ingredient'): 890789},\n",
       "      metagraph=[('Food', 'Nutrient', 'containsNutrient'), ('Food', 'Flavor', 'hasFlavor'), ('Food', 'Tag', 'hasTag'), ('Food', 'Category', 'isInCategory'), ('Food', 'Food', 'isSubstitutedBy'), ('Food', 'Food', 'substitutes'), ('Food', 'Ingredient', 'sameAs'), ('Ingredient', 'Food', 'sameAs'), ('Product', 'Ingredient', 'containsIngredient')])"
      ]
     },
     "execution_count": 20,
     "metadata": {},
     "output_type": "execute_result"
    }
   ],
   "source": [
    "g"
   ]
  },
  {
   "cell_type": "code",
   "execution_count": 21,
   "id": "77bd642d-c74c-4ca7-b184-7c459f3a909b",
   "metadata": {},
   "outputs": [
    {
     "data": {
      "text/plain": [
       "9372"
      ]
     },
     "execution_count": 21,
     "metadata": {},
     "output_type": "execute_result"
    }
   ],
   "source": [
    "g.number_of_nodes('Food')"
   ]
  },
  {
   "cell_type": "code",
   "execution_count": 22,
   "id": "5cce9868-fb77-4eb8-a8a2-2779d972c21e",
   "metadata": {},
   "outputs": [
    {
     "data": {
      "text/plain": [
       "1841"
      ]
     },
     "execution_count": 22,
     "metadata": {},
     "output_type": "execute_result"
    }
   ],
   "source": [
    "g.number_of_edges('isSubstitutedBy')"
   ]
  },
  {
   "cell_type": "code",
   "execution_count": 23,
   "id": "add8df6c-269b-4ac2-afac-3303397f8c83",
   "metadata": {},
   "outputs": [
    {
     "data": {
      "text/plain": [
       "['Category', 'Flavor', 'Food', 'Ingredient', 'Nutrient', 'Product', 'Tag']"
      ]
     },
     "execution_count": 23,
     "metadata": {},
     "output_type": "execute_result"
    }
   ],
   "source": [
    "g.ntypes"
   ]
  },
  {
   "cell_type": "code",
   "execution_count": 24,
   "id": "19feda11-4e5f-42eb-a890-1e779e1f42ed",
   "metadata": {},
   "outputs": [
    {
     "data": {
      "text/plain": [
       "['containsNutrient',\n",
       " 'hasFlavor',\n",
       " 'hasTag',\n",
       " 'isInCategory',\n",
       " 'isSubstitutedBy',\n",
       " 'sameAs',\n",
       " 'substitutes',\n",
       " 'sameAs',\n",
       " 'containsIngredient']"
      ]
     },
     "execution_count": 24,
     "metadata": {},
     "output_type": "execute_result"
    }
   ],
   "source": [
    "g.etypes"
   ]
  },
  {
   "cell_type": "code",
   "execution_count": 25,
   "id": "86fca147-2bf4-442b-bf94-5cbb4131c971",
   "metadata": {},
   "outputs": [
    {
     "data": {
      "text/plain": [
       "[('Food', 'containsNutrient', 'Nutrient'),\n",
       " ('Food', 'hasFlavor', 'Flavor'),\n",
       " ('Food', 'hasTag', 'Tag'),\n",
       " ('Food', 'isInCategory', 'Category'),\n",
       " ('Food', 'isSubstitutedBy', 'Food'),\n",
       " ('Food', 'sameAs', 'Ingredient'),\n",
       " ('Food', 'substitutes', 'Food'),\n",
       " ('Ingredient', 'sameAs', 'Food'),\n",
       " ('Product', 'containsIngredient', 'Ingredient')]"
      ]
     },
     "execution_count": 25,
     "metadata": {},
     "output_type": "execute_result"
    }
   ],
   "source": [
    "g.canonical_etypes"
   ]
  },
  {
   "cell_type": "code",
   "execution_count": 26,
   "id": "fcf5147f-da31-481b-829c-244bc1fcebfd",
   "metadata": {},
   "outputs": [],
   "source": [
    "def plot_graph(nxg):\n",
    "    ag = pgv.AGraph(strict = False, directed = True)\n",
    "    for u, v, k in nxg.edges(keys=True):\n",
    "        ag.add_edge(u, v, label=k)\n",
    "    ag.layout('dot')\n",
    "    ag.draw('../Output/graph.png')"
   ]
  },
  {
   "cell_type": "code",
   "execution_count": 27,
   "id": "bf903a6f-d4c0-40a2-9398-650b96ab7c88",
   "metadata": {},
   "outputs": [],
   "source": [
    "plot_graph(g.metagraph())"
   ]
  },
  {
   "cell_type": "markdown",
   "id": "e0fb56a6-4dc9-4589-a64d-603b77a73358",
   "metadata": {},
   "source": [
    "## e. Split into train and test sets"
   ]
  },
  {
   "cell_type": "code",
   "execution_count": 28,
   "id": "53531a3a-6673-4164-9a89-4ae3ad788053",
   "metadata": {},
   "outputs": [],
   "source": [
    "#randomly generate training masks on 'isSubstitutedBy' edges\n",
    "g.edges['isSubstitutedBy'].data['train_mask'] = torch.zeros(g.number_of_edges('isSubstitutedBy'), dtype=torch.bool).bernoulli(0.75)"
   ]
  },
  {
   "cell_type": "code",
   "execution_count": 29,
   "id": "dfaf63f1-23ff-4e6a-9f15-ac1969481dd5",
   "metadata": {},
   "outputs": [
    {
     "data": {
      "text/plain": [
       "EdgeSpace(data={'train_mask': tensor([False,  True, False,  ...,  True,  True,  True])})"
      ]
     },
     "execution_count": 29,
     "metadata": {},
     "output_type": "execute_result"
    }
   ],
   "source": [
    "g.edges['isSubstitutedBy']"
   ]
  },
  {
   "cell_type": "code",
   "execution_count": 30,
   "id": "4c04a91e-49ec-460a-abeb-ff4ad70dec32",
   "metadata": {},
   "outputs": [],
   "source": [
    "train_eid_dict = {'eid_2_train': (g.edges['isSubstitutedBy'].data['train_mask'] == True).nonzero(as_tuple=True)[0]}\n",
    "test_eid_dict = {'eid_2_test': (g.edges['isSubstitutedBy'].data['train_mask'] == False).nonzero(as_tuple=True)[0]}"
   ]
  },
  {
   "cell_type": "code",
   "execution_count": 31,
   "id": "9dea1379-44e0-481b-adc3-79fb25eb379f",
   "metadata": {},
   "outputs": [
    {
     "data": {
      "text/plain": [
       "tensor([   1,    3,    4,  ..., 1838, 1839, 1840])"
      ]
     },
     "execution_count": 31,
     "metadata": {},
     "output_type": "execute_result"
    }
   ],
   "source": [
    "train_eid_dict['eid_2_train']"
   ]
  },
  {
   "cell_type": "code",
   "execution_count": 32,
   "id": "b28feee7-88ac-438a-820a-2e4f5ca0229d",
   "metadata": {},
   "outputs": [
    {
     "data": {
      "text/plain": [
       "tensor([   0,    2,    9,   10,   12,   20,   21,   26,   32,   33,   36,   37,\n",
       "          41,   45,   48,   51,   58,   60,   66,   68,   70,   76,   78,   90,\n",
       "          91,   93,   94,  107,  113,  122,  123,  127,  129,  142,  143,  146,\n",
       "         149,  151,  164,  166,  169,  173,  180,  188,  189,  190,  192,  194,\n",
       "         202,  203,  204,  209,  211,  217,  226,  233,  237,  239,  246,  250,\n",
       "         254,  257,  264,  265,  272,  283,  284,  285,  297,  300,  301,  302,\n",
       "         303,  307,  311,  315,  317,  318,  319,  320,  321,  322,  328,  330,\n",
       "         334,  336,  339,  340,  343,  353,  355,  365,  367,  368,  369,  373,\n",
       "         374,  375,  378,  380,  385,  390,  395,  397,  399,  404,  409,  411,\n",
       "         416,  417,  419,  421,  426,  435,  437,  447,  449,  450,  451,  455,\n",
       "         458,  464,  465,  467,  480,  488,  496,  499,  501,  502,  503,  511,\n",
       "         525,  527,  530,  533,  537,  540,  543,  545,  548,  549,  550,  558,\n",
       "         562,  569,  574,  578,  583,  588,  594,  603,  604,  605,  609,  617,\n",
       "         624,  627,  632,  637,  639,  640,  641,  642,  652,  654,  656,  665,\n",
       "         666,  668,  669,  673,  674,  676,  677,  678,  680,  684,  696,  724,\n",
       "         727,  732,  733,  735,  740,  749,  759,  762,  763,  768,  772,  773,\n",
       "         774,  775,  780,  782,  784,  787,  788,  791,  794,  795,  798,  805,\n",
       "         808,  811,  813,  814,  815,  817,  820,  824,  827,  833,  839,  841,\n",
       "         843,  844,  851,  853,  855,  858,  864,  869,  870,  876,  877,  879,\n",
       "         884,  887,  891,  902,  904,  915,  918,  920,  937,  946,  948,  956,\n",
       "         958,  964,  965,  971,  974,  975,  980,  982,  989,  990,  993,  995,\n",
       "         996,  997,  999, 1005, 1007, 1013, 1022, 1031, 1035, 1036, 1040, 1046,\n",
       "        1049, 1052, 1053, 1060, 1065, 1072, 1073, 1076, 1077, 1078, 1086, 1095,\n",
       "        1099, 1104, 1114, 1122, 1124, 1133, 1134, 1137, 1142, 1144, 1148, 1153,\n",
       "        1163, 1164, 1166, 1169, 1173, 1176, 1178, 1180, 1182, 1185, 1191, 1192,\n",
       "        1193, 1200, 1201, 1202, 1205, 1209, 1211, 1213, 1219, 1224, 1230, 1234,\n",
       "        1236, 1242, 1246, 1247, 1260, 1271, 1276, 1277, 1278, 1280, 1284, 1286,\n",
       "        1292, 1294, 1295, 1297, 1298, 1303, 1309, 1317, 1320, 1329, 1331, 1339,\n",
       "        1340, 1341, 1342, 1343, 1346, 1358, 1362, 1365, 1373, 1379, 1383, 1385,\n",
       "        1387, 1390, 1392, 1397, 1398, 1408, 1409, 1413, 1418, 1424, 1425, 1430,\n",
       "        1436, 1440, 1443, 1450, 1455, 1463, 1466, 1470, 1479, 1481, 1482, 1483,\n",
       "        1486, 1490, 1493, 1497, 1498, 1501, 1503, 1522, 1531, 1532, 1533, 1541,\n",
       "        1547, 1549, 1554, 1564, 1571, 1577, 1579, 1585, 1586, 1590, 1591, 1593,\n",
       "        1596, 1598, 1605, 1609, 1614, 1615, 1616, 1621, 1622, 1627, 1634, 1637,\n",
       "        1640, 1642, 1644, 1647, 1655, 1657, 1667, 1670, 1672, 1678, 1692, 1693,\n",
       "        1696, 1699, 1701, 1703, 1705, 1712, 1715, 1717, 1718, 1719, 1720, 1722,\n",
       "        1726, 1729, 1731, 1734, 1736, 1737, 1740, 1747, 1764, 1767, 1774, 1775,\n",
       "        1778, 1785, 1789, 1792, 1794, 1799, 1800, 1805, 1808, 1813, 1816, 1817,\n",
       "        1818, 1822, 1824, 1825, 1827, 1835])"
      ]
     },
     "execution_count": 32,
     "metadata": {},
     "output_type": "execute_result"
    }
   ],
   "source": [
    "test_eid_dict['eid_2_test']"
   ]
  },
  {
   "cell_type": "code",
   "execution_count": 33,
   "id": "18dc5349-ce9d-4143-8630-978b9d526653",
   "metadata": {},
   "outputs": [
    {
     "data": {
      "text/plain": [
       "1841"
      ]
     },
     "execution_count": 33,
     "metadata": {},
     "output_type": "execute_result"
    }
   ],
   "source": [
    "g.number_of_edges('isSubstitutedBy')"
   ]
  },
  {
   "cell_type": "code",
   "execution_count": 34,
   "id": "00985850-6486-4934-bf1b-b9690640af42",
   "metadata": {},
   "outputs": [
    {
     "data": {
      "text/plain": [
       "1379"
      ]
     },
     "execution_count": 34,
     "metadata": {},
     "output_type": "execute_result"
    }
   ],
   "source": [
    "len(train_eid_dict['eid_2_train'])"
   ]
  },
  {
   "cell_type": "code",
   "execution_count": 35,
   "id": "afdc74d6-ad81-47a9-af82-a802d98317b4",
   "metadata": {},
   "outputs": [
    {
     "data": {
      "text/plain": [
       "462"
      ]
     },
     "execution_count": 35,
     "metadata": {},
     "output_type": "execute_result"
    }
   ],
   "source": [
    "len(test_eid_dict['eid_2_test'])"
   ]
  },
  {
   "cell_type": "code",
   "execution_count": 36,
   "id": "6f52050f-c380-44ef-858a-f406d692d896",
   "metadata": {},
   "outputs": [],
   "source": [
    "g_train = dgl.remove_edges(g, test_eid_dict['eid_2_test'], 'isSubstitutedBy')\n",
    "g_train = dgl.remove_edges(g_train, test_eid_dict['eid_2_test'], 'substitutes')"
   ]
  },
  {
   "cell_type": "code",
   "execution_count": 37,
   "id": "227bbce9-9c45-4177-9027-f1b6c27d1422",
   "metadata": {},
   "outputs": [
    {
     "data": {
      "text/plain": [
       "Graph(num_nodes={'Category': 13, 'Flavor': 272, 'Food': 9372, 'Ingredient': 125130, 'Nutrient': 63883, 'Product': 71777, 'Tag': 25},\n",
       "      num_edges={('Food', 'containsNutrient', 'Nutrient'): 300523, ('Food', 'hasFlavor', 'Flavor'): 11167, ('Food', 'hasTag', 'Tag'): 17746, ('Food', 'isInCategory', 'Category'): 1667, ('Food', 'isSubstitutedBy', 'Food'): 1379, ('Food', 'sameAs', 'Ingredient'): 681, ('Food', 'substitutes', 'Food'): 1379, ('Ingredient', 'sameAs', 'Food'): 681, ('Product', 'containsIngredient', 'Ingredient'): 890789},\n",
       "      metagraph=[('Food', 'Nutrient', 'containsNutrient'), ('Food', 'Flavor', 'hasFlavor'), ('Food', 'Tag', 'hasTag'), ('Food', 'Category', 'isInCategory'), ('Food', 'Food', 'isSubstitutedBy'), ('Food', 'Food', 'substitutes'), ('Food', 'Ingredient', 'sameAs'), ('Ingredient', 'Food', 'sameAs'), ('Product', 'Ingredient', 'containsIngredient')])"
      ]
     },
     "execution_count": 37,
     "metadata": {},
     "output_type": "execute_result"
    }
   ],
   "source": [
    "g_train"
   ]
  },
  {
   "cell_type": "code",
   "execution_count": 38,
   "id": "6252c58e-537a-42ee-9453-a21c49cd7afe",
   "metadata": {},
   "outputs": [
    {
     "data": {
      "text/plain": [
       "1379"
      ]
     },
     "execution_count": 38,
     "metadata": {},
     "output_type": "execute_result"
    }
   ],
   "source": [
    "g_train.number_of_edges('isSubstitutedBy')"
   ]
  },
  {
   "cell_type": "code",
   "execution_count": 39,
   "id": "be8b0e95-9187-45a8-8fd4-e1bfc87e6cc2",
   "metadata": {},
   "outputs": [
    {
     "data": {
      "text/plain": [
       "1379"
      ]
     },
     "execution_count": 39,
     "metadata": {},
     "output_type": "execute_result"
    }
   ],
   "source": [
    "g_train.number_of_edges('substitutes')"
   ]
  },
  {
   "cell_type": "code",
   "execution_count": 40,
   "id": "cdbd8447-91b6-4bb6-9b0c-b495059888ba",
   "metadata": {},
   "outputs": [],
   "source": [
    "g_test = dgl.remove_edges(g, train_eid_dict['eid_2_train'], 'isSubstitutedBy')\n",
    "g_test = dgl.remove_edges(g_test, train_eid_dict['eid_2_train'], 'substitutes')"
   ]
  },
  {
   "cell_type": "code",
   "execution_count": 41,
   "id": "77a5ba3e-9e79-410c-8c62-68b4df44d10c",
   "metadata": {},
   "outputs": [
    {
     "data": {
      "text/plain": [
       "Graph(num_nodes={'Category': 13, 'Flavor': 272, 'Food': 9372, 'Ingredient': 125130, 'Nutrient': 63883, 'Product': 71777, 'Tag': 25},\n",
       "      num_edges={('Food', 'containsNutrient', 'Nutrient'): 300523, ('Food', 'hasFlavor', 'Flavor'): 11167, ('Food', 'hasTag', 'Tag'): 17746, ('Food', 'isInCategory', 'Category'): 1667, ('Food', 'isSubstitutedBy', 'Food'): 462, ('Food', 'sameAs', 'Ingredient'): 681, ('Food', 'substitutes', 'Food'): 462, ('Ingredient', 'sameAs', 'Food'): 681, ('Product', 'containsIngredient', 'Ingredient'): 890789},\n",
       "      metagraph=[('Food', 'Nutrient', 'containsNutrient'), ('Food', 'Flavor', 'hasFlavor'), ('Food', 'Tag', 'hasTag'), ('Food', 'Category', 'isInCategory'), ('Food', 'Food', 'isSubstitutedBy'), ('Food', 'Food', 'substitutes'), ('Food', 'Ingredient', 'sameAs'), ('Ingredient', 'Food', 'sameAs'), ('Product', 'Ingredient', 'containsIngredient')])"
      ]
     },
     "execution_count": 41,
     "metadata": {},
     "output_type": "execute_result"
    }
   ],
   "source": [
    "g_test"
   ]
  },
  {
   "cell_type": "code",
   "execution_count": 42,
   "id": "0e37dd32-fbef-4357-a6ca-69221758d4cf",
   "metadata": {},
   "outputs": [
    {
     "data": {
      "text/plain": [
       "462"
      ]
     },
     "execution_count": 42,
     "metadata": {},
     "output_type": "execute_result"
    }
   ],
   "source": [
    "g_test.number_of_edges('isSubstitutedBy')"
   ]
  },
  {
   "cell_type": "code",
   "execution_count": 43,
   "id": "4b3e18c8-346a-4d2f-85e1-1ba72eafe866",
   "metadata": {},
   "outputs": [
    {
     "data": {
      "text/plain": [
       "462"
      ]
     },
     "execution_count": 43,
     "metadata": {},
     "output_type": "execute_result"
    }
   ],
   "source": [
    "g_test.number_of_edges('substitutes')"
   ]
  },
  {
   "cell_type": "markdown",
   "id": "b3d43774-c053-4a0b-bf5c-073a33a725fa",
   "metadata": {},
   "source": [
    "# 2) Train Model"
   ]
  },
  {
   "cell_type": "markdown",
   "id": "d7ffae4e-d9ce-4344-aa34-8f180e337bff",
   "metadata": {},
   "source": [
    "**Hetero-GCN**"
   ]
  },
  {
   "cell_type": "code",
   "execution_count": 44,
   "id": "687d8d44-eed7-4b3d-8dbc-c95021b4d8a4",
   "metadata": {},
   "outputs": [],
   "source": [
    "class HGCN(nn.Module):\n",
    "    def __init__(self, in_feats, hid_feats, out_feats, rel_names):\n",
    "        super().__init__()\n",
    "\n",
    "        self.conv1 = dglnn.HeteroGraphConv({\n",
    "            rel: dglnn.GraphConv(in_feats, hid_feats)\n",
    "            for rel in rel_names}, aggregate='sum')\n",
    "        self.conv2 = dglnn.HeteroGraphConv({\n",
    "            rel: dglnn.GraphConv(hid_feats, out_feats)\n",
    "            for rel in rel_names}, aggregate='sum')\n",
    "\n",
    "    def forward(self, graph, inputs):\n",
    "        # inputs are features/embeddings of nodes\n",
    "        h = self.conv1(graph, inputs)\n",
    "        h = {k: F.relu(v) for k, v in h.items()}\n",
    "        h = self.conv2(graph, h)\n",
    "        return h"
   ]
  },
  {
   "cell_type": "code",
   "execution_count": 45,
   "id": "76f58ff6-d1af-46af-993e-eeeeb47dd6d0",
   "metadata": {},
   "outputs": [],
   "source": [
    "class ModelHGCN(nn.Module):\n",
    "    def __init__(self, in_features, hidden_features, out_features, rel_names):\n",
    "        super().__init__()\n",
    "        self.sage = HGCN(in_features, hidden_features, out_features, rel_names)\n",
    "        self.pred = HeteroDotProductPredictor()\n",
    "    def forward(self, g, neg_g, x, etype):\n",
    "        h = self.sage(g, x)\n",
    "        return h, self.pred(g, h, etype), self.pred(neg_g, h, etype)"
   ]
  },
  {
   "cell_type": "markdown",
   "id": "6dc99578-fb56-4930-a1f4-1d1f26cda4a2",
   "metadata": {},
   "source": [
    "**Hetero-SAGE**"
   ]
  },
  {
   "cell_type": "code",
   "execution_count": 46,
   "id": "e8c59fd5-9758-45fc-86b1-d14b8ed50f05",
   "metadata": {},
   "outputs": [],
   "source": [
    "class HSAGE(nn.Module):\n",
    "    def __init__(self, in_feats, hid_feats, out_feats, rel_names):\n",
    "        super().__init__()\n",
    "\n",
    "        self.conv1 = dglnn.HeteroGraphConv({\n",
    "            rel: dglnn.SAGEConv(in_feats, hid_feats, 'mean')\n",
    "            for rel in rel_names}, aggregate='sum')\n",
    "        self.conv2 = dglnn.HeteroGraphConv({\n",
    "            rel: dglnn.SAGEConv(hid_feats, out_feats, 'mean')\n",
    "            for rel in rel_names}, aggregate='sum')\n",
    "\n",
    "    def forward(self, graph, inputs):\n",
    "        # inputs are features/embeddings of nodes\n",
    "        h = self.conv1(graph, inputs)\n",
    "        h = {k: F.relu(v) for k, v in h.items()}\n",
    "        h = self.conv2(graph, h)\n",
    "        return h"
   ]
  },
  {
   "cell_type": "code",
   "execution_count": 47,
   "id": "70281c65-4574-420b-a2f9-3dee4c16cfde",
   "metadata": {},
   "outputs": [],
   "source": [
    "class ModelHSAGE(nn.Module):\n",
    "    def __init__(self, in_features, hidden_features, out_features, rel_names):\n",
    "        super().__init__()\n",
    "        self.sage = HSAGE(in_features, hidden_features, out_features, rel_names)\n",
    "        self.pred = HeteroDotProductPredictor()\n",
    "    def forward(self, g, neg_g, x, etype):\n",
    "        h = self.sage(g, x)\n",
    "        return h, self.pred(g, h, etype), self.pred(neg_g, h, etype)"
   ]
  },
  {
   "cell_type": "code",
   "execution_count": 48,
   "id": "3781703d-d734-4832-ad92-3e8cb1b40b73",
   "metadata": {},
   "outputs": [],
   "source": [
    "def construct_negative_graph(graph, k, etype):\n",
    "    utype, _, vtype = etype\n",
    "    src, dst = graph.edges(etype=etype)\n",
    "    neg_src = src.repeat_interleave(k)\n",
    "    neg_dst = torch.randint(0, graph.number_of_nodes(vtype), (len(src) * k,))\n",
    "    return neg_src, neg_dst, dgl.heterograph({etype: (neg_src, neg_dst)}, num_nodes_dict={ntype: graph.number_of_nodes(ntype) for ntype in graph.ntypes})"
   ]
  },
  {
   "cell_type": "code",
   "execution_count": 49,
   "id": "96af9668-5b5f-429b-83b9-e50f80c047de",
   "metadata": {},
   "outputs": [],
   "source": [
    "class HeteroDotProductPredictor(nn.Module):\n",
    "    def forward(self, graph, h, etype):\n",
    "        with graph.local_scope():\n",
    "            graph.ndata['h'] = h\n",
    "            graph.apply_edges(fn.u_dot_v('h', 'h', 'score'), etype=etype)\n",
    "            return graph.edges[etype].data['score']"
   ]
  },
  {
   "cell_type": "code",
   "execution_count": 50,
   "id": "20aa34ae-8bbe-49cb-a8b3-0be06d291900",
   "metadata": {},
   "outputs": [],
   "source": [
    "def compute_loss(pos_score, neg_score):\n",
    "    n_edges = pos_score.shape[0]\n",
    "    return (1 - neg_score.view(n_edges, -1) + pos_score.unsqueeze(1)).clamp(min=0).mean()"
   ]
  },
  {
   "cell_type": "code",
   "execution_count": 51,
   "id": "ae42ffb9-2d2c-4954-892e-f391dd88cacb",
   "metadata": {},
   "outputs": [],
   "source": [
    "node_features = {}\n",
    "for node in g.ntypes:\n",
    "    node_features[node] = g.nodes[node].data['h'] "
   ]
  },
  {
   "cell_type": "code",
   "execution_count": 52,
   "id": "4cf572ab-8de5-47c2-8e62-1d1d43725500",
   "metadata": {},
   "outputs": [
    {
     "name": "stdout",
     "output_type": "stream",
     "text": [
      "In epoch 0, loss = 3.2184\n",
      "In epoch 100, loss = 0.6852\n",
      "In epoch 200, loss = 0.4605\n"
     ]
    }
   ],
   "source": [
    "if vModel == 'GCN':\n",
    "    model = ModelHGCN(n_input_feat, n_hidden_feat, n_output_feat, g.etypes)\n",
    "elif vModel == 'SAGE':\n",
    "    model = ModelHSAGE(n_input_feat, n_hidden_feat, n_output_feat, g.etypes)\n",
    "\n",
    "opt = torch.optim.Adam(model.parameters())\n",
    "for epoch in range(n_epochs):\n",
    "    \n",
    "    #forward\n",
    "    neg_src_train, neg_dst_train, negative_graph_train = construct_negative_graph(g_train, k, ('Food', 'isSubstitutedBy', 'Food'))\n",
    "    h_train, pos_score_train, neg_score_train = model(g_train, negative_graph_train, node_features, ('Food', 'isSubstitutedBy', 'Food'))\n",
    "    \n",
    "    #loss\n",
    "    loss = compute_loss(pos_score_train, neg_score_train)\n",
    "    \n",
    "    #backward\n",
    "    opt.zero_grad()\n",
    "    loss.backward()\n",
    "    opt.step()\n",
    "    \n",
    "    if epoch % 100 == 0:\n",
    "        print(f'In epoch {epoch}, loss = {loss.item():.4f}')"
   ]
  },
  {
   "cell_type": "markdown",
   "id": "eaf3d27b-9de4-4602-812b-9475123e23e3",
   "metadata": {},
   "source": [
    "# 3) Evaluate Model (based on positive edges that are in the test set)"
   ]
  },
  {
   "cell_type": "markdown",
   "id": "1ef8f625-477e-4045-8bb8-160a8b614351",
   "metadata": {},
   "source": [
    "https://github.com/dglai/WWW20-Hands-on-Tutorial/blob/master/basic_tasks/3_link_predict.ipynb"
   ]
  },
  {
   "cell_type": "code",
   "execution_count": 53,
   "id": "033770b1-4915-4673-b4a5-edf125d49023",
   "metadata": {},
   "outputs": [],
   "source": [
    "with torch.no_grad():\n",
    "    model.eval()\n",
    "    neg_src_test, neg_dst_test, negative_graph_test = construct_negative_graph(g_test, k, ('Food', 'isSubstitutedBy', 'Food'))\n",
    "    h_test, pos_score_test, neg_score_test = model(g_test, negative_graph_test, node_features, ('Food', 'isSubstitutedBy', 'Food'))\n",
    "    loss = compute_loss(pos_score_test, neg_score_test)"
   ]
  },
  {
   "cell_type": "code",
   "execution_count": 54,
   "id": "b76c6ac1-c025-48f5-adff-662c75470ca7",
   "metadata": {},
   "outputs": [],
   "source": [
    "# get postive test edges\n",
    "test_pos_u, test_pos_v = g_test['isSubstitutedBy'].edges()"
   ]
  },
  {
   "cell_type": "code",
   "execution_count": 55,
   "id": "8db7588e-84fb-4a93-95b1-5d2dbdbc7025",
   "metadata": {},
   "outputs": [],
   "source": [
    "# get predictions\n",
    "predictions_pos = torch.as_tensor(pos_score_test.reshape(pos_score_test.shape[0]))\n",
    "predictions_pos = torch.sigmoid(predictions_pos)"
   ]
  },
  {
   "cell_type": "code",
   "execution_count": 56,
   "id": "516b34e0-b957-4f3f-8172-11fff4d3ae75",
   "metadata": {},
   "outputs": [],
   "source": [
    "# get y_pred\n",
    "y_pred_pos = []\n",
    "for pred in predictions_pos:\n",
    "    if pred >= 0.5:\n",
    "        y_pred_pos.append(1)\n",
    "    else:\n",
    "        y_pred_pos.append(0)"
   ]
  },
  {
   "cell_type": "code",
   "execution_count": 57,
   "id": "c0ec3e02-4dcb-459c-a2fa-8ac00a5fac24",
   "metadata": {},
   "outputs": [],
   "source": [
    "# get y_true \n",
    "y_true_pos = torch.ones(len(pos_score_test))"
   ]
  },
  {
   "cell_type": "code",
   "execution_count": 58,
   "id": "36bd7740-41ea-492e-b7b0-dee08ff1d144",
   "metadata": {},
   "outputs": [],
   "source": [
    "from sklearn.metrics import accuracy_score, precision_score, recall_score, f1_score"
   ]
  },
  {
   "cell_type": "code",
   "execution_count": 59,
   "id": "d5703203-9f8d-41f6-a018-8a2e27c85178",
   "metadata": {},
   "outputs": [
    {
     "name": "stdout",
     "output_type": "stream",
     "text": [
      "Accuracy: 0.4675\n"
     ]
    }
   ],
   "source": [
    "print('Accuracy: %.4f' % accuracy_score(y_true_pos, y_pred_pos))"
   ]
  },
  {
   "cell_type": "code",
   "execution_count": 60,
   "id": "c7a77474-bcfc-4112-987e-5af14bdca82f",
   "metadata": {},
   "outputs": [
    {
     "name": "stdout",
     "output_type": "stream",
     "text": [
      "Precision: 1.0000\n"
     ]
    }
   ],
   "source": [
    "print('Precision: %.4f' % precision_score(y_true_pos, y_pred_pos))"
   ]
  },
  {
   "cell_type": "code",
   "execution_count": 61,
   "id": "ca723e60-3f50-4544-b6ee-da0e1ad2e078",
   "metadata": {},
   "outputs": [
    {
     "name": "stdout",
     "output_type": "stream",
     "text": [
      "Recall: 0.4675\n"
     ]
    }
   ],
   "source": [
    "print('Recall: %.4f' % recall_score(y_true_pos, y_pred_pos))"
   ]
  },
  {
   "cell_type": "code",
   "execution_count": 62,
   "id": "05bb50bc-8339-4839-b048-861aeb444259",
   "metadata": {},
   "outputs": [
    {
     "name": "stdout",
     "output_type": "stream",
     "text": [
      "F-1: 0.6372\n"
     ]
    }
   ],
   "source": [
    "print('F-1: %.4f' % f1_score(y_true_pos, y_pred_pos))"
   ]
  },
  {
   "cell_type": "code",
   "execution_count": 63,
   "id": "e8615ffe-05d2-49db-be15-c5b6ff3e88ac",
   "metadata": {},
   "outputs": [],
   "source": [
    "foods_2_test = pd.DataFrame()\n",
    "foods_2_test['id'] = le_food.inverse_transform(test_pos_u)\n",
    "foods_2_test.to_csv('../Output/foods_2_test.csv')"
   ]
  },
  {
   "cell_type": "markdown",
   "id": "e1b14c7a-26b4-4070-8f20-68b750fdff98",
   "metadata": {},
   "source": [
    "# 4) Save 'Food' Embeddings to RDF2Vec Format"
   ]
  },
  {
   "cell_type": "code",
   "execution_count": 64,
   "id": "df221574-0996-4880-8316-31546b0d3ddc",
   "metadata": {},
   "outputs": [],
   "source": [
    "foods = le_food.inverse_transform(g_test.nodes('Food')).tolist()"
   ]
  },
  {
   "cell_type": "code",
   "execution_count": 65,
   "id": "67c4e101-aef0-4a76-b0b4-7add44dd8029",
   "metadata": {},
   "outputs": [],
   "source": [
    "food_embeddings = dict(zip(foods, h_test['Food']))"
   ]
  },
  {
   "cell_type": "code",
   "execution_count": 77,
   "id": "c43ad741-c25c-4d7e-9f8c-3cb381b8ac66",
   "metadata": {},
   "outputs": [],
   "source": [
    "fw = open('../Output/food_embeddings.txt','w')\n",
    "fw.write(str(len(foods))+' '+str(len(h_test['Food'][0]))+'\\n')\n",
    "for food in foods:\n",
    "    fw.write(food+' ')\n",
    "    for i in range(len(h_test['Food'][0])):\n",
    "        value = str(food_embeddings[food][i].item()).strip()\n",
    "        fw.write(value+' ')\n",
    "    fw.write('\\n')"
   ]
  },
  {
   "cell_type": "markdown",
   "id": "52145095-6c9d-4351-9f16-de9a2f60f38b",
   "metadata": {},
   "source": [
    "# 5) Predict new links (based on negative edges that are in the train and test sets)"
   ]
  },
  {
   "cell_type": "code",
   "execution_count": 118,
   "id": "42118902-b52e-46a8-9ec0-5f9a358822b0",
   "metadata": {},
   "outputs": [],
   "source": [
    "df = pd.DataFrame()\n",
    "df['u'] = torch.cat([torch.as_tensor(neg_src_train), torch.as_tensor(neg_src_test)])\n",
    "df['v'] = torch.cat([torch.as_tensor(neg_dst_train), torch.as_tensor(neg_dst_test)])\n",
    "df['Food id'] = le_food.inverse_transform(df['u'])\n",
    "df['Substitution id'] = le_food.inverse_transform(df['v'])\n",
    "df['Scores'] = torch.cat([torch.as_tensor(neg_score_train), torch.as_tensor(neg_score_test)]).detach().numpy()\n",
    "df['Scores (Sigmoid)'] = torch.sigmoid(torch.cat([torch.as_tensor(neg_score_train), torch.as_tensor(neg_score_test)])).detach().numpy()"
   ]
  },
  {
   "cell_type": "markdown",
   "id": "b36a904c-ba0c-496d-9df4-655d11bdc1c8",
   "metadata": {},
   "source": [
    "**Get Food Labels**"
   ]
  },
  {
   "cell_type": "code",
   "execution_count": 119,
   "id": "99a1b1da-0790-45df-9917-da01f673bce2",
   "metadata": {},
   "outputs": [],
   "source": [
    "food_labels = pd.read_excel('../Input Data/ABBREV.xlsx', sheet_name='ABBREV')\n",
    "food_labels.NDB_No = 'http://idea.rpi.edu/heals/kb/usda#' + food_labels.NDB_No.astype(str).str.rjust(5,'0')\n",
    "food_2_label = dict()\n",
    "\n",
    "for i, row in food_labels.iterrows():\n",
    "    food = row['NDB_No']\n",
    "    label = row['Shrt_Desc']\n",
    "    food_2_label[food] = label"
   ]
  },
  {
   "cell_type": "code",
   "execution_count": 120,
   "id": "d05c01a2-e55a-4b6f-ae08-fcbc8e38a4a2",
   "metadata": {},
   "outputs": [],
   "source": [
    "food_labels = pd.read_excel('../Input Data/ABBREV.xlsx', sheet_name='ABBREV')"
   ]
  },
  {
   "cell_type": "markdown",
   "id": "208094df-0c74-4fb3-9cd9-628efde92c73",
   "metadata": {},
   "source": [
    "**Get Nutri-Values + Nutri-Scores**"
   ]
  },
  {
   "cell_type": "code",
   "execution_count": 121,
   "id": "4be98f90-4ea7-4e14-adf2-3ccd96b85bde",
   "metadata": {},
   "outputs": [],
   "source": [
    "nutri_scores = pd.read_csv('../Output/nutri_scores.csv')\n",
    "food_2_score = dict()\n",
    "\n",
    "for i, row in nutri_scores.iterrows():\n",
    "    food = row['NDB_No']\n",
    "    score = row['nutri_values']\n",
    "    food_2_score[food] = score"
   ]
  },
  {
   "cell_type": "markdown",
   "id": "7149736c-7c31-43e9-ad7d-39a4dedf3a7f",
   "metadata": {},
   "source": [
    "**Get Food Categories**"
   ]
  },
  {
   "cell_type": "code",
   "execution_count": 122,
   "id": "ba277444-66d6-45d2-9246-4b755c1f47d2",
   "metadata": {},
   "outputs": [],
   "source": [
    "food_cat = pd.read_csv('../Input Data/food_category.csv')\n",
    "food_cat['NDB_No'] = food_cat['NDB_No'].astype(str).str.rjust(5,'0')\n",
    "food_2_cat = dict()\n",
    "\n",
    "for i, row in food_cat.iterrows():\n",
    "    food = 'http://idea.rpi.edu/heals/kb/usda#' + row['NDB_No']\n",
    "    cat = row['FdGrp_Desc']\n",
    "    food_2_cat[food] = cat"
   ]
  },
  {
   "cell_type": "markdown",
   "id": "8fbb202d-ab6f-4fbe-ad34-7f09da3cb706",
   "metadata": {},
   "source": [
    "**Add Food Labels, Nutri-Values + Nutri-Scores, Food Categories**"
   ]
  },
  {
   "cell_type": "code",
   "execution_count": 123,
   "id": "85bf6e75-8734-458a-bd7f-82c60ac6cc62",
   "metadata": {},
   "outputs": [],
   "source": [
    "food_labels = []\n",
    "subs_labels = []\n",
    "food_scores = []\n",
    "subs_scores = []\n",
    "food_cat = []\n",
    "subs_cat = []\n",
    "\n",
    "for i, row in df.iterrows():\n",
    "    if(row['Food id'] in food_2_label.keys() and row['Substitution id'] in food_2_label.keys()):\n",
    "        food_labels.append(food_2_label[row['Food id']])\n",
    "        subs_labels.append(food_2_label[row['Substitution id']])\n",
    "    else:\n",
    "        food_labels.append('not found')\n",
    "        subs_labels.append('not found')\n",
    "    if(row['Food id'] in food_2_score.keys() and row['Substitution id'] in food_2_score.keys()):\n",
    "        food_scores.append(food_2_score[row['Food id']])\n",
    "        subs_scores.append(food_2_score[row['Substitution id']])\n",
    "    else:\n",
    "        food_scores.append(999)\n",
    "        subs_scores.append(999)\n",
    "    if(row['Food id'] in food_2_cat.keys() and row['Substitution id'] in food_2_cat.keys()):\n",
    "        food_cat.append(food_2_cat[row['Food id']])\n",
    "        subs_cat.append(food_2_cat[row['Substitution id']])\n",
    "    else:\n",
    "        food_cat.append('not found')\n",
    "        subs_cat.append('not found')\n",
    "        \n",
    "df['Food label'] = food_labels\n",
    "df['Substitution label'] = subs_labels\n",
    "df['Food Nutri-Value'] = food_scores\n",
    "df['Substitution Nutri-Value'] = subs_scores\n",
    "df['Food Category'] = food_cat\n",
    "df['Substitution Category'] = subs_cat"
   ]
  },
  {
   "cell_type": "markdown",
   "id": "0cb20538-27ff-4aca-adef-59cca86bb23e",
   "metadata": {},
   "source": [
    "**Filter out all substitutes which can't be found, which have a higher Nutri-Value than their query food, and which are not in the same food category than their query food**"
   ]
  },
  {
   "cell_type": "code",
   "execution_count": 124,
   "id": "182e739e-e636-4b3b-996a-e23e564afe82",
   "metadata": {},
   "outputs": [
    {
     "data": {
      "text/plain": [
       "9205"
      ]
     },
     "execution_count": 124,
     "metadata": {},
     "output_type": "execute_result"
    }
   ],
   "source": [
    "len(df)"
   ]
  },
  {
   "cell_type": "code",
   "execution_count": 125,
   "id": "83219f8b-6474-4f6a-b317-afeb42b90b33",
   "metadata": {},
   "outputs": [],
   "source": [
    "df = df[df['Food label'] != 'not found']\n",
    "df = df[df['Food Category'] != 'not found']"
   ]
  },
  {
   "cell_type": "code",
   "execution_count": 126,
   "id": "d9f2d821-c4bd-4659-b416-f00833774ff5",
   "metadata": {},
   "outputs": [
    {
     "data": {
      "text/plain": [
       "8250"
      ]
     },
     "execution_count": 126,
     "metadata": {},
     "output_type": "execute_result"
    }
   ],
   "source": [
    "len(df)"
   ]
  },
  {
   "cell_type": "code",
   "execution_count": 127,
   "id": "06869c61-110b-41de-b71c-6a584610409e",
   "metadata": {},
   "outputs": [],
   "source": [
    "df = df[df['Food Nutri-Value'] >= df['Substitution Nutri-Value']]"
   ]
  },
  {
   "cell_type": "code",
   "execution_count": 128,
   "id": "ea2473a2-a7c5-4af3-90a1-aed3861eb594",
   "metadata": {},
   "outputs": [
    {
     "data": {
      "text/plain": [
       "3533"
      ]
     },
     "execution_count": 128,
     "metadata": {},
     "output_type": "execute_result"
    }
   ],
   "source": [
    "len(df)"
   ]
  },
  {
   "cell_type": "code",
   "execution_count": 129,
   "id": "26ab6437-93bb-4b13-8982-156efcd98e59",
   "metadata": {},
   "outputs": [],
   "source": [
    "df = df[df['Food Category'] == df['Substitution Category']]"
   ]
  },
  {
   "cell_type": "markdown",
   "id": "476bdce4-ea17-42a5-959c-505a3b31fbc3",
   "metadata": {},
   "source": [
    "**Get final dataset, which will be labelled by our Nutri-Scholars**"
   ]
  },
  {
   "cell_type": "code",
   "execution_count": 130,
   "id": "fa817063-3a33-4aad-8e8d-a5372441e762",
   "metadata": {},
   "outputs": [
    {
     "data": {
      "text/plain": [
       "112"
      ]
     },
     "execution_count": 130,
     "metadata": {},
     "output_type": "execute_result"
    }
   ],
   "source": [
    "len(np.unique(df['Food id']))"
   ]
  },
  {
   "cell_type": "code",
   "execution_count": 131,
   "id": "f66278c5-b37b-460a-8fe8-b05a48f8014f",
   "metadata": {},
   "outputs": [],
   "source": [
    "df_results = pd.DataFrame()\n",
    "\n",
    "for food in np.unique(df['Food id']):\n",
    "    df_results = df_results.append(df[df['Food id'] == food].sort_values(by=['Scores (Sigmoid)']).head(1))\n",
    "    df_results = df_results.append(df[df['Food id'] == food].sort_values(by=['Substitution Nutri-Value']).head(1))"
   ]
  },
  {
   "cell_type": "code",
   "execution_count": 132,
   "id": "5ee73576-90e2-4249-86bd-bec629f92f93",
   "metadata": {},
   "outputs": [],
   "source": [
    "df_results = df_results[['Food label', 'Substitution label']]"
   ]
  },
  {
   "cell_type": "code",
   "execution_count": 133,
   "id": "37061b65-c841-4773-a534-0aba8344fa3a",
   "metadata": {},
   "outputs": [],
   "source": [
    "df_results.to_csv('../Output/results.csv')"
   ]
  },
  {
   "cell_type": "code",
   "execution_count": null,
   "id": "9bc92d6e-bde4-4336-ad5f-cf0be1b97738",
   "metadata": {},
   "outputs": [],
   "source": []
  }
 ],
 "metadata": {
  "kernelspec": {
   "display_name": "Python 3",
   "language": "python",
   "name": "python3"
  },
  "language_info": {
   "codemirror_mode": {
    "name": "ipython",
    "version": 3
   },
   "file_extension": ".py",
   "mimetype": "text/x-python",
   "name": "python",
   "nbconvert_exporter": "python",
   "pygments_lexer": "ipython3",
   "version": "3.8.8"
  }
 },
 "nbformat": 4,
 "nbformat_minor": 5
}
